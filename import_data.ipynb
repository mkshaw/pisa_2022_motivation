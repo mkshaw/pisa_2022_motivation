{
 "cells": [
  {
   "cell_type": "markdown",
   "id": "8edcc525-94d4-4958-b068-1e9a8ceeb70b",
   "metadata": {},
   "source": [
    "# Read and Process Data\n",
    "\n",
    "Our data are the 2022 PISA student responses from Canada and the United States. The data from PISA are for all countries and are in .sav form. The first steps in our analysis are reading and processing the data in the following stages:\n",
    "\n",
    "1. Read data in\n",
    "2. Filter to just US/Canada responses\n",
    "3. Filter to non-NA targets\n",
    "4. Calculate missingness proportions for our items of interest\n",
    "5. Perform imputation on missing values\n",
    "\n",
    "I performed actions 1 through 3 in RStudio locally, because the jupyter kernel could not handle the 1.9GB original file. The filtered USA/CAN file is around 3.1MB. "
   ]
  },
  {
   "cell_type": "markdown",
   "id": "d2fe79f3-ef34-4a4a-a0d6-6f7444f736b8",
   "metadata": {},
   "source": [
    "# Load Dependencies\n",
    "\n",
    "Note you may have to install some packages; check session info to see what we're running."
   ]
  },
  {
   "cell_type": "code",
   "execution_count": 1,
   "id": "34fd6b24-0162-44ae-bc2e-7d2276577861",
   "metadata": {},
   "outputs": [
    {
     "name": "stdout",
     "output_type": "stream",
     "text": [
      "\u001b[33mWARNING: Skipping /opt/conda/lib/python3.11/site-packages/nlopt-2.7.1.dist-info due to invalid metadata entry 'name'\u001b[0m\u001b[33m\n",
      "\u001b[0mRequirement already satisfied: pyreadstat in /opt/conda/lib/python3.11/site-packages (1.2.7)\n",
      "Requirement already satisfied: pandas>=1.2.0 in /opt/conda/lib/python3.11/site-packages (from pyreadstat) (2.1.4)\n",
      "Requirement already satisfied: numpy<2,>=1.23.2 in /opt/conda/lib/python3.11/site-packages (from pandas>=1.2.0->pyreadstat) (1.26.2)\n",
      "Requirement already satisfied: python-dateutil>=2.8.2 in /opt/conda/lib/python3.11/site-packages (from pandas>=1.2.0->pyreadstat) (2.8.2)\n",
      "Requirement already satisfied: pytz>=2020.1 in /opt/conda/lib/python3.11/site-packages (from pandas>=1.2.0->pyreadstat) (2023.3.post1)\n",
      "Requirement already satisfied: tzdata>=2022.1 in /opt/conda/lib/python3.11/site-packages (from pandas>=1.2.0->pyreadstat) (2023.3)\n",
      "Requirement already satisfied: six>=1.5 in /opt/conda/lib/python3.11/site-packages (from python-dateutil>=2.8.2->pandas>=1.2.0->pyreadstat) (1.16.0)\n",
      "\u001b[33mWARNING: Skipping /opt/conda/lib/python3.11/site-packages/nlopt-2.7.1.dist-info due to invalid metadata entry 'name'\u001b[0m\u001b[33m\n",
      "\u001b[0m\u001b[33mWARNING: Skipping /opt/conda/lib/python3.11/site-packages/nlopt-2.7.1.dist-info due to invalid metadata entry 'name'\u001b[0m\u001b[33m\n",
      "\u001b[0mRequirement already satisfied: session_info in /opt/conda/lib/python3.11/site-packages (1.0.0)\n",
      "Requirement already satisfied: stdlib-list in /opt/conda/lib/python3.11/site-packages (from session_info) (0.10.0)\n",
      "\u001b[33mWARNING: Skipping /opt/conda/lib/python3.11/site-packages/nlopt-2.7.1.dist-info due to invalid metadata entry 'name'\u001b[0m\u001b[33m\n",
      "\u001b[0m\u001b[33mWARNING: Skipping /opt/conda/lib/python3.11/site-packages/nlopt-2.7.1.dist-info due to invalid metadata entry 'name'\u001b[0m\u001b[33m\n",
      "\u001b[0mRequirement already satisfied: polars in /opt/conda/lib/python3.11/site-packages (0.20.16)\n",
      "\u001b[33mWARNING: Skipping /opt/conda/lib/python3.11/site-packages/nlopt-2.7.1.dist-info due to invalid metadata entry 'name'\u001b[0m\u001b[33m\n",
      "\u001b[0m\u001b[33mWARNING: Skipping /opt/conda/lib/python3.11/site-packages/nlopt-2.7.1.dist-info due to invalid metadata entry 'name'\u001b[0m\u001b[33m\n",
      "\u001b[0mRequirement already satisfied: fancyimpute in /opt/conda/lib/python3.11/site-packages (0.7.0)\n",
      "Requirement already satisfied: knnimpute>=0.1.0 in /opt/conda/lib/python3.11/site-packages (from fancyimpute) (0.1.0)\n",
      "Requirement already satisfied: scikit-learn>=0.24.2 in /opt/conda/lib/python3.11/site-packages (from fancyimpute) (1.3.2)\n",
      "Requirement already satisfied: cvxpy in /opt/conda/lib/python3.11/site-packages (from fancyimpute) (1.4.2)\n",
      "Requirement already satisfied: cvxopt in /opt/conda/lib/python3.11/site-packages (from fancyimpute) (0.0.0)\n",
      "Requirement already satisfied: pytest in /opt/conda/lib/python3.11/site-packages (from fancyimpute) (7.4.3)\n",
      "Requirement already satisfied: nose in /opt/conda/lib/python3.11/site-packages (from fancyimpute) (1.3.7)\n",
      "Requirement already satisfied: six in /opt/conda/lib/python3.11/site-packages (from knnimpute>=0.1.0->fancyimpute) (1.16.0)\n",
      "Requirement already satisfied: numpy>=1.10 in /opt/conda/lib/python3.11/site-packages (from knnimpute>=0.1.0->fancyimpute) (1.26.2)\n",
      "Requirement already satisfied: scipy>=1.5.0 in /opt/conda/lib/python3.11/site-packages (from scikit-learn>=0.24.2->fancyimpute) (1.11.4)\n",
      "Requirement already satisfied: joblib>=1.1.1 in /opt/conda/lib/python3.11/site-packages (from scikit-learn>=0.24.2->fancyimpute) (1.3.2)\n",
      "Requirement already satisfied: threadpoolctl>=2.0.0 in /opt/conda/lib/python3.11/site-packages (from scikit-learn>=0.24.2->fancyimpute) (3.2.0)\n",
      "Requirement already satisfied: osqp>=0.6.2 in /opt/conda/lib/python3.11/site-packages (from cvxpy->fancyimpute) (0.6.5)\n",
      "Requirement already satisfied: ecos>=2 in /opt/conda/lib/python3.11/site-packages (from cvxpy->fancyimpute) (2.0.13)\n",
      "Requirement already satisfied: clarabel>=0.5.0 in /opt/conda/lib/python3.11/site-packages (from cvxpy->fancyimpute) (0.7.1)\n",
      "Requirement already satisfied: scs>=3.0 in /opt/conda/lib/python3.11/site-packages (from cvxpy->fancyimpute) (3.2.4.post1)\n",
      "Requirement already satisfied: pybind11 in /opt/conda/lib/python3.11/site-packages (from cvxpy->fancyimpute) (2.11.1)\n",
      "Requirement already satisfied: iniconfig in /opt/conda/lib/python3.11/site-packages (from pytest->fancyimpute) (2.0.0)\n",
      "Requirement already satisfied: packaging in /opt/conda/lib/python3.11/site-packages (from pytest->fancyimpute) (23.2)\n",
      "Requirement already satisfied: pluggy<2.0,>=0.12 in /opt/conda/lib/python3.11/site-packages (from pytest->fancyimpute) (1.3.0)\n",
      "Requirement already satisfied: qdldl in /opt/conda/lib/python3.11/site-packages (from osqp>=0.6.2->cvxpy->fancyimpute) (0.1.7.post0)\n",
      "\u001b[33mWARNING: Skipping /opt/conda/lib/python3.11/site-packages/nlopt-2.7.1.dist-info due to invalid metadata entry 'name'\u001b[0m\u001b[33m\n",
      "\u001b[0m"
     ]
    }
   ],
   "source": [
    "# you might need to run these to install packages\n",
    "!pip install pyreadstat\n",
    "!pip install session_info\n",
    "!pip install polars"
   ]
  },
  {
   "cell_type": "code",
   "execution_count": 2,
   "id": "c7167d17-5b86-413f-a18a-14107fb5848c",
   "metadata": {},
   "outputs": [],
   "source": [
    "# import dependencies\n",
    "import session_info\n",
    "import numpy as np\n",
    "import pandas as pd\n",
    "import polars as pl"
   ]
  },
  {
   "cell_type": "code",
   "execution_count": 3,
   "id": "f5f9bc08-4be5-4025-81a1-823cd0c0bad1",
   "metadata": {},
   "outputs": [
    {
     "data": {
      "text/html": [
       "<details>\n",
       "<summary>Click to view session information</summary>\n",
       "<pre>\n",
       "-----\n",
       "fancyimpute         0.7.0\n",
       "numpy               1.26.2\n",
       "pandas              2.1.4\n",
       "polars              0.20.16\n",
       "session_info        1.0.0\n",
       "-----\n",
       "</pre>\n",
       "<details>\n",
       "<summary>Click to view modules imported as dependencies</summary>\n",
       "<pre>\n",
       "anyio                       NA\n",
       "arrow                       1.3.0\n",
       "asttokens                   NA\n",
       "attr                        23.1.0\n",
       "attrs                       23.1.0\n",
       "babel                       2.14.0\n",
       "bottleneck                  1.3.7\n",
       "brotli                      1.1.0\n",
       "certifi                     2023.11.17\n",
       "chardet                     5.2.0\n",
       "charset_normalizer          3.3.2\n",
       "clarabel                    0.7.1\n",
       "cloudpickle                 3.0.0\n",
       "colorama                    0.4.6\n",
       "comm                        0.1.4\n",
       "cvxopt                      1.3.2\n",
       "cvxpy                       1.4.2\n",
       "cython_runtime              NA\n",
       "dateutil                    2.8.2\n",
       "debugpy                     1.8.0\n",
       "decorator                   5.1.1\n",
       "ecos                        2.0.13\n",
       "executing                   2.0.1\n",
       "fastjsonschema              NA\n",
       "fqdn                        NA\n",
       "google                      NA\n",
       "idna                        3.6\n",
       "ipykernel                   6.26.0\n",
       "isoduration                 NA\n",
       "jedi                        0.19.1\n",
       "jinja2                      3.1.2\n",
       "joblib                      1.3.2\n",
       "json5                       NA\n",
       "jsonpointer                 2.4\n",
       "jsonschema                  4.20.0\n",
       "jsonschema_specifications   NA\n",
       "jupyter_events              0.9.0\n",
       "jupyter_server              2.12.1\n",
       "jupyterlab_server           2.24.0\n",
       "knnimpute                   0.1.0\n",
       "lz4                         4.3.2\n",
       "markupsafe                  2.1.3\n",
       "mpl_toolkits                NA\n",
       "nbformat                    5.9.2\n",
       "numexpr                     2.8.7\n",
       "osqp                        0.6.5\n",
       "overrides                   NA\n",
       "packaging                   23.2\n",
       "parso                       0.8.3\n",
       "pexpect                     4.8.0\n",
       "pickleshare                 0.7.5\n",
       "platformdirs                4.1.0\n",
       "prometheus_client           NA\n",
       "prompt_toolkit              3.0.42\n",
       "psutil                      5.9.5\n",
       "ptyprocess                  0.7.0\n",
       "pure_eval                   0.2.2\n",
       "pyarrow                     14.0.1\n",
       "pydev_ipython               NA\n",
       "pydevconsole                NA\n",
       "pydevd                      2.9.5\n",
       "pydevd_file_utils           NA\n",
       "pydevd_plugins              NA\n",
       "pydevd_tracing              NA\n",
       "pygments                    2.17.2\n",
       "pythonjsonlogger            NA\n",
       "pytz                        2023.3.post1\n",
       "qdldl                       NA\n",
       "referencing                 NA\n",
       "requests                    2.28.2\n",
       "rfc3339_validator           0.1.4\n",
       "rfc3986_validator           0.1.1\n",
       "rpds                        NA\n",
       "scipy                       1.11.4\n",
       "scs                         3.2.4\n",
       "send2trash                  NA\n",
       "simplejson                  3.19.2\n",
       "six                         1.16.0\n",
       "sklearn                     1.3.2\n",
       "sniffio                     1.3.0\n",
       "socks                       1.7.1\n",
       "sphinxcontrib               NA\n",
       "stack_data                  0.6.2\n",
       "swig_runtime_data4          NA\n",
       "threadpoolctl               3.2.0\n",
       "tornado                     6.3.3\n",
       "traitlets                   5.14.0\n",
       "typing_extensions           NA\n",
       "uri_template                NA\n",
       "urllib3                     1.26.18\n",
       "wcwidth                     0.2.12\n",
       "webcolors                   1.13\n",
       "websocket                   1.7.0\n",
       "yaml                        6.0.1\n",
       "zmq                         25.1.2\n",
       "</pre>\n",
       "</details> <!-- seems like this ends pre, so might as well be explicit -->\n",
       "<pre>\n",
       "-----\n",
       "IPython             8.18.1\n",
       "jupyter_client      8.6.0\n",
       "jupyter_core        5.5.0\n",
       "jupyterlab          4.0.9\n",
       "notebook            7.0.6\n",
       "-----\n",
       "Python 3.11.6 | packaged by conda-forge | (main, Oct  3 2023, 10:40:35) [GCC 12.3.0]\n",
       "Linux-3.10.0-1160.105.1.el7.x86_64-x86_64-with-glibc2.35\n",
       "-----\n",
       "Session information updated at 2024-03-19 21:29\n",
       "</pre>\n",
       "</details>"
      ],
      "text/plain": [
       "<IPython.core.display.HTML object>"
      ]
     },
     "execution_count": 3,
     "metadata": {},
     "output_type": "execute_result"
    }
   ],
   "source": [
    "# show session info\n",
    "session_info.show()"
   ]
  },
  {
   "cell_type": "markdown",
   "id": "d13ce8cd-4a33-48d0-94f9-d0b933874317",
   "metadata": {},
   "source": [
    "# Load and Inspect Data\n",
    "\n",
    "Recall that the data has already been filtered to only USA and CAN country codes."
   ]
  },
  {
   "cell_type": "code",
   "execution_count": 4,
   "id": "104e62b5-a29c-49e0-aeaf-5e0d7b771f6e",
   "metadata": {},
   "outputs": [],
   "source": [
    "dat = pl.read_csv(\"pisa2022_usacan.csv\", null_values = [\"NA\", \"null\"])"
   ]
  },
  {
   "cell_type": "code",
   "execution_count": 5,
   "id": "57b4e499-5bab-4d24-9c91-8ff04bb00cdb",
   "metadata": {},
   "outputs": [
    {
     "name": "stdout",
     "output_type": "stream",
     "text": [
      "shape: (5, 76)\n",
      "┌─────┬────────────┬───────┬───────────┬───┬────────────┬────────────┬────────────┬────────────┐\n",
      "│     ┆ ST352Q06JA ┆ AGE   ┆ ST004D01T ┆ … ┆ ST348Q05JA ┆ ST348Q06JA ┆ ST348Q07JA ┆ ST348Q08JA │\n",
      "│ --- ┆ ---        ┆ ---   ┆ ---       ┆   ┆ ---        ┆ ---        ┆ ---        ┆ ---        │\n",
      "│ i64 ┆ i64        ┆ f64   ┆ i64       ┆   ┆ i64        ┆ i64        ┆ i64        ┆ i64        │\n",
      "╞═════╪════════════╪═══════╪═══════════╪═══╪════════════╪════════════╪════════════╪════════════╡\n",
      "│ 1   ┆ 2          ┆ 15.58 ┆ 1         ┆ … ┆ 4          ┆ 3          ┆ null       ┆ null       │\n",
      "│ 2   ┆ 2          ┆ 16.17 ┆ 2         ┆ … ┆ null       ┆ 4          ┆ 4          ┆ 4          │\n",
      "│ 3   ┆ 4          ┆ 15.58 ┆ 2         ┆ … ┆ 3          ┆ 2          ┆ 2          ┆ 2          │\n",
      "│ 4   ┆ 4          ┆ 15.42 ┆ 2         ┆ … ┆ null       ┆ 1          ┆ null       ┆ 1          │\n",
      "│ 5   ┆ 2          ┆ 15.75 ┆ 2         ┆ … ┆ null       ┆ null       ┆ null       ┆ 2          │\n",
      "└─────┴────────────┴───────┴───────────┴───┴────────────┴────────────┴────────────┴────────────┘\n",
      "Data shape: (11181, 76)\n",
      "shape: (9, 77)\n",
      "┌───────────┬───────────┬───────────┬───────────┬───┬───────────┬───────────┬───────────┬──────────┐\n",
      "│ statistic ┆           ┆ ST352Q06J ┆ AGE       ┆ … ┆ ST348Q05J ┆ ST348Q06J ┆ ST348Q07J ┆ ST348Q08 │\n",
      "│ ---       ┆ ---       ┆ A         ┆ ---       ┆   ┆ A         ┆ A         ┆ A         ┆ JA       │\n",
      "│ str       ┆ f64       ┆ ---       ┆ f64       ┆   ┆ ---       ┆ ---       ┆ ---       ┆ ---      │\n",
      "│           ┆           ┆ f64       ┆           ┆   ┆ f64       ┆ f64       ┆ f64       ┆ f64      │\n",
      "╞═══════════╪═══════════╪═══════════╪═══════════╪═══╪═══════════╪═══════════╪═══════════╪══════════╡\n",
      "│ count     ┆ 11181.0   ┆ 11181.0   ┆ 11181.0   ┆ … ┆ 6856.0    ┆ 6827.0    ┆ 6834.0    ┆ 6866.0   │\n",
      "│ null_coun ┆ 0.0       ┆ 0.0       ┆ 0.0       ┆ … ┆ 4325.0    ┆ 4354.0    ┆ 4347.0    ┆ 4315.0   │\n",
      "│ t         ┆           ┆           ┆           ┆   ┆           ┆           ┆           ┆          │\n",
      "│ mean      ┆ 5591.0    ┆ 2.794204  ┆ 15.848894 ┆ … ┆ 3.242707  ┆ 3.075582  ┆ 2.365525  ┆ 2.075736 │\n",
      "│ std       ┆ 3227.8210 ┆ 1.084756  ┆ 0.284183  ┆ … ┆ 1.01327   ┆ 1.000513  ┆ 1.087085  ┆ 1.035468 │\n",
      "│           ┆ 14        ┆           ┆           ┆   ┆           ┆           ┆           ┆          │\n",
      "│ min       ┆ 1.0       ┆ 1.0       ┆ 15.33     ┆ … ┆ 1.0       ┆ 1.0       ┆ 1.0       ┆ 1.0      │\n",
      "│ 25%       ┆ 2796.0    ┆ 2.0       ┆ 15.58     ┆ … ┆ 3.0       ┆ 2.0       ┆ 1.0       ┆ 1.0      │\n",
      "│ 50%       ┆ 5591.0    ┆ 3.0       ┆ 15.83     ┆ … ┆ 4.0       ┆ 3.0       ┆ 2.0       ┆ 2.0      │\n",
      "│ 75%       ┆ 8386.0    ┆ 4.0       ┆ 16.08     ┆ … ┆ 4.0       ┆ 4.0       ┆ 3.0       ┆ 3.0      │\n",
      "│ max       ┆ 11181.0   ┆ 4.0       ┆ 16.42     ┆ … ┆ 4.0       ┆ 4.0       ┆ 4.0       ┆ 4.0      │\n",
      "└───────────┴───────────┴───────────┴───────────┴───┴───────────┴───────────┴───────────┴──────────┘\n",
      "['', 'ST352Q06JA', 'AGE', 'ST004D01T', 'DURECEC', 'REPEAT', 'MISSSC', 'SKIPPING', 'TARDYSD', 'EXPECEDU', 'SISCO', 'MATHMOT', 'MATHEASE', 'MATHPREF', 'EXERPRAC', 'STUDYHMW', 'WORKPAY', 'WORKHOME', 'INFOSEEK', 'BULLIED', 'FEELSAFE', 'TEACHSUP', 'RELATST', 'SCHRISK', 'BELONG', 'GROSAGR', 'ANXMAT', 'MATHEFF', 'MATHEF21', 'MATHPERS', 'FAMCON', 'ASSERAGR', 'COOPAGR', 'CURIOAGR', 'EMOCOAGR', 'EMPATAGR', 'PERSEVAGR', 'STRESAGR', 'FAMSUP', 'CREATFAM', 'CREATSCH', 'CREATEFF', 'CREATOP', 'IMAGINE', 'OPENART', 'CREATAS', 'CREATOOS', 'ESCS', 'ST352Q01JA', 'ST352Q02JA', 'ST352Q03JA', 'ST352Q04JA', 'ST352Q05JA', 'ST352Q07JA', 'ST352Q08JA', 'ST354Q02JA', 'ST354Q03JA', 'ST354Q07JA', 'ST354Q08JA', 'ST354Q09JA', 'ST353Q01JA', 'ST353Q02JA', 'ST353Q03JA', 'ST353Q04JA', 'ST353Q05JA', 'ST353Q06JA', 'ST353Q07JA', 'ST353Q08JA', 'ST348Q01JA', 'ST348Q02JA', 'ST348Q03JA', 'ST348Q04JA', 'ST348Q05JA', 'ST348Q06JA', 'ST348Q07JA', 'ST348Q08JA']\n"
     ]
    }
   ],
   "source": [
    "# Explore data\n",
    "print(dat.head())\n",
    "print(f'Data shape: {dat.shape}')\n",
    "print(dat.describe())\n",
    "print(dat.columns)"
   ]
  },
  {
   "cell_type": "code",
   "execution_count": 6,
   "id": "cc04fade-f18e-4a57-a78f-c19678a7f868",
   "metadata": {},
   "outputs": [
    {
     "name": "stdout",
     "output_type": "stream",
     "text": [
      "Non-null values for outcome: 11181\n"
     ]
    }
   ],
   "source": [
    "# number of NA values for outcome\n",
    "print(f'Non-null values for outcome: {len(dat[\"ST352Q06JA\"])}')"
   ]
  },
  {
   "cell_type": "markdown",
   "id": "c92bf2be-2da9-45e9-879d-8c1f7cb1f74f",
   "metadata": {},
   "source": [
    "# Handling Feature Missingness\n",
    "\n",
    "In the R script, we filtered our target to non-null values. We did not handle feature missingness, however. First, we report the missingness for each of our features, then conduct mean imputation using the `polars` function `fill_null()`."
   ]
  },
  {
   "cell_type": "code",
   "execution_count": 7,
   "id": "f0bdeb31-c10a-4256-8e4d-d15156758d4e",
   "metadata": {},
   "outputs": [
    {
     "name": "stdout",
     "output_type": "stream",
     "text": [
      "<bound method DataFrame.describe of shape: (11_181, 76)\n",
      "┌───────┬────────────┬───────┬───────────┬───┬────────────┬────────────┬────────────┬────────────┐\n",
      "│       ┆ ST352Q06JA ┆ AGE   ┆ ST004D01T ┆ … ┆ ST348Q05JA ┆ ST348Q06JA ┆ ST348Q07JA ┆ ST348Q08JA │\n",
      "│ ---   ┆ ---        ┆ ---   ┆ ---       ┆   ┆ ---        ┆ ---        ┆ ---        ┆ ---        │\n",
      "│ i64   ┆ i64        ┆ f64   ┆ i64       ┆   ┆ i64        ┆ i64        ┆ i64        ┆ i64        │\n",
      "╞═══════╪════════════╪═══════╪═══════════╪═══╪════════════╪════════════╪════════════╪════════════╡\n",
      "│ 1     ┆ 2          ┆ 15.58 ┆ 1         ┆ … ┆ 4          ┆ 3          ┆ null       ┆ null       │\n",
      "│ 2     ┆ 2          ┆ 16.17 ┆ 2         ┆ … ┆ null       ┆ 4          ┆ 4          ┆ 4          │\n",
      "│ 3     ┆ 4          ┆ 15.58 ┆ 2         ┆ … ┆ 3          ┆ 2          ┆ 2          ┆ 2          │\n",
      "│ 4     ┆ 4          ┆ 15.42 ┆ 2         ┆ … ┆ null       ┆ 1          ┆ null       ┆ 1          │\n",
      "│ 5     ┆ 2          ┆ 15.75 ┆ 2         ┆ … ┆ null       ┆ null       ┆ null       ┆ 2          │\n",
      "│ …     ┆ …          ┆ …     ┆ …         ┆ … ┆ …          ┆ …          ┆ …          ┆ …          │\n",
      "│ 11177 ┆ 4          ┆ 15.67 ┆ 1         ┆ … ┆ null       ┆ 3          ┆ null       ┆ 2          │\n",
      "│ 11178 ┆ 2          ┆ 16.17 ┆ 2         ┆ … ┆ 4          ┆ 4          ┆ 4          ┆ null       │\n",
      "│ 11179 ┆ 4          ┆ 16.0  ┆ 2         ┆ … ┆ null       ┆ 1          ┆ null       ┆ 1          │\n",
      "│ 11180 ┆ 4          ┆ 16.33 ┆ 1         ┆ … ┆ 4          ┆ null       ┆ null       ┆ 1          │\n",
      "│ 11181 ┆ 3          ┆ 16.33 ┆ 1         ┆ … ┆ 4          ┆ null       ┆ null       ┆ null       │\n",
      "└───────┴────────────┴───────┴───────────┴───┴────────────┴────────────┴────────────┴────────────┘>\n"
     ]
    },
    {
     "data": {
      "text/html": [
       "<div><style>\n",
       ".dataframe > thead > tr,\n",
       ".dataframe > tbody > tr {\n",
       "  text-align: right;\n",
       "  white-space: pre-wrap;\n",
       "}\n",
       "</style>\n",
       "<small>shape: (1, 76)</small><table border=\"1\" class=\"dataframe\"><thead><tr><th></th><th>ST352Q06JA</th><th>AGE</th><th>ST004D01T</th><th>DURECEC</th><th>REPEAT</th><th>MISSSC</th><th>SKIPPING</th><th>TARDYSD</th><th>EXPECEDU</th><th>SISCO</th><th>MATHMOT</th><th>MATHEASE</th><th>MATHPREF</th><th>EXERPRAC</th><th>STUDYHMW</th><th>WORKPAY</th><th>WORKHOME</th><th>INFOSEEK</th><th>BULLIED</th><th>FEELSAFE</th><th>TEACHSUP</th><th>RELATST</th><th>SCHRISK</th><th>BELONG</th><th>GROSAGR</th><th>ANXMAT</th><th>MATHEFF</th><th>MATHEF21</th><th>MATHPERS</th><th>FAMCON</th><th>ASSERAGR</th><th>COOPAGR</th><th>CURIOAGR</th><th>EMOCOAGR</th><th>EMPATAGR</th><th>PERSEVAGR</th><th>&hellip;</th><th>CREATFAM</th><th>CREATSCH</th><th>CREATEFF</th><th>CREATOP</th><th>IMAGINE</th><th>OPENART</th><th>CREATAS</th><th>CREATOOS</th><th>ESCS</th><th>ST352Q01JA</th><th>ST352Q02JA</th><th>ST352Q03JA</th><th>ST352Q04JA</th><th>ST352Q05JA</th><th>ST352Q07JA</th><th>ST352Q08JA</th><th>ST354Q02JA</th><th>ST354Q03JA</th><th>ST354Q07JA</th><th>ST354Q08JA</th><th>ST354Q09JA</th><th>ST353Q01JA</th><th>ST353Q02JA</th><th>ST353Q03JA</th><th>ST353Q04JA</th><th>ST353Q05JA</th><th>ST353Q06JA</th><th>ST353Q07JA</th><th>ST353Q08JA</th><th>ST348Q01JA</th><th>ST348Q02JA</th><th>ST348Q03JA</th><th>ST348Q04JA</th><th>ST348Q05JA</th><th>ST348Q06JA</th><th>ST348Q07JA</th><th>ST348Q08JA</th></tr><tr><td>u32</td><td>u32</td><td>u32</td><td>u32</td><td>u32</td><td>u32</td><td>u32</td><td>u32</td><td>u32</td><td>u32</td><td>u32</td><td>u32</td><td>u32</td><td>u32</td><td>u32</td><td>u32</td><td>u32</td><td>u32</td><td>u32</td><td>u32</td><td>u32</td><td>u32</td><td>u32</td><td>u32</td><td>u32</td><td>u32</td><td>u32</td><td>u32</td><td>u32</td><td>u32</td><td>u32</td><td>u32</td><td>u32</td><td>u32</td><td>u32</td><td>u32</td><td>u32</td><td>&hellip;</td><td>u32</td><td>u32</td><td>u32</td><td>u32</td><td>u32</td><td>u32</td><td>u32</td><td>u32</td><td>u32</td><td>u32</td><td>u32</td><td>u32</td><td>u32</td><td>u32</td><td>u32</td><td>u32</td><td>u32</td><td>u32</td><td>u32</td><td>u32</td><td>u32</td><td>u32</td><td>u32</td><td>u32</td><td>u32</td><td>u32</td><td>u32</td><td>u32</td><td>u32</td><td>u32</td><td>u32</td><td>u32</td><td>u32</td><td>u32</td><td>u32</td><td>u32</td><td>u32</td></tr></thead><tbody><tr><td>0</td><td>0</td><td>0</td><td>22</td><td>2964</td><td>69</td><td>78</td><td>97</td><td>140</td><td>540</td><td>625</td><td>97</td><td>107</td><td>93</td><td>43</td><td>42</td><td>80</td><td>59</td><td>182</td><td>66</td><td>44</td><td>9140</td><td>9126</td><td>9126</td><td>86</td><td>11181</td><td>162</td><td>163</td><td>240</td><td>180</td><td>183</td><td>2289</td><td>2227</td><td>2287</td><td>2263</td><td>2255</td><td>2259</td><td>&hellip;</td><td>11181</td><td>11181</td><td>11181</td><td>11181</td><td>11181</td><td>11181</td><td>11181</td><td>11181</td><td>34</td><td>4798</td><td>4861</td><td>4788</td><td>4812</td><td>4839</td><td>4799</td><td>4887</td><td>5717</td><td>5723</td><td>5704</td><td>5773</td><td>5744</td><td>4316</td><td>4345</td><td>4264</td><td>4265</td><td>4273</td><td>4463</td><td>4406</td><td>4273</td><td>4373</td><td>4340</td><td>4328</td><td>4283</td><td>4325</td><td>4354</td><td>4347</td><td>4315</td></tr></tbody></table></div>"
      ],
      "text/plain": [
       "shape: (1, 76)\n",
       "┌─────┬────────────┬─────┬───────────┬───┬────────────┬────────────┬────────────┬────────────┐\n",
       "│     ┆ ST352Q06JA ┆ AGE ┆ ST004D01T ┆ … ┆ ST348Q05JA ┆ ST348Q06JA ┆ ST348Q07JA ┆ ST348Q08JA │\n",
       "│ --- ┆ ---        ┆ --- ┆ ---       ┆   ┆ ---        ┆ ---        ┆ ---        ┆ ---        │\n",
       "│ u32 ┆ u32        ┆ u32 ┆ u32       ┆   ┆ u32        ┆ u32        ┆ u32        ┆ u32        │\n",
       "╞═════╪════════════╪═════╪═══════════╪═══╪════════════╪════════════╪════════════╪════════════╡\n",
       "│ 0   ┆ 0          ┆ 0   ┆ 22        ┆ … ┆ 4325       ┆ 4354       ┆ 4347       ┆ 4315       │\n",
       "└─────┴────────────┴─────┴───────────┴───┴────────────┴────────────┴────────────┴────────────┘"
      ]
     },
     "execution_count": 7,
     "metadata": {},
     "output_type": "execute_result"
    }
   ],
   "source": [
    "# First, let's look at the data types\n",
    "print(dat.describe)\n",
    "\n",
    "# Extract the rows that are totally null\n",
    "nulls = dat.null_count()\n",
    "nulls"
   ]
  },
  {
   "cell_type": "code",
   "execution_count": 8,
   "id": "6398dadb-d0b4-4901-bd67-cbeb90ac7f15",
   "metadata": {},
   "outputs": [
    {
     "data": {
      "text/plain": [
       "{'': [0.0],\n",
       " 'ST352Q06JA': [0.0],\n",
       " 'AGE': [0.0],\n",
       " 'ST004D01T': [0.0019676236472587426],\n",
       " 'DURECEC': [0.2650925677488597],\n",
       " 'REPEAT': [0.006171183257311511],\n",
       " 'MISSSC': [0.00697612020391736],\n",
       " 'SKIPPING': [0.008675431535640819],\n",
       " 'TARDYSD': [0.012521241391646544],\n",
       " 'EXPECEDU': [0.04829621679635095],\n",
       " 'SISCO': [0.05589839906985064],\n",
       " 'MATHMOT': [0.008675431535640819],\n",
       " 'MATHEASE': [0.00956980592075843],\n",
       " 'MATHPREF': [0.008317681781593774],\n",
       " 'EXERPRAC': [0.003845809856005724],\n",
       " 'STUDYHMW': [0.003756372417493963],\n",
       " 'WORKPAY': [0.0071549950809408815],\n",
       " 'WORKHOME': [0.0052768088721939005],\n",
       " 'INFOSEEK': [0.016277613809140508],\n",
       " 'BULLIED': [0.0059028709417762275],\n",
       " 'FEELSAFE': [0.003935247294517485],\n",
       " 'TEACHSUP': [0.8174581879974957],\n",
       " 'RELATST': [0.816206063858331],\n",
       " 'SCHRISK': [0.816206063858331],\n",
       " 'BELONG': [0.007691619712011448],\n",
       " 'GROSAGR': [1.0],\n",
       " 'ANXMAT': [0.014488865038905285],\n",
       " 'MATHEFF': [0.014578302477417046],\n",
       " 'MATHEF21': [0.021464985242822646],\n",
       " 'MATHPERS': [0.016098738932116986],\n",
       " 'FAMCON': [0.016367051247652267],\n",
       " 'ASSERAGR': [0.204722296753421],\n",
       " 'COOPAGR': [0.1991771755656918],\n",
       " 'CURIOAGR': [0.20454342187639746],\n",
       " 'EMOCOAGR': [0.2023969233521152],\n",
       " 'EMPATAGR': [0.2016814238440211],\n",
       " 'PERSEVAGR': [0.20203917359806814],\n",
       " 'STRESAGR': [0.2060638583310974],\n",
       " 'FAMSUP': [0.011000804936946607],\n",
       " 'CREATFAM': [1.0],\n",
       " 'CREATSCH': [1.0],\n",
       " 'CREATEFF': [1.0],\n",
       " 'CREATOP': [1.0],\n",
       " 'IMAGINE': [1.0],\n",
       " 'OPENART': [1.0],\n",
       " 'CREATAS': [1.0],\n",
       " 'CREATOOS': [1.0],\n",
       " 'ESCS': [0.003040872909399875],\n",
       " 'ST352Q01JA': [0.4291208299794294],\n",
       " 'ST352Q02JA': [0.4347553886056703],\n",
       " 'ST352Q03JA': [0.4282264555943118],\n",
       " 'ST352Q04JA': [0.43037295411859405],\n",
       " 'ST352Q05JA': [0.4327877649584116],\n",
       " 'ST352Q07JA': [0.42921026741794116],\n",
       " 'ST352Q08JA': [0.4370807620069761],\n",
       " 'ST354Q02JA': [0.5113138359717377],\n",
       " 'ST354Q03JA': [0.5118504606028084],\n",
       " 'ST354Q07JA': [0.5101511492710848],\n",
       " 'ST354Q08JA': [0.5163223325283964],\n",
       " 'ST354Q09JA': [0.5137286468115553],\n",
       " 'ST353Q01JA': [0.38601198461676056],\n",
       " 'ST353Q02JA': [0.38860567033360166],\n",
       " 'ST353Q03JA': [0.381361237814149],\n",
       " 'ST353Q04JA': [0.38145067525266074],\n",
       " 'ST353Q05JA': [0.3821661747607549],\n",
       " 'ST353Q06JA': [0.39915928807798945],\n",
       " 'ST353Q07JA': [0.39406135408281906],\n",
       " 'ST353Q08JA': [0.3821661747607549],\n",
       " 'ST348Q01JA': [0.39110991861193095],\n",
       " 'ST348Q02JA': [0.38815848314104284],\n",
       " 'ST348Q03JA': [0.3870852338789017],\n",
       " 'ST348Q04JA': [0.38306054914587245],\n",
       " 'ST348Q05JA': [0.38681692156336644],\n",
       " 'ST348Q06JA': [0.3894106072802075],\n",
       " 'ST348Q07JA': [0.38878454521062517],\n",
       " 'ST348Q08JA': [0.3859225471782488]}"
      ]
     },
     "execution_count": 8,
     "metadata": {},
     "output_type": "execute_result"
    }
   ],
   "source": [
    "# calculate the proportion of missingness\n",
    "proportion_missing = {col: [nulls[col][0] / len(dat)] for col in dat.columns}\n",
    "proportion_missing"
   ]
  },
  {
   "cell_type": "code",
   "execution_count": 9,
   "id": "43987487-c498-47f1-882c-b118b114a1df",
   "metadata": {},
   "outputs": [
    {
     "name": "stdout",
     "output_type": "stream",
     "text": [
      "['GROSAGR', 'CREATFAM', 'CREATSCH', 'CREATEFF', 'CREATOP', 'IMAGINE', 'OPENART', 'CREATAS', 'CREATOOS']\n"
     ]
    }
   ],
   "source": [
    "# create list of totally missing variables\n",
    "totally_missing = []\n",
    "\n",
    "# extract the keys (features) with totally missing data\n",
    "for k in proportion_missing.keys():\n",
    "    if proportion_missing[k][0] == 1.0:\n",
    "        totally_missing.append(k)\n",
    "\n",
    "# totally_missing = [key for key in proportion_missing if proportion_missing[key] == 1.0]\n",
    "print(totally_missing)"
   ]
  },
  {
   "cell_type": "code",
   "execution_count": 10,
   "id": "c9be9960-a633-4a95-a332-856f0020cfe6",
   "metadata": {},
   "outputs": [
    {
     "data": {
      "text/plain": [
       "OrderedDict([('', Int64),\n",
       "             ('ST352Q06JA', Int64),\n",
       "             ('AGE', Float64),\n",
       "             ('ST004D01T', Int64),\n",
       "             ('DURECEC', Int64),\n",
       "             ('REPEAT', Int64),\n",
       "             ('MISSSC', Int64),\n",
       "             ('SKIPPING', Int64),\n",
       "             ('TARDYSD', Int64),\n",
       "             ('EXPECEDU', Int64),\n",
       "             ('SISCO', Int64),\n",
       "             ('MATHMOT', Int64),\n",
       "             ('MATHEASE', Int64),\n",
       "             ('MATHPREF', Int64),\n",
       "             ('EXERPRAC', Int64),\n",
       "             ('STUDYHMW', Int64),\n",
       "             ('WORKPAY', Int64),\n",
       "             ('WORKHOME', Int64),\n",
       "             ('INFOSEEK', Float64),\n",
       "             ('BULLIED', Float64),\n",
       "             ('FEELSAFE', Float64),\n",
       "             ('TEACHSUP', String),\n",
       "             ('RELATST', String),\n",
       "             ('SCHRISK', String),\n",
       "             ('BELONG', Float64),\n",
       "             ('ANXMAT', Float64),\n",
       "             ('MATHEFF', Float64),\n",
       "             ('MATHEF21', Float64),\n",
       "             ('MATHPERS', Float64),\n",
       "             ('FAMCON', Float64),\n",
       "             ('ASSERAGR', Float64),\n",
       "             ('COOPAGR', Float64),\n",
       "             ('CURIOAGR', Float64),\n",
       "             ('EMOCOAGR', Float64),\n",
       "             ('EMPATAGR', Float64),\n",
       "             ('PERSEVAGR', Float64),\n",
       "             ('STRESAGR', Float64),\n",
       "             ('FAMSUP', Float64),\n",
       "             ('ESCS', Float64),\n",
       "             ('ST352Q01JA', Int64),\n",
       "             ('ST352Q02JA', Int64),\n",
       "             ('ST352Q03JA', Int64),\n",
       "             ('ST352Q04JA', Int64),\n",
       "             ('ST352Q05JA', Int64),\n",
       "             ('ST352Q07JA', Int64),\n",
       "             ('ST352Q08JA', Int64),\n",
       "             ('ST354Q02JA', Int64),\n",
       "             ('ST354Q03JA', Int64),\n",
       "             ('ST354Q07JA', Int64),\n",
       "             ('ST354Q08JA', Int64),\n",
       "             ('ST354Q09JA', Int64),\n",
       "             ('ST353Q01JA', Int64),\n",
       "             ('ST353Q02JA', Int64),\n",
       "             ('ST353Q03JA', Int64),\n",
       "             ('ST353Q04JA', Int64),\n",
       "             ('ST353Q05JA', Int64),\n",
       "             ('ST353Q06JA', Int64),\n",
       "             ('ST353Q07JA', Int64),\n",
       "             ('ST353Q08JA', Int64),\n",
       "             ('ST348Q01JA', Int64),\n",
       "             ('ST348Q02JA', Int64),\n",
       "             ('ST348Q03JA', Int64),\n",
       "             ('ST348Q04JA', Int64),\n",
       "             ('ST348Q05JA', Int64),\n",
       "             ('ST348Q06JA', Int64),\n",
       "             ('ST348Q07JA', Int64),\n",
       "             ('ST348Q08JA', Int64)])"
      ]
     },
     "execution_count": 10,
     "metadata": {},
     "output_type": "execute_result"
    }
   ],
   "source": [
    "# filter out totally missing variables\n",
    "dat_nomiss = dat.drop(totally_missing)\n",
    "\n",
    "# examine data types\n",
    "dat_nomiss.schema"
   ]
  },
  {
   "cell_type": "markdown",
   "id": "5b39a8fe-06a0-486d-8e1d-b3e762693299",
   "metadata": {},
   "source": [
    "`TEACHSUP`, `RELATST`, and `SCHRISK` are all string variables. Let's examine those columns."
   ]
  },
  {
   "cell_type": "code",
   "execution_count": 11,
   "id": "b7a5105d-6d70-4fce-911a-1b299ceaa228",
   "metadata": {},
   "outputs": [
    {
     "data": {
      "text/html": [
       "<div><style>\n",
       ".dataframe > thead > tr,\n",
       ".dataframe > tbody > tr {\n",
       "  text-align: right;\n",
       "  white-space: pre-wrap;\n",
       "}\n",
       "</style>\n",
       "<small>shape: (11_181, 3)</small><table border=\"1\" class=\"dataframe\"><thead><tr><th>TEACHSUP</th><th>RELATST</th><th>SCHRISK</th></tr><tr><td>str</td><td>str</td><td>str</td></tr></thead><tbody><tr><td>null</td><td>null</td><td>null</td></tr><tr><td>null</td><td>null</td><td>null</td></tr><tr><td>null</td><td>null</td><td>null</td></tr><tr><td>null</td><td>null</td><td>null</td></tr><tr><td>null</td><td>null</td><td>null</td></tr><tr><td>&hellip;</td><td>&hellip;</td><td>&hellip;</td></tr><tr><td>&quot;0.8211&quot;</td><td>&quot;0.4368&quot;</td><td>&quot;-0.6386&quot;</td></tr><tr><td>&quot;-0.5635&quot;</td><td>&quot;-0.2755&quot;</td><td>&quot;1.2046&quot;</td></tr><tr><td>&quot;0.4357&quot;</td><td>&quot;-0.257&quot;</td><td>&quot;1.6441&quot;</td></tr><tr><td>&quot;-0.8059&quot;</td><td>&quot;-0.6187&quot;</td><td>&quot;-0.6386&quot;</td></tr><tr><td>&quot;1.5558&quot;</td><td>&quot;2.2561&quot;</td><td>&quot;-0.6386&quot;</td></tr></tbody></table></div>"
      ],
      "text/plain": [
       "shape: (11_181, 3)\n",
       "┌──────────┬─────────┬─────────┐\n",
       "│ TEACHSUP ┆ RELATST ┆ SCHRISK │\n",
       "│ ---      ┆ ---     ┆ ---     │\n",
       "│ str      ┆ str     ┆ str     │\n",
       "╞══════════╪═════════╪═════════╡\n",
       "│ null     ┆ null    ┆ null    │\n",
       "│ null     ┆ null    ┆ null    │\n",
       "│ null     ┆ null    ┆ null    │\n",
       "│ null     ┆ null    ┆ null    │\n",
       "│ null     ┆ null    ┆ null    │\n",
       "│ …        ┆ …       ┆ …       │\n",
       "│ 0.8211   ┆ 0.4368  ┆ -0.6386 │\n",
       "│ -0.5635  ┆ -0.2755 ┆ 1.2046  │\n",
       "│ 0.4357   ┆ -0.257  ┆ 1.6441  │\n",
       "│ -0.8059  ┆ -0.6187 ┆ -0.6386 │\n",
       "│ 1.5558   ┆ 2.2561  ┆ -0.6386 │\n",
       "└──────────┴─────────┴─────────┘"
      ]
     },
     "execution_count": 11,
     "metadata": {},
     "output_type": "execute_result"
    }
   ],
   "source": [
    "dat_nomiss[[\"TEACHSUP\", \"RELATST\", \"SCHRISK\"]]"
   ]
  },
  {
   "cell_type": "markdown",
   "id": "6d22a5b8-ce90-4358-aae1-83114e48f1b7",
   "metadata": {},
   "source": [
    "Okay, so they're accidentally strings, let's convert them to floats."
   ]
  },
  {
   "cell_type": "code",
   "execution_count": 12,
   "id": "dfea0425-247b-4679-89ea-20907bf33815",
   "metadata": {},
   "outputs": [
    {
     "data": {
      "text/plain": [
       "OrderedDict([('', Int64),\n",
       "             ('ST352Q06JA', Int64),\n",
       "             ('AGE', Float64),\n",
       "             ('ST004D01T', Int64),\n",
       "             ('DURECEC', Int64),\n",
       "             ('REPEAT', Int64),\n",
       "             ('MISSSC', Int64),\n",
       "             ('SKIPPING', Int64),\n",
       "             ('TARDYSD', Int64),\n",
       "             ('EXPECEDU', Int64),\n",
       "             ('SISCO', Int64),\n",
       "             ('MATHMOT', Int64),\n",
       "             ('MATHEASE', Int64),\n",
       "             ('MATHPREF', Int64),\n",
       "             ('EXERPRAC', Int64),\n",
       "             ('STUDYHMW', Int64),\n",
       "             ('WORKPAY', Int64),\n",
       "             ('WORKHOME', Int64),\n",
       "             ('INFOSEEK', Float64),\n",
       "             ('BULLIED', Float64),\n",
       "             ('FEELSAFE', Float64),\n",
       "             ('TEACHSUP', Float64),\n",
       "             ('RELATST', Float64),\n",
       "             ('SCHRISK', Float64),\n",
       "             ('BELONG', Float64),\n",
       "             ('ANXMAT', Float64),\n",
       "             ('MATHEFF', Float64),\n",
       "             ('MATHEF21', Float64),\n",
       "             ('MATHPERS', Float64),\n",
       "             ('FAMCON', Float64),\n",
       "             ('ASSERAGR', Float64),\n",
       "             ('COOPAGR', Float64),\n",
       "             ('CURIOAGR', Float64),\n",
       "             ('EMOCOAGR', Float64),\n",
       "             ('EMPATAGR', Float64),\n",
       "             ('PERSEVAGR', Float64),\n",
       "             ('STRESAGR', Float64),\n",
       "             ('FAMSUP', Float64),\n",
       "             ('ESCS', Float64),\n",
       "             ('ST352Q01JA', Int64),\n",
       "             ('ST352Q02JA', Int64),\n",
       "             ('ST352Q03JA', Int64),\n",
       "             ('ST352Q04JA', Int64),\n",
       "             ('ST352Q05JA', Int64),\n",
       "             ('ST352Q07JA', Int64),\n",
       "             ('ST352Q08JA', Int64),\n",
       "             ('ST354Q02JA', Int64),\n",
       "             ('ST354Q03JA', Int64),\n",
       "             ('ST354Q07JA', Int64),\n",
       "             ('ST354Q08JA', Int64),\n",
       "             ('ST354Q09JA', Int64),\n",
       "             ('ST353Q01JA', Int64),\n",
       "             ('ST353Q02JA', Int64),\n",
       "             ('ST353Q03JA', Int64),\n",
       "             ('ST353Q04JA', Int64),\n",
       "             ('ST353Q05JA', Int64),\n",
       "             ('ST353Q06JA', Int64),\n",
       "             ('ST353Q07JA', Int64),\n",
       "             ('ST353Q08JA', Int64),\n",
       "             ('ST348Q01JA', Int64),\n",
       "             ('ST348Q02JA', Int64),\n",
       "             ('ST348Q03JA', Int64),\n",
       "             ('ST348Q04JA', Int64),\n",
       "             ('ST348Q05JA', Int64),\n",
       "             ('ST348Q06JA', Int64),\n",
       "             ('ST348Q07JA', Int64),\n",
       "             ('ST348Q08JA', Int64)])"
      ]
     },
     "execution_count": 12,
     "metadata": {},
     "output_type": "execute_result"
    }
   ],
   "source": [
    "df = dat_nomiss.with_columns([\n",
    "    pl.col(\"TEACHSUP\").cast(pl.Float64),\n",
    "    pl.col(\"RELATST\").cast(pl.Float64),\n",
    "    pl.col(\"SCHRISK\").cast(pl.Float64),\n",
    "])\n",
    "df.schema"
   ]
  },
  {
   "cell_type": "code",
   "execution_count": 14,
   "id": "9c2604d5-4956-49d6-8f47-68bce777973f",
   "metadata": {},
   "outputs": [],
   "source": [
    "# mean impute and write to csv\n",
    "df_mean_imputed = df.with_columns(pl.all().fill_null(pl.all().mean()))\n",
    "df_mean_imputed.write_csv(\"pisa_mean.csv\")\n",
    "\n",
    "# median impute and write to csv\n",
    "df_median_imputed = df.with_columns(pl.all().fill_null(pl.all().median()))\n",
    "df_median_imputed.write_csv(\"pisa_median.csv\")"
   ]
  }
 ],
 "metadata": {
  "kernelspec": {
   "display_name": "Python 3 (ipykernel)",
   "language": "python",
   "name": "python3"
  },
  "language_info": {
   "codemirror_mode": {
    "name": "ipython",
    "version": 3
   },
   "file_extension": ".py",
   "mimetype": "text/x-python",
   "name": "python",
   "nbconvert_exporter": "python",
   "pygments_lexer": "ipython3",
   "version": "3.11.6"
  }
 },
 "nbformat": 4,
 "nbformat_minor": 5
}
