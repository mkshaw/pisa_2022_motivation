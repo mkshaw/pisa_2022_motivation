{
 "cells": [
  {
   "cell_type": "raw",
   "id": "1c057a7d-af6e-4641-9c50-c45094542cda",
   "metadata": {},
   "source": []
  },
  {
   "cell_type": "markdown",
   "id": "8edcc525-94d4-4958-b068-1e9a8ceeb70b",
   "metadata": {},
   "source": [
    "# Read and Process Data\n",
    "\n",
    "Our data are the 2022 PISA student responses from Canada and the United States. The data from PISA are for all countries and are in .sav form. The first steps in our analysis are reading and processing the data in the following stages:\n",
    "\n",
    "1. Read data in\n",
    "2. Filter to just US/Canada responses\n",
    "3. Calculate missingness proportions for our items of interest\n",
    "4. Perform imputation on missing values\n",
    "\n",
    "I performed actions 1 and 2 in RStudio locally, because the jupyter kernel could not handle the 1.9GB original file. The filtered USA/CAN file is around 130MB. "
   ]
  },
  {
   "cell_type": "markdown",
   "id": "d2fe79f3-ef34-4a4a-a0d6-6f7444f736b8",
   "metadata": {},
   "source": [
    "# Load Dependencies\n",
    "\n",
    "Note you may have to install some packages; check session info to see what we're running."
   ]
  },
  {
   "cell_type": "code",
   "execution_count": 10,
   "id": "34fd6b24-0162-44ae-bc2e-7d2276577861",
   "metadata": {},
   "outputs": [
    {
     "name": "stdout",
     "output_type": "stream",
     "text": [
      "\u001b[33mWARNING: Skipping /opt/conda/lib/python3.11/site-packages/nlopt-2.7.1.dist-info due to invalid metadata entry 'name'\u001b[0m\u001b[33m\n",
      "\u001b[0mCollecting pyreadstat\n",
      "  Downloading pyreadstat-1.2.7-cp311-cp311-manylinux_2_17_x86_64.manylinux2014_x86_64.whl.metadata (1.0 kB)\n",
      "Requirement already satisfied: pandas>=1.2.0 in /opt/conda/lib/python3.11/site-packages (from pyreadstat) (2.1.4)\n",
      "Requirement already satisfied: numpy<2,>=1.23.2 in /opt/conda/lib/python3.11/site-packages (from pandas>=1.2.0->pyreadstat) (1.26.2)\n",
      "Requirement already satisfied: python-dateutil>=2.8.2 in /opt/conda/lib/python3.11/site-packages (from pandas>=1.2.0->pyreadstat) (2.8.2)\n",
      "Requirement already satisfied: pytz>=2020.1 in /opt/conda/lib/python3.11/site-packages (from pandas>=1.2.0->pyreadstat) (2023.3.post1)\n",
      "Requirement already satisfied: tzdata>=2022.1 in /opt/conda/lib/python3.11/site-packages (from pandas>=1.2.0->pyreadstat) (2023.3)\n",
      "Requirement already satisfied: six>=1.5 in /opt/conda/lib/python3.11/site-packages (from python-dateutil>=2.8.2->pandas>=1.2.0->pyreadstat) (1.16.0)\n",
      "Downloading pyreadstat-1.2.7-cp311-cp311-manylinux_2_17_x86_64.manylinux2014_x86_64.whl (2.9 MB)\n",
      "\u001b[2K   \u001b[90m━━━━━━━━━━━━━━━━━━━━━━━━━━━━━━━━━━━━━━━━\u001b[0m \u001b[32m2.9/2.9 MB\u001b[0m \u001b[31m2.8 MB/s\u001b[0m eta \u001b[36m0:00:00\u001b[0m:00:01\u001b[0m00:01\u001b[0m\n",
      "\u001b[?25h\u001b[33mWARNING: Skipping /opt/conda/lib/python3.11/site-packages/nlopt-2.7.1.dist-info due to invalid metadata entry 'name'\u001b[0m\u001b[33m\n",
      "\u001b[0mInstalling collected packages: pyreadstat\n",
      "Successfully installed pyreadstat-1.2.7\n"
     ]
    }
   ],
   "source": [
    "# you might need to run these to install packages\n",
    "# !pip install pyreadstat\n",
    "# !pip install session_info\n",
    "# !pip install polars"
   ]
  },
  {
   "cell_type": "code",
   "execution_count": 3,
   "id": "c7167d17-5b86-413f-a18a-14107fb5848c",
   "metadata": {},
   "outputs": [],
   "source": [
    "# import dependencies\n",
    "import session_info\n",
    "import numpy as np\n",
    "import pandas as pd\n",
    "import polars as pl"
   ]
  },
  {
   "cell_type": "code",
   "execution_count": 4,
   "id": "f5f9bc08-4be5-4025-81a1-823cd0c0bad1",
   "metadata": {},
   "outputs": [
    {
     "data": {
      "text/html": [
       "<details>\n",
       "<summary>Click to view session information</summary>\n",
       "<pre>\n",
       "-----\n",
       "numpy               1.26.2\n",
       "pandas              2.1.4\n",
       "polars              0.20.15\n",
       "session_info        1.0.0\n",
       "-----\n",
       "</pre>\n",
       "<details>\n",
       "<summary>Click to view modules imported as dependencies</summary>\n",
       "<pre>\n",
       "anyio                       NA\n",
       "arrow                       1.3.0\n",
       "asttokens                   NA\n",
       "attr                        23.1.0\n",
       "attrs                       23.1.0\n",
       "babel                       2.14.0\n",
       "bottleneck                  1.3.7\n",
       "brotli                      1.1.0\n",
       "certifi                     2023.11.17\n",
       "chardet                     5.2.0\n",
       "charset_normalizer          3.3.2\n",
       "cloudpickle                 3.0.0\n",
       "colorama                    0.4.6\n",
       "comm                        0.1.4\n",
       "cython_runtime              NA\n",
       "dateutil                    2.8.2\n",
       "debugpy                     1.8.0\n",
       "decorator                   5.1.1\n",
       "executing                   2.0.1\n",
       "fastjsonschema              NA\n",
       "fqdn                        NA\n",
       "google                      NA\n",
       "idna                        3.6\n",
       "ipykernel                   6.26.0\n",
       "isoduration                 NA\n",
       "jedi                        0.19.1\n",
       "jinja2                      3.1.2\n",
       "json5                       NA\n",
       "jsonpointer                 2.4\n",
       "jsonschema                  4.20.0\n",
       "jsonschema_specifications   NA\n",
       "jupyter_events              0.9.0\n",
       "jupyter_server              2.12.1\n",
       "jupyterlab_server           2.24.0\n",
       "markupsafe                  2.1.3\n",
       "mpl_toolkits                NA\n",
       "nbformat                    5.9.2\n",
       "numexpr                     2.8.7\n",
       "overrides                   NA\n",
       "packaging                   23.2\n",
       "parso                       0.8.3\n",
       "pexpect                     4.8.0\n",
       "pickleshare                 0.7.5\n",
       "platformdirs                4.1.0\n",
       "prometheus_client           NA\n",
       "prompt_toolkit              3.0.42\n",
       "psutil                      5.9.5\n",
       "ptyprocess                  0.7.0\n",
       "pure_eval                   0.2.2\n",
       "pyarrow                     14.0.1\n",
       "pydev_ipython               NA\n",
       "pydevconsole                NA\n",
       "pydevd                      2.9.5\n",
       "pydevd_file_utils           NA\n",
       "pydevd_plugins              NA\n",
       "pydevd_tracing              NA\n",
       "pygments                    2.17.2\n",
       "pythonjsonlogger            NA\n",
       "pytz                        2023.3.post1\n",
       "referencing                 NA\n",
       "requests                    2.28.2\n",
       "rfc3339_validator           0.1.4\n",
       "rfc3986_validator           0.1.1\n",
       "rpds                        NA\n",
       "send2trash                  NA\n",
       "simplejson                  3.19.2\n",
       "six                         1.16.0\n",
       "sniffio                     1.3.0\n",
       "socks                       1.7.1\n",
       "sphinxcontrib               NA\n",
       "stack_data                  0.6.2\n",
       "tornado                     6.3.3\n",
       "traitlets                   5.14.0\n",
       "uri_template                NA\n",
       "urllib3                     1.26.18\n",
       "wcwidth                     0.2.12\n",
       "webcolors                   1.13\n",
       "websocket                   1.7.0\n",
       "yaml                        6.0.1\n",
       "zmq                         25.1.2\n",
       "</pre>\n",
       "</details> <!-- seems like this ends pre, so might as well be explicit -->\n",
       "<pre>\n",
       "-----\n",
       "IPython             8.18.1\n",
       "jupyter_client      8.6.0\n",
       "jupyter_core        5.5.0\n",
       "jupyterlab          4.0.9\n",
       "notebook            7.0.6\n",
       "-----\n",
       "Python 3.11.6 | packaged by conda-forge | (main, Oct  3 2023, 10:40:35) [GCC 12.3.0]\n",
       "Linux-3.10.0-1160.105.1.el7.x86_64-x86_64-with-glibc2.35\n",
       "-----\n",
       "Session information updated at 2024-03-17 21:10\n",
       "</pre>\n",
       "</details>"
      ],
      "text/plain": [
       "<IPython.core.display.HTML object>"
      ]
     },
     "execution_count": 4,
     "metadata": {},
     "output_type": "execute_result"
    }
   ],
   "source": [
    "# show session info\n",
    "session_info.show()"
   ]
  },
  {
   "cell_type": "markdown",
   "id": "d13ce8cd-4a33-48d0-94f9-d0b933874317",
   "metadata": {},
   "source": [
    "# Load and Inspect Data\n",
    "\n",
    "Recall that the data has already been filtered to only USA and CAN country codes."
   ]
  },
  {
   "cell_type": "code",
   "execution_count": 5,
   "id": "104e62b5-a29c-49e0-aeaf-5e0d7b771f6e",
   "metadata": {},
   "outputs": [],
   "source": [
    "dat = pl.read_csv(\"pisa2022_usacan.csv\", null_values = [\"NA\", \"null\"])"
   ]
  },
  {
   "cell_type": "code",
   "execution_count": 6,
   "id": "57b4e499-5bab-4d24-9c91-8ff04bb00cdb",
   "metadata": {},
   "outputs": [
    {
     "name": "stdout",
     "output_type": "stream",
     "text": [
      "shape: (5, 1_280)\n",
      "┌─────┬─────┬─────────┬──────────┬───┬──────────┬─────────┬────────────────────┬──────┐\n",
      "│     ┆ CNT ┆ CNTRYID ┆ CNTSCHID ┆ … ┆ PV10MPRE ┆ SENWT   ┆ VER_DAT            ┆ test │\n",
      "│ --- ┆ --- ┆ ---     ┆ ---      ┆   ┆ ---      ┆ ---     ┆ ---                ┆ ---  │\n",
      "│ i64 ┆ str ┆ i64     ┆ i64      ┆   ┆ f64      ┆ f64     ┆ str                ┆ str  │\n",
      "╞═════╪═════╪═════════╪══════════╪═══╪══════════╪═════════╪════════════════════╪══════╡\n",
      "│ 1   ┆ CAN ┆ 124     ┆ 12400376 ┆ … ┆ 517.929  ┆ 0.1297  ┆   02MAY23:16:37:57 ┆ null │\n",
      "│ 2   ┆ CAN ┆ 124     ┆ 12400020 ┆ … ┆ 528.554  ┆ 0.13573 ┆   02MAY23:16:38:03 ┆ null │\n",
      "│ 3   ┆ CAN ┆ 124     ┆ 12400906 ┆ … ┆ 303.109  ┆ 0.03326 ┆   02MAY23:16:38:02 ┆ null │\n",
      "│ 4   ┆ CAN ┆ 124     ┆ 12400726 ┆ … ┆ 698.58   ┆ 0.34707 ┆   02MAY23:16:37:59 ┆ null │\n",
      "│ 5   ┆ CAN ┆ 124     ┆ 12400103 ┆ … ┆ 590.067  ┆ 0.11075 ┆   02MAY23:16:37:59 ┆ null │\n",
      "└─────┴─────┴─────────┴──────────┴───┴──────────┴─────────┴────────────────────┴──────┘\n",
      "Data shape: (11737, 1280)\n",
      "shape: (9, 1_281)\n",
      "┌────────────┬─────────────┬───────┬─────────┬───┬────────────┬──────────┬─────────────────┬───────┐\n",
      "│ statistic  ┆             ┆ CNT   ┆ CNTRYID ┆ … ┆ PV10MPRE   ┆ SENWT    ┆ VER_DAT         ┆ test  │\n",
      "│ ---        ┆ ---         ┆ ---   ┆ ---     ┆   ┆ ---        ┆ ---      ┆ ---             ┆ ---   │\n",
      "│ str        ┆ f64         ┆ str   ┆ f64     ┆   ┆ f64        ┆ f64      ┆ str             ┆ str   │\n",
      "╞════════════╪═════════════╪═══════╪═════════╪═══╪════════════╪══════════╪═════════════════╪═══════╡\n",
      "│ count      ┆ 11737.0     ┆ 11737 ┆ 11737.0 ┆ … ┆ 11737.0    ┆ 11737.0  ┆ 11737           ┆ 0     │\n",
      "│ null_count ┆ 0.0         ┆ 0     ┆ 0.0     ┆ … ┆ 0.0        ┆ 0.0      ┆ 0               ┆ 11737 │\n",
      "│ mean       ┆ 5869.0      ┆ null  ┆ 124.0   ┆ … ┆ 487.904783 ┆ 0.217183 ┆ null            ┆ null  │\n",
      "│ std        ┆ 3388.324389 ┆ null  ┆ 0.0     ┆ … ┆ 97.614913  ┆ 0.241762 ┆ null            ┆ null  │\n",
      "│ min        ┆ 1.0         ┆ CAN   ┆ 124.0   ┆ … ┆ 122.128    ┆ 0.01418  ┆   02MAY         ┆ null  │\n",
      "│ 25%        ┆ 2935.0      ┆ null  ┆ 124.0   ┆ … ┆ 421.268    ┆ 0.05228  ┆ null            ┆ null  │\n",
      "│ 50%        ┆ 5869.0      ┆ null  ┆ 124.0   ┆ … ┆ 488.2      ┆ 0.12475  ┆ null            ┆ null  │\n",
      "│ 75%        ┆ 8803.0      ┆ null  ┆ 124.0   ┆ … ┆ 552.228    ┆ 0.36398  ┆ null            ┆ null  │\n",
      "│ max        ┆ 11737.0     ┆ CAN   ┆ 124.0   ┆ … ┆ 856.265    ┆ 11.64358 ┆ 02MAY23:16:38:0 ┆ null  │\n",
      "│            ┆             ┆       ┆         ┆   ┆            ┆          ┆ 6               ┆       │\n",
      "└────────────┴─────────────┴───────┴─────────┴───┴────────────┴──────────┴─────────────────┴───────┘\n",
      "['', 'CNT', 'CNTRYID', 'CNTSCHID', 'CNTSTUID', 'CYC', 'NatCen', 'STRATUM', 'SUBNATIO', 'REGION', 'OECD', 'ADMINMODE', 'LANGTEST_QQQ', 'LANGTEST_COG', 'LANGTEST_PAQ', 'Option_CT', 'Option_FL', 'Option_ICTQ', 'Option_WBQ', 'Option_PQ', 'Option_TQ', 'Option_UH', 'BOOKID', 'ST001D01T', 'ST003D02T', 'ST003D03T', 'ST004D01T', 'ST250Q01JA', 'ST250Q02JA', 'ST250Q03JA', 'ST250Q04JA', 'ST250Q05JA', 'ST250D06JA', 'ST250D07JA', 'ST251Q01JA', 'ST251Q02JA', 'ST251Q03JA', 'ST251Q04JA', 'ST251Q06JA', 'ST251Q07JA', 'ST251D08JA', 'ST251D09JA', 'ST253Q01JA', 'ST254Q01JA', 'ST254Q02JA', 'ST254Q03JA', 'ST254Q04JA', 'ST254Q05JA', 'ST254Q06JA', 'ST255Q01JA', 'ST256Q01JA', 'ST256Q02JA', 'ST256Q03JA', 'ST256Q06JA', 'ST256Q07JA', 'ST256Q08JA', 'ST256Q09JA', 'ST256Q10JA', 'ST230Q01JA', 'ST005Q01JA', 'ST006Q01JA', 'ST006Q02JA', 'ST006Q03JA', 'ST006Q04JA', 'ST006Q05JA', 'ST007Q01JA', 'ST008Q01JA', 'ST008Q02JA', 'ST008Q03JA', 'ST008Q04JA', 'ST008Q05JA', 'ST258Q01JA', 'ST259Q01JA', 'ST259Q02JA', 'ST019AQ01T', 'ST019BQ01T', 'ST019CQ01T', 'ST021Q01TA', 'ST022Q01TA', 'ST226Q01JA', 'ST125Q01NA', 'ST126Q01TA', 'ST127Q01TA', 'ST127Q02TA', 'ST127Q03TA', 'ST260Q01JA', 'ST260Q02JA', 'ST260Q03JA', 'ST261Q01JA', 'ST261Q02JA', 'ST261Q03JA', 'ST261Q04JA', 'ST261Q05JA', 'ST261Q06JA', 'ST261Q07JA', 'ST261Q08JA', 'ST261Q09JA', 'ST261Q10JA', 'ST261Q11JA', 'ST062Q01TA', 'ST062Q02TA', 'ST062Q03TA', 'ST267Q01JA', 'ST267Q02JA', 'ST267Q03JA', 'ST267Q04JA', 'ST267Q05JA', 'ST267Q06JA', 'ST267Q07JA', 'ST267Q08JA', 'ST034Q01TA', 'ST034Q02TA', 'ST034Q03TA', 'ST034Q04TA', 'ST034Q05TA', 'ST034Q06TA', 'ST038Q03NA', 'ST038Q04NA', 'ST038Q05NA', 'ST038Q06NA', 'ST038Q07NA', 'ST038Q08NA', 'ST038Q09JA', 'ST038Q10JA', 'ST038Q11JA', 'ST265Q01JA', 'ST265Q02JA', 'ST265Q03JA', 'ST265Q04JA', 'ST266Q01JA', 'ST266Q02JA', 'ST266Q03JA', 'ST266Q04JA', 'ST266Q05JA', 'ST294Q01JA', 'ST294Q02JA', 'ST294Q03JA', 'ST294Q04JA', 'ST294Q05JA', 'ST295Q01JA', 'ST295Q02JA', 'ST295Q03JA', 'ST295Q04JA', 'ST295Q05JA', 'ST326Q01JA', 'ST326Q02JA', 'ST326Q03JA', 'ST326Q04JA', 'ST326Q05JA', 'ST326Q06JA', 'ST326Q07JA', 'ST326Q08JA', 'ST326Q09JA', 'ST326Q10JA', 'ST326Q11JA', 'ST326Q12JA', 'ST322Q01JA', 'ST322Q02JA', 'ST322Q03JA', 'ST322Q04JA', 'ST322Q06JA', 'ST322Q07JA', 'ST307Q01JA', 'ST307Q02JA', 'ST307Q03JA', 'ST307Q04JA', 'ST307Q05JA', 'ST307Q06JA', 'ST307Q07JA', 'ST307Q08JA', 'ST307Q09JA', 'ST307Q10JA', 'ST309Q01JA', 'ST309Q02JA', 'ST309Q03JA', 'ST309Q04JA', 'ST309Q05JA', 'ST309Q06JA', 'ST309Q07JA', 'ST309Q08JA', 'ST309Q09JA', 'ST309Q10JA', 'ST301Q01JA', 'ST301Q02JA', 'ST301Q03JA', 'ST301Q04JA', 'ST301Q05JA', 'ST301Q06JA', 'ST301Q07JA', 'ST301Q08JA', 'ST301Q09JA', 'ST301Q10JA', 'ST343Q01JA', 'ST343Q02JA', 'ST343Q03JA', 'ST343Q04JA', 'ST343Q05JA', 'ST343Q06JA', 'ST343Q07JA', 'ST343Q08JA', 'ST343Q09JA', 'ST343Q10JA', 'ST311Q01JA', 'ST311Q02JA', 'ST311Q03JA', 'ST311Q04JA', 'ST311Q05JA', 'ST311Q06JA', 'ST311Q07JA', 'ST311Q08JA', 'ST311Q09JA', 'ST311Q10JA', 'ST315Q01JA', 'ST315Q02JA', 'ST315Q03JA', 'ST315Q04JA', 'ST315Q05JA', 'ST315Q06JA', 'ST315Q07JA', 'ST315Q08JA', 'ST315Q09JA', 'ST315Q10JA', 'ST303Q01JA', 'ST303Q02JA', 'ST303Q03JA', 'ST303Q04JA', 'ST303Q05JA', 'ST303Q06JA', 'ST303Q07JA', 'ST303Q08JA', 'ST305Q01JA', 'ST305Q02JA', 'ST305Q03JA', 'ST305Q04JA', 'ST305Q05JA', 'ST305Q06JA', 'ST305Q07JA', 'ST305Q08JA', 'ST305Q09JA', 'ST305Q10JA', 'ST345Q01JA', 'ST345Q02JA', 'ST345Q03JA', 'ST345Q04JA', 'ST345Q05JA', 'ST345Q06JA', 'ST345Q07JA', 'ST345Q08JA', 'ST345Q09JA', 'ST345Q10JA', 'ST313Q01JA', 'ST313Q02JA', 'ST313Q03JA', 'ST313Q04JA', 'ST313Q05JA', 'ST313Q06JA', 'ST313Q07JA', 'ST313Q08JA', 'ST313Q09JA', 'ST313Q10JA', 'ST263Q02JA', 'ST263Q04JA', 'ST263Q06JA', 'ST263Q08JA', 'ST016Q01NA', 'ST059Q01TA', 'ST059Q02JA', 'ST296Q01JA', 'ST296Q02JA', 'ST296Q03JA', 'ST296Q04JA', 'ST272Q01JA', 'ST273Q01JA', 'ST273Q02JA', 'ST273Q03JA', 'ST273Q04JA', 'ST273Q05JA', 'ST273Q06JA', 'ST273Q07JA', 'ST270Q01JA', 'ST270Q02JA', 'ST270Q03JA', 'ST270Q04JA', 'ST285Q01JA', 'ST285Q02JA', 'ST285Q03JA', 'ST285Q04JA', 'ST285Q05JA', 'ST285Q06JA', 'ST285Q07JA', 'ST285Q08JA', 'ST285Q09JA', 'ST283Q01JA', 'ST283Q02JA', 'ST283Q03JA', 'ST283Q04JA', 'ST283Q05JA', 'ST283Q06JA', 'ST283Q07JA', 'ST283Q08JA', 'ST283Q09JA', 'ST275Q01WA', 'ST275Q02WA', 'ST275Q03WA', 'ST275Q04WA', 'ST275Q05WA', 'ST275Q06WA', 'ST275Q07WA', 'ST275Q08WA', 'ST275Q09WA', 'ST276Q01JA', 'ST276Q02JA', 'ST276Q03JA', 'ST276Q04JA', 'ST276Q05JA', 'ST276Q06JA', 'ST276Q07JA', 'ST276Q08JA', 'ST276Q09JA', 'ST276Q10JA', 'ST268Q01JA', 'ST268Q02JA', 'ST268Q03JA', 'ST268Q04JA', 'ST268Q05JA', 'ST268Q06JA', 'ST268Q07JA', 'ST268Q08JA', 'ST268Q09JA', 'ST290Q01WA', 'ST290Q02WA', 'ST290Q03WA', 'ST290Q04WA', 'ST290Q05WA', 'ST290Q06WA', 'ST290Q07WA', 'ST290Q08WA', 'ST290Q09WA', 'ST291Q01JA', 'ST291Q02JA', 'ST291Q03JA', 'ST291Q04JA', 'ST291Q05JA', 'ST291Q06JA', 'ST291Q07JA', 'ST291Q08JA', 'ST291Q09JA', 'ST291Q10JA', 'ST289Q01WA', 'ST289Q02JA', 'ST289Q03WA', 'ST289Q04JA', 'ST289Q05WA', 'ST289Q06JA', 'ST289Q07JA', 'ST289Q08WA', 'ST289Q09WA', 'ST289Q10WA', 'ST289Q11WA', 'ST289Q14JA', 'ST293Q01JA', 'ST293Q02JA', 'ST293Q03JA', 'ST293Q04JA', 'ST293Q05JA', 'ST293Q06JA', 'ST293Q07JA', 'ST293Q08JA', 'ST293Q09JA', 'ST292Q01JA', 'ST292Q02JA', 'ST292Q03JA', 'ST292Q04JA', 'ST292Q05JA', 'ST292Q06JA', 'ST297Q01JA', 'ST297Q03JA', 'ST297Q05JA', 'ST297Q06JA', 'ST297Q07JA', 'ST297Q09JA', 'ST334Q01JA', 'ST334Q02JA', 'ST334Q03JA', 'ST334Q04JA', 'ST334Q05JA', 'ST334Q06JA', 'ST334Q07JA', 'ST334Q08JA', 'ST334Q09JA', 'ST334Q10JA', 'ST335Q01JA', 'ST335Q02JA', 'ST335Q03JA', 'ST335Q05JA', 'ST335Q06JA', 'ST335Q07JA', 'ST336Q01JA', 'ST336Q03JA', 'ST336Q04JA', 'ST336Q05JA', 'ST336Q06JA', 'ST336Q07JA', 'ST337Q01JA', 'ST337Q02JA', 'ST337Q03JA', 'ST337Q04JA', 'ST337Q05JA', 'ST337Q06JA', 'ST337Q07JA', 'ST337Q08JA', 'ST338Q01JA', 'ST338Q02JA', 'ST338Q03JA', 'ST338Q04JA', 'ST338Q05JA', 'ST338Q06JA', 'ST338Q07JA', 'ST338Q08JA', 'ST339Q04JA', 'ST339Q06JA', 'ST340Q01JA', 'ST340Q02JA', 'ST340Q03JA', 'ST340Q04JA', 'ST340Q05JA', 'ST340Q06JA', 'ST340Q07JA', 'ST340Q08JA', 'ST340Q09JA', 'ST340Q10JA', 'ST341Q01JA', 'ST341Q02JA', 'ST341Q03JA', 'ST341Q04JA', 'ST341Q05JA', 'ST342Q01JA', 'ST342Q02JA', 'ST342Q03JA', 'ST342Q04JA', 'ST342Q06JA', 'ST342Q07JA', 'ST342Q08JA', 'ST300Q01JA', 'ST300Q02JA', 'ST300Q03JA', 'ST300Q04JA', 'ST300Q05JA', 'ST300Q06JA', 'ST300Q07JA', 'ST300Q08JA', 'ST300Q09JA', 'ST300Q10JA', 'ST327Q01JA', 'ST327Q02JA', 'ST327Q03JA', 'ST327Q04JA', 'ST327Q05JA', 'ST327Q06JA', 'ST327Q07JA', 'ST327Q08JA', 'ST330Q01WA', 'ST330Q02WA', 'ST330Q03WA', 'ST330Q04WA', 'ST330Q05WA', 'ST330Q06WA', 'ST330Q07WA', 'ST330Q08WA', 'ST330Q09WA', 'ST330Q11WA', 'ST330D10WA', 'ST324Q02JA', 'ST324Q04JA', 'ST324Q05JA', 'ST324Q07JA', 'ST324Q10JA', 'ST324Q11JA', 'ST324Q12JA', 'ST324Q13JA', 'ST324Q14JA', 'ST347Q01JA', 'ST347Q02JA', 'ST348Q01JA', 'ST348Q02JA', 'ST348Q03JA', 'ST348Q04JA', 'ST348Q05JA', 'ST348Q06JA', 'ST348Q07JA', 'ST348Q08JA', 'ST349Q01JA', 'ST350Q01JA', 'ST351Q01JA', 'ST351Q02JA', 'ST351Q03JA', 'ST351Q04JA', 'ST351Q05JA', 'ST351Q06JA', 'ST351Q07JA', 'ST351Q08JA', 'ST352Q01JA', 'ST352Q02JA', 'ST352Q03JA', 'ST352Q04JA', 'ST352Q05JA', 'ST352Q06JA', 'ST352Q07JA', 'ST352Q08JA', 'ST353Q01JA', 'ST353Q02JA', 'ST353Q03JA', 'ST353Q04JA', 'ST353Q05JA', 'ST353Q06JA', 'ST353Q07JA', 'ST353Q08JA', 'ST354Q01JA', 'ST354Q02JA', 'ST354Q03JA', 'ST354Q04JA', 'ST354Q05JA', 'ST354Q06JA', 'ST354Q07JA', 'ST354Q08JA', 'ST354Q09JA', 'ST354Q10JA', 'ST355Q01JA', 'ST355Q02JA', 'ST355Q03JA', 'ST355Q04JA', 'ST355Q05JA', 'ST355Q06JA', 'ST355Q07JA', 'ST355Q08JA', 'ST356Q01JA', 'ST331Q01JA', 'ST331Q02JA', 'ST331Q03JA', 'FL150Q01TA', 'FL150Q02TA', 'FL150Q03TA', 'FL164Q01HA', 'FL164Q02HA', 'FL164Q03HA', 'FL164Q04HA', 'FL164Q05HA', 'FL164Q06HA', 'FL164Q07HA', 'FL164Q08HA', 'FL164Q09HA', 'FL164Q10HA', 'FL164Q11HA', 'FL164Q12HA', 'FL164Q13HA', 'FL164Q14HA', 'FL164Q15HA', 'FL164Q16HA', 'FL166Q01HA', 'FL166Q02HA', 'FL166Q03HA', 'FL166Q05HA', 'FL166Q06HA', 'FL166Q07HA', 'FL174Q01JA', 'FL174Q02JA', 'FL174Q03JA', 'FL174Q04JA', 'FL174Q05JA', 'FL174Q06JA', 'FL174Q07JA', 'FL167Q01HA', 'FL167Q02HA', 'FL167Q06JA', 'FL167Q03HA', 'FL167Q04HA', 'FL167Q05HA', 'FL167Q07JA', 'FL170Q01JA', 'FL170Q02JA', 'FL170Q03JA', 'FL170Q04JA', 'FL170Q05JA', 'FL170Q06JA', 'FL170Q07JA', 'FL159Q01HA', 'FL159Q02HA', 'FL159Q03HA', 'FL159Q04HA', 'FL160Q01HA', 'FL160Q02HA', 'FL160Q03HA', 'FL160Q04HA', 'FL161Q01HA', 'FL161Q02HA', 'FL161Q03HA', 'FL162Q01HA', 'FL162Q02HA', 'FL162Q03HA', 'FL162Q04HA', 'FL162Q05HA', 'FL162Q06HA', 'FL163Q01HA', 'FL163Q02HA', 'FL163Q03HA', 'FL163Q04HA', 'FL163Q05HA', 'FL171Q01JA', 'FL171Q02JA', 'FL171Q03JA', 'FL171Q04JA', 'FL171Q05JA', 'FL171Q07JA', 'FL171Q08JA', 'FL171Q09JA', 'FL171Q10JA', 'FL171Q11JA', 'FL171Q12JA', 'FL169Q01HA', 'FL169Q05JA', 'FL169Q02HA', 'FL169Q06JA', 'FL169Q07JA', 'FL169Q03HA', 'FL169Q04HA', 'FL169Q08JA', 'FL169Q10JA', 'FL169Q11JA', 'FL172Q01JA', 'FL172Q03JA', 'FL172Q05JA', 'FL172Q06JA', 'IC170Q01JA', 'IC170Q02JA', 'IC170Q03JA', 'IC170Q04JA', 'IC170Q05JA', 'IC170Q06JA', 'IC170Q07JA', 'IC171Q01JA', 'IC171Q02JA', 'IC171Q03JA', 'IC171Q04JA', 'IC171Q05JA', 'IC171Q06JA', 'IC172Q01JA', 'IC172Q02JA', 'IC172Q03JA', 'IC172Q04JA', 'IC172Q05JA', 'IC172Q06JA', 'IC172Q07JA', 'IC172Q08JA', 'IC172Q09JA', 'IC173Q01JA', 'IC173Q02JA', 'IC173Q03JA', 'IC173Q04JA', 'IC174Q01JA', 'IC174Q02JA', 'IC174Q03JA', 'IC174Q04JA', 'IC174Q05JA', 'IC174Q06JA', 'IC174Q07JA', 'IC174Q08JA', 'IC174Q09JA', 'IC174Q10JA', 'IC175Q01JA', 'IC175Q02JA', 'IC175Q03JA', 'IC175Q05JA', 'IC176Q01JA', 'IC176Q02JA', 'IC176Q03JA', 'IC176Q04JA', 'IC176Q05JA', 'IC176Q06JA', 'IC176Q07JA', 'IC176Q08JA', 'IC184Q01JA', 'IC184Q02JA', 'IC184Q03JA', 'IC184Q04JA', 'IC177Q01JA', 'IC177Q02JA', 'IC177Q03JA', 'IC177Q04JA', 'IC177Q05JA', 'IC177Q06JA', 'IC177Q07JA', 'IC178Q01JA', 'IC178Q02JA', 'IC178Q03JA', 'IC178Q04JA', 'IC178Q05JA', 'IC178Q06JA', 'IC178Q07JA', 'IC179Q01JA', 'IC179Q02JA', 'IC179Q03JA', 'IC179Q04JA', 'IC179Q05JA', 'IC179Q06JA', 'IC180Q01JA', 'IC180Q02JA', 'IC180Q03JA', 'IC180Q04JA', 'IC180Q05JA', 'IC180Q06JA', 'IC180Q07JA', 'IC180Q08JA', 'IC181Q01JA', 'IC181Q02JA', 'IC181Q03JA', 'IC181Q04JA', 'IC182Q01JA', 'IC182Q02JA', 'IC182Q03JA', 'IC183Q01JA', 'IC183Q02JA', 'IC183Q03JA', 'IC183Q04JA', 'IC183Q05JA', 'IC183Q07JA', 'IC183Q08JA', 'IC183Q09JA', 'IC183Q10JA', 'IC183Q12JA', 'IC183Q13JA', 'IC183Q14JA', 'IC183Q15JA', 'IC183Q16JA', 'WB150Q01HA', 'WB151Q01HA', 'WB152Q01HA', 'WB153Q01HA', 'WB153Q02HA', 'WB153Q03HA', 'WB153Q04HA', 'WB153Q05HA', 'WB154Q01HA', 'WB154Q02HA', 'WB154Q03HA', 'WB154Q04HA', 'WB154Q05HA', 'WB154Q06HA', 'WB154Q07HA', 'WB154Q08HA', 'WB154Q09HA', 'WB155Q01HA', 'WB155Q02HA', 'WB155Q03HA', 'WB155Q04HA', 'WB155Q05HA', 'WB155Q06HA', 'WB155Q07HA', 'WB155Q08HA', 'WB155Q09HA', 'WB155Q10HA', 'WB156Q01HA', 'WB158Q01HA', 'WB160Q01HA', 'WB161Q01HA', 'WB162Q01HA', 'WB162Q02HA', 'WB162Q03HA', 'WB162Q04HA', 'WB162Q05HA', 'WB162Q06HA', 'WB162Q07HA', 'WB162Q08HA', 'WB162Q09HA', 'WB163Q01HA', 'WB163Q02HA', 'WB163Q03HA', 'WB163Q04HA', 'WB163Q05HA', 'WB163Q06HA', 'WB163Q07HA', 'WB163Q08HA', 'WB164Q01HA', 'WB165Q01HA', 'WB166Q01HA', 'WB166Q02HA', 'WB166Q03HA', 'WB166Q04HA', 'WB167Q01HA', 'WB168Q01HA', 'WB168Q02HA', 'WB168Q03HA', 'WB168Q04HA', 'WB171Q01HA', 'WB171Q02HA', 'WB171Q03HA', 'WB171Q04HA', 'WB172Q01HA', 'WB173Q01HA', 'WB173Q02HA', 'WB173Q03HA', 'WB173Q04HA', 'WB176Q01HA', 'WB177Q01HA', 'WB177Q02HA', 'WB177Q03HA', 'WB177Q04HA', 'WB032Q01NA', 'WB032Q02NA', 'WB031Q01NA', 'WB178Q01HA', 'WB178Q02HA', 'WB178Q03HA', 'WB178Q04HA', 'WB178Q05HA', 'WB178Q06HA', 'WB178Q07HA', 'PA001Q01TA', 'PA001Q02TA', 'PA001Q03TA', 'PA003Q01TA', 'PA003Q02TA', 'PA003Q03TA', 'PA003Q05IA', 'PA003Q18WA', 'PA003Q19WA', 'PA003Q20WA', 'PA003Q11JA', 'PA003Q12JA', 'PA003Q13JA', 'PA003Q14JA', 'PA003Q15JA', 'PA003Q16JA', 'PA003Q17JA', 'PA196Q01WA', 'PA196Q02WA', 'PA196Q03WA', 'PA196Q04WA', 'PA197Q01WA', 'PA197Q02WA', 'PA197Q03WA', 'PA197Q04WA', 'PA197Q05WA', 'PA008Q01TA', 'PA008Q02TA', 'PA008Q03TA', 'PA008Q04TA', 'PA008Q05TA', 'PA008Q06NA', 'PA008Q07NA', 'PA008Q08NA', 'PA008Q09NA', 'PA008Q10NA', 'PA009Q01NA', 'PA009Q02NA', 'PA009Q03NA', 'PA009Q04NA', 'PA009Q05NA', 'PA009Q06NA', 'PA009Q07NA', 'PA009Q08NA', 'PA009Q09NA', 'PA009Q10NA', 'PA009Q11NA', 'PA007Q01TA', 'PA007Q02TA', 'PA007Q03TA', 'PA007Q04TA', 'PA007Q05TA', 'PA007Q06TA', 'PA007Q07TA', 'PA007Q09NA', 'PA007Q11NA', 'PA007Q12NA', 'PA007Q13NA', 'PA007Q14NA', 'PA007Q15NA', 'PA005Q01TA', 'PA006Q01TA', 'PA006Q02TA', 'PA006Q03TA', 'PA006Q04TA', 'PA006Q05TA', 'PA006Q06TA', 'PA006Q07TA', 'PA006Q08TA', 'PA006Q09TA', 'PA006Q10TA', 'PA006Q11TA', 'PA006Q12HA', 'PA006Q13HA', 'PA006Q14HA', 'PA166Q01HA', 'PA167Q02HA', 'PA167Q03HA', 'PA167Q04HA', 'PA167Q05HA', 'PA183Q01JA', 'PA183Q02JA', 'PA183Q03JA', 'PA183Q04JA', 'PA183Q05JA', 'PA183Q06JA', 'PA183Q07JA', 'PA183Q08JA', 'PA018Q01NA', 'PA018Q02NA', 'PA018Q03NA', 'PA177Q01HA', 'PA177Q02HA', 'PA177Q03HA', 'PA177Q04HA', 'PA177Q05HA', 'PA177Q06HA', 'PA177Q07HA', 'PA177Q08HA', 'PA180Q01HA', 'PA182Q01HA', 'PA175Q01HA', 'PA175Q02HA', 'PA175Q03JA', 'PA175Q04JA', 'PA185Q01JA', 'PA185Q02JA', 'PA185Q03JA', 'PA185Q04JA', 'PA185Q05JA', 'PA185Q07JA', 'PA185Q08JA', 'PA185Q09JA', 'PA185Q10JA', 'PA186Q01JA', 'PA186Q02JA', 'PA186Q03JA', 'PA186Q04JA', 'PA186Q05JA', 'PA186Q06JA', 'PA186Q07JA', 'PA186Q08JA', 'PA187Q04JA', 'PA187Q06JA', 'PA188Q01JA', 'PA188Q02JA', 'PA188Q03JA', 'PA188Q04JA', 'PA188Q05JA', 'PA188Q06JA', 'PA188Q08JA', 'PA188Q09JA', 'PA188Q10JA', 'PA189Q01JA', 'PA189Q02JA', 'PA189Q03JA', 'PA189Q04JA', 'PA189Q05JA', 'PA189Q06JA', 'PA189Q09JA', 'PA189Q10JA', 'PA194Q01JA', 'PA195Q01JA', 'PA041Q01TA', 'PA042Q01TA', 'EFFORT1', 'EFFORT2', 'OCOD1', 'OCOD2', 'OCOD3', 'PROGN', 'AGE', 'GRADE', 'ISCEDP', 'IMMIG', 'COBN_S', 'COBN_M', 'COBN_F', 'LANGN', 'REPEAT', 'MISSSC', 'SKIPPING', 'TARDYSD', 'EXERPRAC', 'STUDYHMW', 'WORKPAY', 'WORKHOME', 'EXPECEDU', 'MATHPREF', 'MATHEASE', 'MATHMOT', 'DURECEC', 'BSMJ', 'SISCO', 'RELATST', 'BELONG', 'BULLIED', 'FEELSAFE', 'SCHRISK', 'PERSEVAGR', 'CURIOAGR', 'COOPAGR', 'EMPATAGR', 'ASSERAGR', 'STRESAGR', 'EMOCOAGR', 'GROSAGR', 'INFOSEEK', 'FAMSUP', 'DISCLIM', 'TEACHSUP', 'COGACRCO', 'COGACMCO', 'EXPOFA', 'EXPO21ST', 'MATHEFF', 'MATHEF21', 'FAMCON', 'ANXMAT', 'MATHPERS', 'CREATEFF', 'CREATSCH', 'CREATFAM', 'CREATAS', 'CREATOOS', 'CREATOP', 'OPENART', 'IMAGINE', 'SCHSUST', 'LEARRES', 'PROBSELF', 'FAMSUPSL', 'FEELLAH', 'SDLEFF', 'MISCED', 'FISCED', 'HISCED', 'PAREDINT', 'BMMJ1', 'BFMJ2', 'HISEI', 'ICTRES', 'HOMEPOS', 'ESCS', 'FCFMLRTY', 'FLSCHOOL', 'FLMULTSB', 'FLFAMILY', 'ACCESSFP', 'FLCONFIN', 'FLCONICT', 'ACCESSFA', 'ATTCONFM', 'FRINFLFM', 'ICTSCH', 'ICTAVSCH', 'ICTHOME', 'ICTAVHOM', 'ICTQUAL', 'ICTSUBJ', 'ICTENQ', 'ICTFEED', 'ICTOUT', 'ICTWKDY', 'ICTWKEND', 'ICTREG', 'ICTINFO', 'ICTDISTR', 'ICTEFFIC', 'STUBMI', 'BODYIMA', 'SOCONPA', 'LIFESAT', 'PSYCHSYM', 'SOCCON', 'EXPWB', 'CURSUPP', 'PQMIMP', 'PQMCAR', 'PARINVOL', 'PQSCHOOL', 'PASCHPOL', 'ATTIMMP', 'PAREXPT', 'CREATHME', 'CREATACT', 'CREATOPN', 'CREATOR', 'W_FSTUWT', 'W_FSTURWT1', 'W_FSTURWT2', 'W_FSTURWT3', 'W_FSTURWT4', 'W_FSTURWT5', 'W_FSTURWT6', 'W_FSTURWT7', 'W_FSTURWT8', 'W_FSTURWT9', 'W_FSTURWT10', 'W_FSTURWT11', 'W_FSTURWT12', 'W_FSTURWT13', 'W_FSTURWT14', 'W_FSTURWT15', 'W_FSTURWT16', 'W_FSTURWT17', 'W_FSTURWT18', 'W_FSTURWT19', 'W_FSTURWT20', 'W_FSTURWT21', 'W_FSTURWT22', 'W_FSTURWT23', 'W_FSTURWT24', 'W_FSTURWT25', 'W_FSTURWT26', 'W_FSTURWT27', 'W_FSTURWT28', 'W_FSTURWT29', 'W_FSTURWT30', 'W_FSTURWT31', 'W_FSTURWT32', 'W_FSTURWT33', 'W_FSTURWT34', 'W_FSTURWT35', 'W_FSTURWT36', 'W_FSTURWT37', 'W_FSTURWT38', 'W_FSTURWT39', 'W_FSTURWT40', 'W_FSTURWT41', 'W_FSTURWT42', 'W_FSTURWT43', 'W_FSTURWT44', 'W_FSTURWT45', 'W_FSTURWT46', 'W_FSTURWT47', 'W_FSTURWT48', 'W_FSTURWT49', 'W_FSTURWT50', 'W_FSTURWT51', 'W_FSTURWT52', 'W_FSTURWT53', 'W_FSTURWT54', 'W_FSTURWT55', 'W_FSTURWT56', 'W_FSTURWT57', 'W_FSTURWT58', 'W_FSTURWT59', 'W_FSTURWT60', 'W_FSTURWT61', 'W_FSTURWT62', 'W_FSTURWT63', 'W_FSTURWT64', 'W_FSTURWT65', 'W_FSTURWT66', 'W_FSTURWT67', 'W_FSTURWT68', 'W_FSTURWT69', 'W_FSTURWT70', 'W_FSTURWT71', 'W_FSTURWT72', 'W_FSTURWT73', 'W_FSTURWT74', 'W_FSTURWT75', 'W_FSTURWT76', 'W_FSTURWT77', 'W_FSTURWT78', 'W_FSTURWT79', 'W_FSTURWT80', 'UNIT', 'WVARSTRR', 'PV1MATH', 'PV2MATH', 'PV3MATH', 'PV4MATH', 'PV5MATH', 'PV6MATH', 'PV7MATH', 'PV8MATH', 'PV9MATH', 'PV10MATH', 'PV1READ', 'PV2READ', 'PV3READ', 'PV4READ', 'PV5READ', 'PV6READ', 'PV7READ', 'PV8READ', 'PV9READ', 'PV10READ', 'PV1SCIE', 'PV2SCIE', 'PV3SCIE', 'PV4SCIE', 'PV5SCIE', 'PV6SCIE', 'PV7SCIE', 'PV8SCIE', 'PV9SCIE', 'PV10SCIE', 'PV1MCCR', 'PV2MCCR', 'PV3MCCR', 'PV4MCCR', 'PV5MCCR', 'PV6MCCR', 'PV7MCCR', 'PV8MCCR', 'PV9MCCR', 'PV10MCCR', 'PV1MCQN', 'PV2MCQN', 'PV3MCQN', 'PV4MCQN', 'PV5MCQN', 'PV6MCQN', 'PV7MCQN', 'PV8MCQN', 'PV9MCQN', 'PV10MCQN', 'PV1MCSS', 'PV2MCSS', 'PV3MCSS', 'PV4MCSS', 'PV5MCSS', 'PV6MCSS', 'PV7MCSS', 'PV8MCSS', 'PV9MCSS', 'PV10MCSS', 'PV1MCUD', 'PV2MCUD', 'PV3MCUD', 'PV4MCUD', 'PV5MCUD', 'PV6MCUD', 'PV7MCUD', 'PV8MCUD', 'PV9MCUD', 'PV10MCUD', 'PV1MPEM', 'PV2MPEM', 'PV3MPEM', 'PV4MPEM', 'PV5MPEM', 'PV6MPEM', 'PV7MPEM', 'PV8MPEM', 'PV9MPEM', 'PV10MPEM', 'PV1MPFS', 'PV2MPFS', 'PV3MPFS', 'PV4MPFS', 'PV5MPFS', 'PV6MPFS', 'PV7MPFS', 'PV8MPFS', 'PV9MPFS', 'PV10MPFS', 'PV1MPIN', 'PV2MPIN', 'PV3MPIN', 'PV4MPIN', 'PV5MPIN', 'PV6MPIN', 'PV7MPIN', 'PV8MPIN', 'PV9MPIN', 'PV10MPIN', 'PV1MPRE', 'PV2MPRE', 'PV3MPRE', 'PV4MPRE', 'PV5MPRE', 'PV6MPRE', 'PV7MPRE', 'PV8MPRE', 'PV9MPRE', 'PV10MPRE', 'SENWT', 'VER_DAT', 'test']\n"
     ]
    }
   ],
   "source": [
    "# Explore data\n",
    "print(dat.head())\n",
    "print(f'Data shape: {dat.shape}')\n",
    "print(dat.describe())\n",
    "print(dat.columns)"
   ]
  },
  {
   "cell_type": "code",
   "execution_count": 7,
   "id": "cc04fade-f18e-4a57-a78f-c19678a7f868",
   "metadata": {},
   "outputs": [
    {
     "name": "stdout",
     "output_type": "stream",
     "text": [
      "shape: (10,)\n",
      "Series: 'ST352Q06JA' [i64]\n",
      "[\n",
      "\t2\n",
      "\tnull\n",
      "\t2\n",
      "\t4\n",
      "\tnull\n",
      "\tnull\n",
      "\tnull\n",
      "\t4\n",
      "\t2\n",
      "\t4\n",
      "]\n",
      "Length of data: 11737\n",
      "All values for outcome: 11737\n",
      "Non-null values for outcome: [[4605]]\n",
      "Number of null values for outcome: 7132\n",
      "Proportion of outcome data missing: 0.6076510181477379\n"
     ]
    }
   ],
   "source": [
    "# just the outcome\n",
    "print(dat[\"ST352Q06JA\"].head())\n",
    "\n",
    "# how many rows are there in the data?\n",
    "print(f'Length of data: {len(dat)}')\n",
    "\n",
    "# number of NA values for outcome\n",
    "print(f'All values for outcome: {len(dat[\"ST352Q06JA\"])}')\n",
    "print(f'Non-null values for outcome: {dat.select(pl.count(\"ST352Q06JA\")).to_numpy().astype(int)}')\n",
    "print(f'Number of null values for outcome: {dat[\"ST352Q06JA\"].is_null().sum()}')\n",
    "print(f'Proportion of outcome data missing: {dat[\"ST352Q06JA\"].is_null().sum() / len(dat[\"ST352Q06JA\"])}')"
   ]
  },
  {
   "cell_type": "markdown",
   "id": "c92bf2be-2da9-45e9-879d-8c1f7cb1f74f",
   "metadata": {},
   "source": [
    "# Filter Data\n",
    "\n",
    "We want to filter to our features (predictors, IVs, etc.) of interest."
   ]
  },
  {
   "cell_type": "code",
   "execution_count": 8,
   "id": "9c2604d5-4956-49d6-8f47-68bce777973f",
   "metadata": {},
   "outputs": [
    {
     "data": {
      "text/html": [
       "<div><style>\n",
       ".dataframe > thead > tr,\n",
       ".dataframe > tbody > tr {\n",
       "  text-align: right;\n",
       "  white-space: pre-wrap;\n",
       "}\n",
       "</style>\n",
       "<small>shape: (11_737,)</small><table border=\"1\" class=\"dataframe\"><thead><tr><th>MISSSC</th></tr><tr><td>i64</td></tr></thead><tbody><tr><td>0</td></tr><tr><td>1</td></tr><tr><td>1</td></tr><tr><td>0</td></tr><tr><td>0</td></tr><tr><td>&hellip;</td></tr><tr><td>0</td></tr><tr><td>0</td></tr><tr><td>0</td></tr><tr><td>0</td></tr><tr><td>0</td></tr></tbody></table></div>"
      ],
      "text/plain": [
       "shape: (11_737,)\n",
       "Series: 'MISSSC' [i64]\n",
       "[\n",
       "\t0\n",
       "\t1\n",
       "\t1\n",
       "\t0\n",
       "\t0\n",
       "\t…\n",
       "\t0\n",
       "\t0\n",
       "\t0\n",
       "\t0\n",
       "\t0\n",
       "]"
      ]
     },
     "execution_count": 8,
     "metadata": {},
     "output_type": "execute_result"
    }
   ],
   "source": []
  }
 ],
 "metadata": {
  "kernelspec": {
   "display_name": "Python 3 (ipykernel)",
   "language": "python",
   "name": "python3"
  },
  "language_info": {
   "codemirror_mode": {
    "name": "ipython",
    "version": 3
   },
   "file_extension": ".py",
   "mimetype": "text/x-python",
   "name": "python",
   "nbconvert_exporter": "python",
   "pygments_lexer": "ipython3",
   "version": "3.11.6"
  }
 },
 "nbformat": 4,
 "nbformat_minor": 5
}
