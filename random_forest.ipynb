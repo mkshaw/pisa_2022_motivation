{
 "cells": [
  {
   "cell_type": "code",
   "execution_count": 1,
   "id": "ccc63161-c06b-4d42-a11d-c911fc5d496d",
   "metadata": {},
   "outputs": [
    {
     "name": "stdout",
     "output_type": "stream",
     "text": [
      "\u001b[33mWARNING: Skipping /opt/conda/lib/python3.11/site-packages/nlopt-2.7.1.dist-info due to invalid metadata entry 'name'\u001b[0m\u001b[33m\n",
      "\u001b[0mCollecting imblearn\n",
      "  Using cached imblearn-0.0-py2.py3-none-any.whl.metadata (355 bytes)\n",
      "Collecting imbalanced-learn (from imblearn)\n",
      "  Using cached imbalanced_learn-0.12.0-py3-none-any.whl.metadata (8.2 kB)\n",
      "Requirement already satisfied: numpy>=1.17.3 in /opt/conda/lib/python3.11/site-packages (from imbalanced-learn->imblearn) (1.26.2)\n",
      "Requirement already satisfied: scipy>=1.5.0 in /opt/conda/lib/python3.11/site-packages (from imbalanced-learn->imblearn) (1.11.4)\n",
      "Requirement already satisfied: scikit-learn>=1.0.2 in /opt/conda/lib/python3.11/site-packages (from imbalanced-learn->imblearn) (1.3.2)\n",
      "Requirement already satisfied: joblib>=1.1.1 in /opt/conda/lib/python3.11/site-packages (from imbalanced-learn->imblearn) (1.3.2)\n",
      "Requirement already satisfied: threadpoolctl>=2.0.0 in /opt/conda/lib/python3.11/site-packages (from imbalanced-learn->imblearn) (3.2.0)\n",
      "Using cached imblearn-0.0-py2.py3-none-any.whl (1.9 kB)\n",
      "Using cached imbalanced_learn-0.12.0-py3-none-any.whl (257 kB)\n",
      "\u001b[33mWARNING: Skipping /opt/conda/lib/python3.11/site-packages/nlopt-2.7.1.dist-info due to invalid metadata entry 'name'\u001b[0m\u001b[33m\n",
      "\u001b[0mInstalling collected packages: imbalanced-learn, imblearn\n",
      "Successfully installed imbalanced-learn-0.12.0 imblearn-0.0\n"
     ]
    }
   ],
   "source": [
    "# install package needed for SMOTE\n",
    "!pip install imblearn"
   ]
  },
  {
   "cell_type": "code",
   "execution_count": 2,
   "id": "ec997887-c254-48cb-ac9a-ed985c8f373a",
   "metadata": {},
   "outputs": [],
   "source": [
    "# load dependencies\n",
    "import pandas as pd # for importing and handling data\n",
    "import numpy as np # for working with arrays\n",
    "from sklearn.model_selection import train_test_split # for splitting data\n",
    "from imblearn.over_sampling import SMOTE # for smote oversampling"
   ]
  },
  {
   "cell_type": "code",
   "execution_count": 3,
   "id": "4c2a667b-374b-421f-98ee-47d67034928d",
   "metadata": {},
   "outputs": [
    {
     "data": {
      "text/html": [
       "<div>\n",
       "<style scoped>\n",
       "    .dataframe tbody tr th:only-of-type {\n",
       "        vertical-align: middle;\n",
       "    }\n",
       "\n",
       "    .dataframe tbody tr th {\n",
       "        vertical-align: top;\n",
       "    }\n",
       "\n",
       "    .dataframe thead th {\n",
       "        text-align: right;\n",
       "    }\n",
       "</style>\n",
       "<table border=\"1\" class=\"dataframe\">\n",
       "  <thead>\n",
       "    <tr style=\"text-align: right;\">\n",
       "      <th></th>\n",
       "      <th>Unnamed: 0</th>\n",
       "      <th>ST352Q06JA</th>\n",
       "      <th>AGE</th>\n",
       "      <th>ST004D01T</th>\n",
       "      <th>DURECEC</th>\n",
       "      <th>REPEAT</th>\n",
       "      <th>MISSSC</th>\n",
       "      <th>SKIPPING</th>\n",
       "      <th>TARDYSD</th>\n",
       "      <th>EXPECEDU</th>\n",
       "      <th>...</th>\n",
       "      <th>ST353Q07JA</th>\n",
       "      <th>ST353Q08JA</th>\n",
       "      <th>ST348Q01JA</th>\n",
       "      <th>ST348Q02JA</th>\n",
       "      <th>ST348Q03JA</th>\n",
       "      <th>ST348Q04JA</th>\n",
       "      <th>ST348Q05JA</th>\n",
       "      <th>ST348Q06JA</th>\n",
       "      <th>ST348Q07JA</th>\n",
       "      <th>ST348Q08JA</th>\n",
       "    </tr>\n",
       "  </thead>\n",
       "  <tbody>\n",
       "    <tr>\n",
       "      <th>0</th>\n",
       "      <td>1.0</td>\n",
       "      <td>2.0</td>\n",
       "      <td>15.58</td>\n",
       "      <td>1.0</td>\n",
       "      <td>2.0</td>\n",
       "      <td>0.0</td>\n",
       "      <td>0.0</td>\n",
       "      <td>1.0</td>\n",
       "      <td>2.0</td>\n",
       "      <td>7.0</td>\n",
       "      <td>...</td>\n",
       "      <td>2.0</td>\n",
       "      <td>2.0</td>\n",
       "      <td>4.0</td>\n",
       "      <td>4.0</td>\n",
       "      <td>4.0</td>\n",
       "      <td>3.0</td>\n",
       "      <td>4.0</td>\n",
       "      <td>3.0</td>\n",
       "      <td>2.0</td>\n",
       "      <td>2.0</td>\n",
       "    </tr>\n",
       "    <tr>\n",
       "      <th>1</th>\n",
       "      <td>2.0</td>\n",
       "      <td>2.0</td>\n",
       "      <td>16.17</td>\n",
       "      <td>2.0</td>\n",
       "      <td>2.0</td>\n",
       "      <td>0.0</td>\n",
       "      <td>1.0</td>\n",
       "      <td>0.0</td>\n",
       "      <td>1.0</td>\n",
       "      <td>7.0</td>\n",
       "      <td>...</td>\n",
       "      <td>4.0</td>\n",
       "      <td>4.0</td>\n",
       "      <td>2.0</td>\n",
       "      <td>3.0</td>\n",
       "      <td>2.0</td>\n",
       "      <td>3.0</td>\n",
       "      <td>4.0</td>\n",
       "      <td>4.0</td>\n",
       "      <td>4.0</td>\n",
       "      <td>4.0</td>\n",
       "    </tr>\n",
       "    <tr>\n",
       "      <th>2</th>\n",
       "      <td>3.0</td>\n",
       "      <td>4.0</td>\n",
       "      <td>15.58</td>\n",
       "      <td>2.0</td>\n",
       "      <td>0.0</td>\n",
       "      <td>0.0</td>\n",
       "      <td>0.0</td>\n",
       "      <td>0.0</td>\n",
       "      <td>0.0</td>\n",
       "      <td>9.0</td>\n",
       "      <td>...</td>\n",
       "      <td>2.0</td>\n",
       "      <td>3.0</td>\n",
       "      <td>3.0</td>\n",
       "      <td>3.0</td>\n",
       "      <td>2.0</td>\n",
       "      <td>3.0</td>\n",
       "      <td>3.0</td>\n",
       "      <td>2.0</td>\n",
       "      <td>2.0</td>\n",
       "      <td>2.0</td>\n",
       "    </tr>\n",
       "    <tr>\n",
       "      <th>3</th>\n",
       "      <td>4.0</td>\n",
       "      <td>4.0</td>\n",
       "      <td>15.42</td>\n",
       "      <td>2.0</td>\n",
       "      <td>2.0</td>\n",
       "      <td>0.0</td>\n",
       "      <td>0.0</td>\n",
       "      <td>0.0</td>\n",
       "      <td>0.0</td>\n",
       "      <td>4.0</td>\n",
       "      <td>...</td>\n",
       "      <td>1.0</td>\n",
       "      <td>2.0</td>\n",
       "      <td>1.0</td>\n",
       "      <td>3.0</td>\n",
       "      <td>4.0</td>\n",
       "      <td>1.0</td>\n",
       "      <td>4.0</td>\n",
       "      <td>1.0</td>\n",
       "      <td>2.0</td>\n",
       "      <td>1.0</td>\n",
       "    </tr>\n",
       "    <tr>\n",
       "      <th>4</th>\n",
       "      <td>5.0</td>\n",
       "      <td>2.0</td>\n",
       "      <td>15.75</td>\n",
       "      <td>2.0</td>\n",
       "      <td>1.0</td>\n",
       "      <td>0.0</td>\n",
       "      <td>0.0</td>\n",
       "      <td>0.0</td>\n",
       "      <td>0.0</td>\n",
       "      <td>8.0</td>\n",
       "      <td>...</td>\n",
       "      <td>2.0</td>\n",
       "      <td>2.0</td>\n",
       "      <td>1.0</td>\n",
       "      <td>3.0</td>\n",
       "      <td>4.0</td>\n",
       "      <td>3.0</td>\n",
       "      <td>4.0</td>\n",
       "      <td>3.0</td>\n",
       "      <td>2.0</td>\n",
       "      <td>2.0</td>\n",
       "    </tr>\n",
       "  </tbody>\n",
       "</table>\n",
       "<p>5 rows × 67 columns</p>\n",
       "</div>"
      ],
      "text/plain": [
       "   Unnamed: 0  ST352Q06JA    AGE  ST004D01T  DURECEC  REPEAT  MISSSC  \\\n",
       "0         1.0         2.0  15.58        1.0      2.0     0.0     0.0   \n",
       "1         2.0         2.0  16.17        2.0      2.0     0.0     1.0   \n",
       "2         3.0         4.0  15.58        2.0      0.0     0.0     0.0   \n",
       "3         4.0         4.0  15.42        2.0      2.0     0.0     0.0   \n",
       "4         5.0         2.0  15.75        2.0      1.0     0.0     0.0   \n",
       "\n",
       "   SKIPPING  TARDYSD  EXPECEDU  ...  ST353Q07JA  ST353Q08JA  ST348Q01JA  \\\n",
       "0       1.0      2.0       7.0  ...         2.0         2.0         4.0   \n",
       "1       0.0      1.0       7.0  ...         4.0         4.0         2.0   \n",
       "2       0.0      0.0       9.0  ...         2.0         3.0         3.0   \n",
       "3       0.0      0.0       4.0  ...         1.0         2.0         1.0   \n",
       "4       0.0      0.0       8.0  ...         2.0         2.0         1.0   \n",
       "\n",
       "   ST348Q02JA  ST348Q03JA  ST348Q04JA  ST348Q05JA  ST348Q06JA  ST348Q07JA  \\\n",
       "0         4.0         4.0         3.0         4.0         3.0         2.0   \n",
       "1         3.0         2.0         3.0         4.0         4.0         4.0   \n",
       "2         3.0         2.0         3.0         3.0         2.0         2.0   \n",
       "3         3.0         4.0         1.0         4.0         1.0         2.0   \n",
       "4         3.0         4.0         3.0         4.0         3.0         2.0   \n",
       "\n",
       "   ST348Q08JA  \n",
       "0         2.0  \n",
       "1         4.0  \n",
       "2         2.0  \n",
       "3         1.0  \n",
       "4         2.0  \n",
       "\n",
       "[5 rows x 67 columns]"
      ]
     },
     "execution_count": 3,
     "metadata": {},
     "output_type": "execute_result"
    }
   ],
   "source": [
    "# load data (you might have to change the filepath -- my project files are in a sub-folder called final_project)\n",
    "df = pd.read_csv(\"/home/jupyter/final_project/pisa_median.csv\")\n",
    "df.head()"
   ]
  },
  {
   "cell_type": "code",
   "execution_count": 4,
   "id": "bc47a823-a7d5-4f8d-a2dc-f506e581852d",
   "metadata": {},
   "outputs": [],
   "source": [
    "# split into target and features\n",
    "y = df[\"ST352Q06JA\"].values\n",
    "X = df.drop([\"ST352Q06JA\"], axis=1).values"
   ]
  },
  {
   "cell_type": "code",
   "execution_count": 6,
   "id": "813b144f-7adc-4ae9-afec-6860b3dfcec2",
   "metadata": {},
   "outputs": [],
   "source": [
    "# split data into training and test\n",
    "X_train, X_test, y_train, y_test = train_test_split(X, \n",
    "                                                    y, \n",
    "                                                    test_size = 0.2, # common to use 20-30% of data as test set\n",
    "                                                    random_state = 2001, # set seed equivalent\n",
    "                                                    stratify = y) # outcome amounts equal in train and test"
   ]
  },
  {
   "cell_type": "code",
   "execution_count": 7,
   "id": "ced91faa-6694-4efc-b00b-702c6c91fcf1",
   "metadata": {},
   "outputs": [
    {
     "data": {
      "text/plain": [
       "array([   0, 1349, 2325, 2088, 3182])"
      ]
     },
     "execution_count": 7,
     "metadata": {},
     "output_type": "execute_result"
    }
   ],
   "source": [
    "# frequency of observations in training data pre-oversampling -- THIS BLOCK CAN BE DELETED\n",
    "temp = y_train.astype(int)\n",
    "np.bincount(temp)"
   ]
  },
  {
   "cell_type": "code",
   "execution_count": 8,
   "id": "0541fbe2-a2e7-4986-8d9a-a6d6f8db2bf9",
   "metadata": {},
   "outputs": [],
   "source": [
    "# conduct oversampling on training data using SMOTE\n",
    "# SMOTE overview here: https://www.youtube.com/watch?v=1Ic7GRtDrPM\n",
    "smote = SMOTE(random_state = 2001)\n",
    "X_smote, y_smote = smote.fit_resample(X_train, y_train)"
   ]
  },
  {
   "cell_type": "code",
   "execution_count": 9,
   "id": "6f77fce0-d710-4aed-bdf0-c63e2d292606",
   "metadata": {},
   "outputs": [
    {
     "data": {
      "text/plain": [
       "array([   0, 3182, 3182, 3182, 3182])"
      ]
     },
     "execution_count": 9,
     "metadata": {},
     "output_type": "execute_result"
    }
   ],
   "source": [
    "# frequency of observations in training data post-oversampling -- THIS BLOCK CAN BE DELETED\n",
    "temp2 = y_smote.astype(int)\n",
    "np.bincount(temp2)"
   ]
  }
 ],
 "metadata": {
  "kernelspec": {
   "display_name": "Python 3 (ipykernel)",
   "language": "python",
   "name": "python3"
  },
  "language_info": {
   "codemirror_mode": {
    "name": "ipython",
    "version": 3
   },
   "file_extension": ".py",
   "mimetype": "text/x-python",
   "name": "python",
   "nbconvert_exporter": "python",
   "pygments_lexer": "ipython3",
   "version": "3.11.6"
  }
 },
 "nbformat": 4,
 "nbformat_minor": 5
}
