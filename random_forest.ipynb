{
 "cells": [
  {
   "cell_type": "code",
   "execution_count": 31,
   "id": "ccc63161-c06b-4d42-a11d-c911fc5d496d",
   "metadata": {},
   "outputs": [
    {
     "name": "stdout",
     "output_type": "stream",
     "text": [
      "\u001b[33mWARNING: Skipping /opt/conda/lib/python3.11/site-packages/nlopt-2.7.1.dist-info due to invalid metadata entry 'name'\u001b[0m\u001b[33m\n",
      "\u001b[0mRequirement already satisfied: imblearn in /opt/conda/lib/python3.11/site-packages (0.0)\n",
      "Requirement already satisfied: imbalanced-learn in /opt/conda/lib/python3.11/site-packages (from imblearn) (0.12.0)\n",
      "Requirement already satisfied: numpy>=1.17.3 in /opt/conda/lib/python3.11/site-packages (from imbalanced-learn->imblearn) (1.26.2)\n",
      "Requirement already satisfied: scipy>=1.5.0 in /opt/conda/lib/python3.11/site-packages (from imbalanced-learn->imblearn) (1.11.4)\n",
      "Requirement already satisfied: scikit-learn>=1.0.2 in /opt/conda/lib/python3.11/site-packages (from imbalanced-learn->imblearn) (1.3.2)\n",
      "Requirement already satisfied: joblib>=1.1.1 in /opt/conda/lib/python3.11/site-packages (from imbalanced-learn->imblearn) (1.3.2)\n",
      "Requirement already satisfied: threadpoolctl>=2.0.0 in /opt/conda/lib/python3.11/site-packages (from imbalanced-learn->imblearn) (3.2.0)\n",
      "\u001b[33mWARNING: Skipping /opt/conda/lib/python3.11/site-packages/nlopt-2.7.1.dist-info due to invalid metadata entry 'name'\u001b[0m\u001b[33m\n",
      "\u001b[0m\u001b[33mWARNING: Skipping /opt/conda/lib/python3.11/site-packages/nlopt-2.7.1.dist-info due to invalid metadata entry 'name'\u001b[0m\u001b[33m\n",
      "\u001b[0mRequirement already satisfied: graphviz in /opt/conda/lib/python3.11/site-packages (0.20.3)\n",
      "\u001b[33mWARNING: Skipping /opt/conda/lib/python3.11/site-packages/nlopt-2.7.1.dist-info due to invalid metadata entry 'name'\u001b[0m\u001b[33m\n",
      "\u001b[0m"
     ]
    }
   ],
   "source": [
    "# install package needed for SMOTE\n",
    "!pip install imblearn\n",
    "# install package for tree visualization\n",
    "!pip install graphviz"
   ]
  },
  {
   "cell_type": "code",
   "execution_count": 42,
   "id": "ec997887-c254-48cb-ac9a-ed985c8f373a",
   "metadata": {},
   "outputs": [],
   "source": [
    "# load dependencies\n",
    "import pandas as pd # for importing and handling data\n",
    "import numpy as np # for working with arrays\n",
    "from sklearn.model_selection import train_test_split # for splitting data\n",
    "from imblearn.over_sampling import SMOTE # for smote oversampling\n",
    "\n",
    "# imports from other code file (figure out what does what later)\n",
    "import math\n",
    "import matplotlib.pyplot as plt\n",
    "import sklearn\n",
    "\n",
    "from sklearn.model_selection import KFold, RandomizedSearchCV\n",
    "from sklearn.ensemble import RandomForestClassifier\n",
    "from sklearn.metrics import mean_squared_error, mean_absolute_error, r2_score, accuracy_score, confusion_matrix, precision_score, recall_score, ConfusionMatrixDisplay, f1_score\n",
    "from scipy.stats import pearsonr\n",
    "\n",
    "# Tree Visualisation\n",
    "from sklearn.tree import export_graphviz\n",
    "from IPython.display import Image\n",
    "import graphviz"
   ]
  },
  {
   "cell_type": "code",
   "execution_count": 26,
   "id": "4c2a667b-374b-421f-98ee-47d67034928d",
   "metadata": {},
   "outputs": [
    {
     "data": {
      "text/html": [
       "<div>\n",
       "<style scoped>\n",
       "    .dataframe tbody tr th:only-of-type {\n",
       "        vertical-align: middle;\n",
       "    }\n",
       "\n",
       "    .dataframe tbody tr th {\n",
       "        vertical-align: top;\n",
       "    }\n",
       "\n",
       "    .dataframe thead th {\n",
       "        text-align: right;\n",
       "    }\n",
       "</style>\n",
       "<table border=\"1\" class=\"dataframe\">\n",
       "  <thead>\n",
       "    <tr style=\"text-align: right;\">\n",
       "      <th></th>\n",
       "      <th>Unnamed: 0</th>\n",
       "      <th>ST352Q06JA</th>\n",
       "      <th>AGE</th>\n",
       "      <th>ST004D01T</th>\n",
       "      <th>DURECEC</th>\n",
       "      <th>REPEAT</th>\n",
       "      <th>MISSSC</th>\n",
       "      <th>SKIPPING</th>\n",
       "      <th>TARDYSD</th>\n",
       "      <th>EXPECEDU</th>\n",
       "      <th>...</th>\n",
       "      <th>ST353Q07JA</th>\n",
       "      <th>ST353Q08JA</th>\n",
       "      <th>ST348Q01JA</th>\n",
       "      <th>ST348Q02JA</th>\n",
       "      <th>ST348Q03JA</th>\n",
       "      <th>ST348Q04JA</th>\n",
       "      <th>ST348Q05JA</th>\n",
       "      <th>ST348Q06JA</th>\n",
       "      <th>ST348Q07JA</th>\n",
       "      <th>ST348Q08JA</th>\n",
       "    </tr>\n",
       "  </thead>\n",
       "  <tbody>\n",
       "    <tr>\n",
       "      <th>0</th>\n",
       "      <td>1.0</td>\n",
       "      <td>2.0</td>\n",
       "      <td>15.58</td>\n",
       "      <td>1.0</td>\n",
       "      <td>2.0</td>\n",
       "      <td>0.0</td>\n",
       "      <td>0.0</td>\n",
       "      <td>1.0</td>\n",
       "      <td>2.0</td>\n",
       "      <td>7.0</td>\n",
       "      <td>...</td>\n",
       "      <td>2.0</td>\n",
       "      <td>2.0</td>\n",
       "      <td>4.0</td>\n",
       "      <td>4.0</td>\n",
       "      <td>4.0</td>\n",
       "      <td>3.0</td>\n",
       "      <td>4.0</td>\n",
       "      <td>3.0</td>\n",
       "      <td>2.0</td>\n",
       "      <td>2.0</td>\n",
       "    </tr>\n",
       "    <tr>\n",
       "      <th>1</th>\n",
       "      <td>2.0</td>\n",
       "      <td>2.0</td>\n",
       "      <td>16.17</td>\n",
       "      <td>2.0</td>\n",
       "      <td>2.0</td>\n",
       "      <td>0.0</td>\n",
       "      <td>1.0</td>\n",
       "      <td>0.0</td>\n",
       "      <td>1.0</td>\n",
       "      <td>7.0</td>\n",
       "      <td>...</td>\n",
       "      <td>4.0</td>\n",
       "      <td>4.0</td>\n",
       "      <td>2.0</td>\n",
       "      <td>3.0</td>\n",
       "      <td>2.0</td>\n",
       "      <td>3.0</td>\n",
       "      <td>4.0</td>\n",
       "      <td>4.0</td>\n",
       "      <td>4.0</td>\n",
       "      <td>4.0</td>\n",
       "    </tr>\n",
       "    <tr>\n",
       "      <th>2</th>\n",
       "      <td>3.0</td>\n",
       "      <td>4.0</td>\n",
       "      <td>15.58</td>\n",
       "      <td>2.0</td>\n",
       "      <td>0.0</td>\n",
       "      <td>0.0</td>\n",
       "      <td>0.0</td>\n",
       "      <td>0.0</td>\n",
       "      <td>0.0</td>\n",
       "      <td>9.0</td>\n",
       "      <td>...</td>\n",
       "      <td>2.0</td>\n",
       "      <td>3.0</td>\n",
       "      <td>3.0</td>\n",
       "      <td>3.0</td>\n",
       "      <td>2.0</td>\n",
       "      <td>3.0</td>\n",
       "      <td>3.0</td>\n",
       "      <td>2.0</td>\n",
       "      <td>2.0</td>\n",
       "      <td>2.0</td>\n",
       "    </tr>\n",
       "    <tr>\n",
       "      <th>3</th>\n",
       "      <td>4.0</td>\n",
       "      <td>4.0</td>\n",
       "      <td>15.42</td>\n",
       "      <td>2.0</td>\n",
       "      <td>2.0</td>\n",
       "      <td>0.0</td>\n",
       "      <td>0.0</td>\n",
       "      <td>0.0</td>\n",
       "      <td>0.0</td>\n",
       "      <td>4.0</td>\n",
       "      <td>...</td>\n",
       "      <td>1.0</td>\n",
       "      <td>2.0</td>\n",
       "      <td>1.0</td>\n",
       "      <td>3.0</td>\n",
       "      <td>4.0</td>\n",
       "      <td>1.0</td>\n",
       "      <td>4.0</td>\n",
       "      <td>1.0</td>\n",
       "      <td>2.0</td>\n",
       "      <td>1.0</td>\n",
       "    </tr>\n",
       "    <tr>\n",
       "      <th>4</th>\n",
       "      <td>5.0</td>\n",
       "      <td>2.0</td>\n",
       "      <td>15.75</td>\n",
       "      <td>2.0</td>\n",
       "      <td>1.0</td>\n",
       "      <td>0.0</td>\n",
       "      <td>0.0</td>\n",
       "      <td>0.0</td>\n",
       "      <td>0.0</td>\n",
       "      <td>8.0</td>\n",
       "      <td>...</td>\n",
       "      <td>2.0</td>\n",
       "      <td>2.0</td>\n",
       "      <td>1.0</td>\n",
       "      <td>3.0</td>\n",
       "      <td>4.0</td>\n",
       "      <td>3.0</td>\n",
       "      <td>4.0</td>\n",
       "      <td>3.0</td>\n",
       "      <td>2.0</td>\n",
       "      <td>2.0</td>\n",
       "    </tr>\n",
       "  </tbody>\n",
       "</table>\n",
       "<p>5 rows × 67 columns</p>\n",
       "</div>"
      ],
      "text/plain": [
       "   Unnamed: 0  ST352Q06JA    AGE  ST004D01T  DURECEC  REPEAT  MISSSC  \\\n",
       "0         1.0         2.0  15.58        1.0      2.0     0.0     0.0   \n",
       "1         2.0         2.0  16.17        2.0      2.0     0.0     1.0   \n",
       "2         3.0         4.0  15.58        2.0      0.0     0.0     0.0   \n",
       "3         4.0         4.0  15.42        2.0      2.0     0.0     0.0   \n",
       "4         5.0         2.0  15.75        2.0      1.0     0.0     0.0   \n",
       "\n",
       "   SKIPPING  TARDYSD  EXPECEDU  ...  ST353Q07JA  ST353Q08JA  ST348Q01JA  \\\n",
       "0       1.0      2.0       7.0  ...         2.0         2.0         4.0   \n",
       "1       0.0      1.0       7.0  ...         4.0         4.0         2.0   \n",
       "2       0.0      0.0       9.0  ...         2.0         3.0         3.0   \n",
       "3       0.0      0.0       4.0  ...         1.0         2.0         1.0   \n",
       "4       0.0      0.0       8.0  ...         2.0         2.0         1.0   \n",
       "\n",
       "   ST348Q02JA  ST348Q03JA  ST348Q04JA  ST348Q05JA  ST348Q06JA  ST348Q07JA  \\\n",
       "0         4.0         4.0         3.0         4.0         3.0         2.0   \n",
       "1         3.0         2.0         3.0         4.0         4.0         4.0   \n",
       "2         3.0         2.0         3.0         3.0         2.0         2.0   \n",
       "3         3.0         4.0         1.0         4.0         1.0         2.0   \n",
       "4         3.0         4.0         3.0         4.0         3.0         2.0   \n",
       "\n",
       "   ST348Q08JA  \n",
       "0         2.0  \n",
       "1         4.0  \n",
       "2         2.0  \n",
       "3         1.0  \n",
       "4         2.0  \n",
       "\n",
       "[5 rows x 67 columns]"
      ]
     },
     "execution_count": 26,
     "metadata": {},
     "output_type": "execute_result"
    }
   ],
   "source": [
    "# load data (you might have to change the filepath -- my project files are in a sub-folder called final_project)\n",
    "seed = 2001\n",
    "\n",
    "df = pd.read_csv(\"/home/jupyter/final_project/pisa_median.csv\")\n",
    "df.head()"
   ]
  },
  {
   "cell_type": "code",
   "execution_count": 19,
   "id": "bc47a823-a7d5-4f8d-a2dc-f506e581852d",
   "metadata": {},
   "outputs": [],
   "source": [
    "# split into target and features\n",
    "y = df[\"ST352Q06JA\"].values\n",
    "X = df.drop([\"ST352Q06JA\"], axis=1).values"
   ]
  },
  {
   "cell_type": "code",
   "execution_count": 32,
   "id": "813b144f-7adc-4ae9-afec-6860b3dfcec2",
   "metadata": {},
   "outputs": [],
   "source": [
    "# split data into training and test\n",
    "X_train, X_test, y_train, y_test = train_test_split(X, \n",
    "                                                    y, \n",
    "                                                    test_size = 0.2, # common to use 20-30% of data as test set\n",
    "                                                    random_state = seed, # set seed equivalent\n",
    "                                                    stratify = y) # outcome amounts equal in train and test"
   ]
  },
  {
   "cell_type": "code",
   "execution_count": 33,
   "id": "ced91faa-6694-4efc-b00b-702c6c91fcf1",
   "metadata": {},
   "outputs": [
    {
     "data": {
      "text/plain": [
       "array([   0, 1349, 2325, 2088, 3182])"
      ]
     },
     "execution_count": 33,
     "metadata": {},
     "output_type": "execute_result"
    }
   ],
   "source": [
    "# frequency of observations in training data pre-oversampling -- THIS BLOCK CAN BE DELETED\n",
    "temp = y_train.astype(int)\n",
    "np.bincount(temp)"
   ]
  },
  {
   "cell_type": "code",
   "execution_count": 34,
   "id": "0541fbe2-a2e7-4986-8d9a-a6d6f8db2bf9",
   "metadata": {},
   "outputs": [],
   "source": [
    "# conduct oversampling on training data using SMOTE\n",
    "# SMOTE overview here: https://www.youtube.com/watch?v=1Ic7GRtDrPM\n",
    "smote = SMOTE(random_state = seed)\n",
    "X_smote, y_smote = smote.fit_resample(X_train, y_train)"
   ]
  },
  {
   "cell_type": "code",
   "execution_count": 37,
   "id": "6f77fce0-d710-4aed-bdf0-c63e2d292606",
   "metadata": {},
   "outputs": [
    {
     "data": {
      "text/plain": [
       "array([   0, 3182, 3182, 3182, 3182])"
      ]
     },
     "execution_count": 37,
     "metadata": {},
     "output_type": "execute_result"
    }
   ],
   "source": [
    "# frequency of observations in training data post-oversampling -- THIS BLOCK CAN BE DELETED\n",
    "temp2 = y_smote.astype(int)\n",
    "np.bincount(temp2)"
   ]
  },
  {
   "cell_type": "code",
   "execution_count": 40,
   "id": "02c7f18d-07c2-4ea3-bb08-39b8b29b6628",
   "metadata": {},
   "outputs": [],
   "source": [
    "# define the parameter grid for hyperparameter tuning\n",
    "param_grid = {'n_estimators': [50, 150, 250, 350, 450],\n",
    "              'max_depth': [1,2,3,4,5,6,7,8,9,10],\n",
    "              'max_features': [20, 50, 80, 110, 140]}\n",
    "\n",
    "# define the evaluation metrics\n",
    "metrics = {'MSE': mean_squared_error,\n",
    "           'RMSE': lambda y_true, y_pred: np.sqrt(mean_squared_error(y_true, y_pred)),\n",
    "           'R-squared': r2_score,\n",
    "           'Accuracy': accuracy_score,\n",
    "           'F1 Score': f1_score}\n",
    "\n",
    "# create a random forest regressor\n",
    "rf = RandomForestClassifier(random_state=seed)"
   ]
  },
  {
   "cell_type": "code",
   "execution_count": 51,
   "id": "7f6db3a5-fb97-4c90-8d43-949d52942b50",
   "metadata": {},
   "outputs": [
    {
     "name": "stdout",
     "output_type": "stream",
     "text": [
      "Fitting 5 folds for each of 1 candidates, totalling 5 fits\n"
     ]
    },
    {
     "data": {
      "text/plain": [
       "{'mean_fit_time': array([135.38765655]),\n",
       " 'std_fit_time': array([35.06115804]),\n",
       " 'mean_score_time': array([0.22703066]),\n",
       " 'std_score_time': array([0.08383141]),\n",
       " 'param_n_estimators': masked_array(data=[250],\n",
       "              mask=[False],\n",
       "        fill_value='?',\n",
       "             dtype=object),\n",
       " 'param_max_features': masked_array(data=[140],\n",
       "              mask=[False],\n",
       "        fill_value='?',\n",
       "             dtype=object),\n",
       " 'param_max_depth': masked_array(data=[7],\n",
       "              mask=[False],\n",
       "        fill_value='?',\n",
       "             dtype=object),\n",
       " 'params': [{'n_estimators': 250, 'max_features': 140, 'max_depth': 7}],\n",
       " 'split0_test_score': array([-1.07109191]),\n",
       " 'split1_test_score': array([-1.03849175]),\n",
       " 'split2_test_score': array([-1.04320503]),\n",
       " 'split3_test_score': array([-0.90491159]),\n",
       " 'split4_test_score': array([-0.97524558]),\n",
       " 'mean_test_score': array([-1.00658917]),\n",
       " 'std_test_score': array([0.05973249]),\n",
       " 'rank_test_score': array([1], dtype=int32),\n",
       " 'split0_train_score': array([-0.88803771]),\n",
       " 'split1_train_score': array([-0.88283245]),\n",
       " 'split2_train_score': array([-0.9968572]),\n",
       " 'split3_train_score': array([-0.91819699]),\n",
       " 'split4_train_score': array([-0.9250712]),\n",
       " 'mean_train_score': array([-0.92219911]),\n",
       " 'std_train_score': array([0.04077948])}"
      ]
     },
     "execution_count": 51,
     "metadata": {},
     "output_type": "execute_result"
    }
   ],
   "source": [
    "# Create a RandomizedSearchCV object\n",
    "rand_rf = RandomizedSearchCV(\n",
    "    estimator=rf,\n",
    "    param_distributions=param_grid,\n",
    "    scoring = 'neg_mean_squared_error',\n",
    "    n_iter = 1,\n",
    "    n_jobs=4,\n",
    "    cv=5, \n",
    "    refit = True,\n",
    "    return_train_score=True,\n",
    "    verbose=1)\n",
    "\n",
    "# Fit the random search object to the data\n",
    "rand_rf.fit(X_smote, y_smote)\n",
    "\n",
    "rand_rf.cv_results_"
   ]
  },
  {
   "cell_type": "code",
   "execution_count": 50,
   "id": "4ff13690-f3d4-4996-893b-d652b7f8c2c3",
   "metadata": {},
   "outputs": [
    {
     "name": "stdout",
     "output_type": "stream",
     "text": [
      "0.5329829444917549\n",
      "   mean_fit_time  std_fit_time  mean_score_time  std_score_time  \\\n",
      "0      80.166609      18.77178         0.201535        0.085879   \n",
      "\n",
      "  param_n_estimators param_max_features param_max_depth  \\\n",
      "0                250                140               7   \n",
      "\n",
      "                                              params  split0_test_score  \\\n",
      "0  {'n_estimators': 250, 'max_features': 140, 'ma...           0.544997   \n",
      "\n",
      "   split1_test_score  ...  mean_test_score  std_test_score  rank_test_score  \\\n",
      "0           0.525992  ...         0.532983        0.014079                1   \n",
      "\n",
      "   split0_train_score  split1_train_score  split2_train_score  \\\n",
      "0            0.573305             0.56478            0.575402   \n",
      "\n",
      "   split3_train_score  split4_train_score  mean_train_score  std_train_score  \n",
      "0            0.572327            0.567356          0.570634         0.003943  \n",
      "\n",
      "[1 rows x 23 columns]\n"
     ]
    }
   ],
   "source": [
    "# Create a variable for the best model\n",
    "best_rf = rand_rf.best_estimator_\n",
    "\n",
    "# Print the best hyperparameters\n",
    "print('Best hyperparameters:',  rand_rf.best_params_)\n",
    "\n",
    "# Print out the score from the best-performing square\n",
    "best_score = rand_rf.best_score_\n",
    "print(best_score)\n",
    "\n",
    "# Create a variable from the row related to the best-performing square\n",
    "cv_results_df = pd.DataFrame(rand_rf.cv_results_)\n",
    "best_row = cv_results_df.loc[[rand_rf.best_index_]]\n",
    "print(best_row)"
   ]
  },
  {
   "cell_type": "code",
   "execution_count": null,
   "id": "4a84099a-5f95-4bd7-93d5-e9e48b8be80f",
   "metadata": {},
   "outputs": [],
   "source": []
  }
 ],
 "metadata": {
  "kernelspec": {
   "display_name": "Python 3 (ipykernel)",
   "language": "python",
   "name": "python3"
  },
  "language_info": {
   "codemirror_mode": {
    "name": "ipython",
    "version": 3
   },
   "file_extension": ".py",
   "mimetype": "text/x-python",
   "name": "python",
   "nbconvert_exporter": "python",
   "pygments_lexer": "ipython3",
   "version": "3.11.6"
  }
 },
 "nbformat": 4,
 "nbformat_minor": 5
}
