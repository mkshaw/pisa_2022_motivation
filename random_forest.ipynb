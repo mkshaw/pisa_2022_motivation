{
 "cells": [
  {
   "cell_type": "code",
   "execution_count": 35,
   "id": "ccc63161-c06b-4d42-a11d-c911fc5d496d",
   "metadata": {},
   "outputs": [
    {
     "name": "stdout",
     "output_type": "stream",
     "text": [
      "41941.19s - pydevd: Sending message related to process being replaced timed-out after 5 seconds\n",
      "\u001b[33mWARNING: Skipping /opt/conda/lib/python3.11/site-packages/nlopt-2.7.1.dist-info due to invalid metadata entry 'name'\u001b[0m\u001b[33m\n",
      "\u001b[0mRequirement already satisfied: imblearn in /opt/conda/lib/python3.11/site-packages (0.0)\n",
      "Requirement already satisfied: imbalanced-learn in /opt/conda/lib/python3.11/site-packages (from imblearn) (0.12.0)\n",
      "Requirement already satisfied: numpy>=1.17.3 in /opt/conda/lib/python3.11/site-packages (from imbalanced-learn->imblearn) (1.26.2)\n",
      "Requirement already satisfied: scipy>=1.5.0 in /opt/conda/lib/python3.11/site-packages (from imbalanced-learn->imblearn) (1.11.4)\n",
      "Requirement already satisfied: scikit-learn>=1.0.2 in /opt/conda/lib/python3.11/site-packages (from imbalanced-learn->imblearn) (1.3.2)\n",
      "Requirement already satisfied: joblib>=1.1.1 in /opt/conda/lib/python3.11/site-packages (from imbalanced-learn->imblearn) (1.3.2)\n",
      "Requirement already satisfied: threadpoolctl>=2.0.0 in /opt/conda/lib/python3.11/site-packages (from imbalanced-learn->imblearn) (3.2.0)\n",
      "\u001b[33mWARNING: Skipping /opt/conda/lib/python3.11/site-packages/nlopt-2.7.1.dist-info due to invalid metadata entry 'name'\u001b[0m\u001b[33m\n",
      "\u001b[0m41951.08s - pydevd: Sending message related to process being replaced timed-out after 5 seconds\n",
      "\u001b[33mWARNING: Skipping /opt/conda/lib/python3.11/site-packages/nlopt-2.7.1.dist-info due to invalid metadata entry 'name'\u001b[0m\u001b[33m\n",
      "\u001b[0mRequirement already satisfied: graphviz in /opt/conda/lib/python3.11/site-packages (0.20.3)\n",
      "\u001b[33mWARNING: Skipping /opt/conda/lib/python3.11/site-packages/nlopt-2.7.1.dist-info due to invalid metadata entry 'name'\u001b[0m\u001b[33m\n",
      "\u001b[0m"
     ]
    }
   ],
   "source": [
    "# install package needed for SMOTE\n",
    "!pip install imblearn\n",
    "# install package for tree visualization\n",
    "!pip install graphviz"
   ]
  },
  {
   "cell_type": "code",
   "execution_count": 36,
   "id": "ec997887-c254-48cb-ac9a-ed985c8f373a",
   "metadata": {},
   "outputs": [],
   "source": [
    "# load dependencies\n",
    "import pandas as pd # for importing and handling data\n",
    "import numpy as np # for working with arrays\n",
    "from sklearn.model_selection import train_test_split # for splitting data\n",
    "from imblearn.over_sampling import SMOTE # for smote oversampling\n",
    "\n",
    "# imports from other code file (figure out what does what later)\n",
    "import math\n",
    "import matplotlib.pyplot as plt\n",
    "import sklearn\n",
    "\n",
    "from sklearn.model_selection import KFold, GridSearchCV, cross_validate\n",
    "from sklearn.ensemble import RandomForestClassifier\n",
    "from sklearn.metrics import mean_squared_error, mean_absolute_error, accuracy_score, confusion_matrix, precision_score, recall_score, ConfusionMatrixDisplay, f1_score, roc_auc_score\n",
    "from scipy.stats import pearsonr\n",
    "\n",
    "# Tree Visualisation\n",
    "from sklearn.tree import export_graphviz\n",
    "from IPython.display import Image\n",
    "import graphviz"
   ]
  },
  {
   "cell_type": "code",
   "execution_count": 37,
   "id": "4c2a667b-374b-421f-98ee-47d67034928d",
   "metadata": {},
   "outputs": [
    {
     "data": {
      "text/html": [
       "<div>\n",
       "<style scoped>\n",
       "    .dataframe tbody tr th:only-of-type {\n",
       "        vertical-align: middle;\n",
       "    }\n",
       "\n",
       "    .dataframe tbody tr th {\n",
       "        vertical-align: top;\n",
       "    }\n",
       "\n",
       "    .dataframe thead th {\n",
       "        text-align: right;\n",
       "    }\n",
       "</style>\n",
       "<table border=\"1\" class=\"dataframe\">\n",
       "  <thead>\n",
       "    <tr style=\"text-align: right;\">\n",
       "      <th></th>\n",
       "      <th>Unnamed: 0</th>\n",
       "      <th>ST352Q06JA</th>\n",
       "      <th>AGE</th>\n",
       "      <th>ST004D01T</th>\n",
       "      <th>DURECEC</th>\n",
       "      <th>REPEAT</th>\n",
       "      <th>MISSSC</th>\n",
       "      <th>SKIPPING</th>\n",
       "      <th>TARDYSD</th>\n",
       "      <th>EXPECEDU</th>\n",
       "      <th>...</th>\n",
       "      <th>ST353Q07JA</th>\n",
       "      <th>ST353Q08JA</th>\n",
       "      <th>ST348Q01JA</th>\n",
       "      <th>ST348Q02JA</th>\n",
       "      <th>ST348Q03JA</th>\n",
       "      <th>ST348Q04JA</th>\n",
       "      <th>ST348Q05JA</th>\n",
       "      <th>ST348Q06JA</th>\n",
       "      <th>ST348Q07JA</th>\n",
       "      <th>ST348Q08JA</th>\n",
       "    </tr>\n",
       "  </thead>\n",
       "  <tbody>\n",
       "    <tr>\n",
       "      <th>0</th>\n",
       "      <td>1.0</td>\n",
       "      <td>2.0</td>\n",
       "      <td>15.58</td>\n",
       "      <td>1.0</td>\n",
       "      <td>2.0</td>\n",
       "      <td>0.0</td>\n",
       "      <td>0.0</td>\n",
       "      <td>1.0</td>\n",
       "      <td>2.0</td>\n",
       "      <td>7.0</td>\n",
       "      <td>...</td>\n",
       "      <td>2.0</td>\n",
       "      <td>2.0</td>\n",
       "      <td>4.0</td>\n",
       "      <td>4.0</td>\n",
       "      <td>4.0</td>\n",
       "      <td>3.0</td>\n",
       "      <td>4.0</td>\n",
       "      <td>3.0</td>\n",
       "      <td>2.0</td>\n",
       "      <td>2.0</td>\n",
       "    </tr>\n",
       "    <tr>\n",
       "      <th>1</th>\n",
       "      <td>2.0</td>\n",
       "      <td>2.0</td>\n",
       "      <td>16.17</td>\n",
       "      <td>2.0</td>\n",
       "      <td>2.0</td>\n",
       "      <td>0.0</td>\n",
       "      <td>1.0</td>\n",
       "      <td>0.0</td>\n",
       "      <td>1.0</td>\n",
       "      <td>7.0</td>\n",
       "      <td>...</td>\n",
       "      <td>4.0</td>\n",
       "      <td>4.0</td>\n",
       "      <td>2.0</td>\n",
       "      <td>3.0</td>\n",
       "      <td>2.0</td>\n",
       "      <td>3.0</td>\n",
       "      <td>4.0</td>\n",
       "      <td>4.0</td>\n",
       "      <td>4.0</td>\n",
       "      <td>4.0</td>\n",
       "    </tr>\n",
       "    <tr>\n",
       "      <th>2</th>\n",
       "      <td>3.0</td>\n",
       "      <td>4.0</td>\n",
       "      <td>15.58</td>\n",
       "      <td>2.0</td>\n",
       "      <td>0.0</td>\n",
       "      <td>0.0</td>\n",
       "      <td>0.0</td>\n",
       "      <td>0.0</td>\n",
       "      <td>0.0</td>\n",
       "      <td>9.0</td>\n",
       "      <td>...</td>\n",
       "      <td>2.0</td>\n",
       "      <td>3.0</td>\n",
       "      <td>3.0</td>\n",
       "      <td>3.0</td>\n",
       "      <td>2.0</td>\n",
       "      <td>3.0</td>\n",
       "      <td>3.0</td>\n",
       "      <td>2.0</td>\n",
       "      <td>2.0</td>\n",
       "      <td>2.0</td>\n",
       "    </tr>\n",
       "    <tr>\n",
       "      <th>3</th>\n",
       "      <td>4.0</td>\n",
       "      <td>4.0</td>\n",
       "      <td>15.42</td>\n",
       "      <td>2.0</td>\n",
       "      <td>2.0</td>\n",
       "      <td>0.0</td>\n",
       "      <td>0.0</td>\n",
       "      <td>0.0</td>\n",
       "      <td>0.0</td>\n",
       "      <td>4.0</td>\n",
       "      <td>...</td>\n",
       "      <td>1.0</td>\n",
       "      <td>2.0</td>\n",
       "      <td>1.0</td>\n",
       "      <td>3.0</td>\n",
       "      <td>4.0</td>\n",
       "      <td>1.0</td>\n",
       "      <td>4.0</td>\n",
       "      <td>1.0</td>\n",
       "      <td>2.0</td>\n",
       "      <td>1.0</td>\n",
       "    </tr>\n",
       "    <tr>\n",
       "      <th>4</th>\n",
       "      <td>5.0</td>\n",
       "      <td>2.0</td>\n",
       "      <td>15.75</td>\n",
       "      <td>2.0</td>\n",
       "      <td>1.0</td>\n",
       "      <td>0.0</td>\n",
       "      <td>0.0</td>\n",
       "      <td>0.0</td>\n",
       "      <td>0.0</td>\n",
       "      <td>8.0</td>\n",
       "      <td>...</td>\n",
       "      <td>2.0</td>\n",
       "      <td>2.0</td>\n",
       "      <td>1.0</td>\n",
       "      <td>3.0</td>\n",
       "      <td>4.0</td>\n",
       "      <td>3.0</td>\n",
       "      <td>4.0</td>\n",
       "      <td>3.0</td>\n",
       "      <td>2.0</td>\n",
       "      <td>2.0</td>\n",
       "    </tr>\n",
       "  </tbody>\n",
       "</table>\n",
       "<p>5 rows × 67 columns</p>\n",
       "</div>"
      ],
      "text/plain": [
       "   Unnamed: 0  ST352Q06JA    AGE  ST004D01T  DURECEC  REPEAT  MISSSC  \\\n",
       "0         1.0         2.0  15.58        1.0      2.0     0.0     0.0   \n",
       "1         2.0         2.0  16.17        2.0      2.0     0.0     1.0   \n",
       "2         3.0         4.0  15.58        2.0      0.0     0.0     0.0   \n",
       "3         4.0         4.0  15.42        2.0      2.0     0.0     0.0   \n",
       "4         5.0         2.0  15.75        2.0      1.0     0.0     0.0   \n",
       "\n",
       "   SKIPPING  TARDYSD  EXPECEDU  ...  ST353Q07JA  ST353Q08JA  ST348Q01JA  \\\n",
       "0       1.0      2.0       7.0  ...         2.0         2.0         4.0   \n",
       "1       0.0      1.0       7.0  ...         4.0         4.0         2.0   \n",
       "2       0.0      0.0       9.0  ...         2.0         3.0         3.0   \n",
       "3       0.0      0.0       4.0  ...         1.0         2.0         1.0   \n",
       "4       0.0      0.0       8.0  ...         2.0         2.0         1.0   \n",
       "\n",
       "   ST348Q02JA  ST348Q03JA  ST348Q04JA  ST348Q05JA  ST348Q06JA  ST348Q07JA  \\\n",
       "0         4.0         4.0         3.0         4.0         3.0         2.0   \n",
       "1         3.0         2.0         3.0         4.0         4.0         4.0   \n",
       "2         3.0         2.0         3.0         3.0         2.0         2.0   \n",
       "3         3.0         4.0         1.0         4.0         1.0         2.0   \n",
       "4         3.0         4.0         3.0         4.0         3.0         2.0   \n",
       "\n",
       "   ST348Q08JA  \n",
       "0         2.0  \n",
       "1         4.0  \n",
       "2         2.0  \n",
       "3         1.0  \n",
       "4         2.0  \n",
       "\n",
       "[5 rows x 67 columns]"
      ]
     },
     "execution_count": 37,
     "metadata": {},
     "output_type": "execute_result"
    }
   ],
   "source": [
    "# load data (you might have to change the filepath -- my project files are in a sub-folder called final_project)\n",
    "seed = 2001\n",
    "\n",
    "df = pd.read_csv(\"/home/jupyter/final_project/pisa_median.csv\")\n",
    "df.head()"
   ]
  },
  {
   "cell_type": "code",
   "execution_count": 38,
   "id": "bc47a823-a7d5-4f8d-a2dc-f506e581852d",
   "metadata": {},
   "outputs": [],
   "source": [
    "# split into target and features\n",
    "y = df[\"ST352Q06JA\"].values\n",
    "X = df.drop([\"ST352Q06JA\"], axis=1).values"
   ]
  },
  {
   "cell_type": "code",
   "execution_count": 39,
   "id": "813b144f-7adc-4ae9-afec-6860b3dfcec2",
   "metadata": {},
   "outputs": [],
   "source": [
    "# split data into training and test\n",
    "X_train, X_test, y_train, y_test = train_test_split(X, \n",
    "                                                    y, \n",
    "                                                    test_size = 0.2, # common to use 20-30% of data as test set\n",
    "                                                    random_state = seed, # set seed equivalent\n",
    "                                                    stratify = y) # outcome amounts equal in train and test"
   ]
  },
  {
   "cell_type": "code",
   "execution_count": 40,
   "id": "ced91faa-6694-4efc-b00b-702c6c91fcf1",
   "metadata": {},
   "outputs": [
    {
     "data": {
      "text/plain": [
       "array([   0, 1349, 2325, 2088, 3182])"
      ]
     },
     "execution_count": 40,
     "metadata": {},
     "output_type": "execute_result"
    }
   ],
   "source": [
    "# frequency of observations in training data pre-oversampling -- THIS BLOCK CAN BE DELETED\n",
    "temp = y_train.astype(int)\n",
    "np.bincount(temp)"
   ]
  },
  {
   "cell_type": "code",
   "execution_count": 41,
   "id": "0541fbe2-a2e7-4986-8d9a-a6d6f8db2bf9",
   "metadata": {},
   "outputs": [],
   "source": [
    "# conduct oversampling on training data using SMOTE\n",
    "# SMOTE overview here: https://www.youtube.com/watch?v=1Ic7GRtDrPM\n",
    "smote = SMOTE(random_state = seed)\n",
    "X_smote, y_smote = smote.fit_resample(X_train, y_train)"
   ]
  },
  {
   "cell_type": "code",
   "execution_count": 42,
   "id": "6f77fce0-d710-4aed-bdf0-c63e2d292606",
   "metadata": {},
   "outputs": [
    {
     "data": {
      "text/plain": [
       "array([   0, 3182, 3182, 3182, 3182])"
      ]
     },
     "execution_count": 42,
     "metadata": {},
     "output_type": "execute_result"
    }
   ],
   "source": [
    "# frequency of observations in training data post-oversampling -- THIS BLOCK CAN BE DELETED\n",
    "temp2 = y_smote.astype(int)\n",
    "np.bincount(temp2)"
   ]
  },
  {
   "cell_type": "code",
   "execution_count": 43,
   "id": "02c7f18d-07c2-4ea3-bb08-39b8b29b6628",
   "metadata": {},
   "outputs": [],
   "source": [
    "# define the parameter grid for hyperparameter tuning\n",
    "param_grid = {'n_estimators': [50, 250, 450, 650],\n",
    "              'max_depth': [1,4,7,10],\n",
    "              'max_features': [20, 50, 80, 110, 140]}\n",
    "\n",
    "# create a random forest regressor\n",
    "rf = RandomForestClassifier(random_state=seed)"
   ]
  },
  {
   "cell_type": "code",
   "execution_count": 44,
   "id": "4a84099a-5f95-4bd7-93d5-e9e48b8be80f",
   "metadata": {},
   "outputs": [],
   "source": [
    "k_folds = KFold(n_splits=5, shuffle=True, random_state=seed)"
   ]
  },
  {
   "cell_type": "code",
   "execution_count": 11,
   "id": "7f6db3a5-fb97-4c90-8d43-949d52942b50",
   "metadata": {},
   "outputs": [
    {
     "name": "stdout",
     "output_type": "stream",
     "text": [
      "Fitting 5 folds for each of 80 candidates, totalling 400 fits\n"
     ]
    },
    {
     "data": {
      "text/html": [
       "<style>#sk-container-id-1 {color: black;}#sk-container-id-1 pre{padding: 0;}#sk-container-id-1 div.sk-toggleable {background-color: white;}#sk-container-id-1 label.sk-toggleable__label {cursor: pointer;display: block;width: 100%;margin-bottom: 0;padding: 0.3em;box-sizing: border-box;text-align: center;}#sk-container-id-1 label.sk-toggleable__label-arrow:before {content: \"▸\";float: left;margin-right: 0.25em;color: #696969;}#sk-container-id-1 label.sk-toggleable__label-arrow:hover:before {color: black;}#sk-container-id-1 div.sk-estimator:hover label.sk-toggleable__label-arrow:before {color: black;}#sk-container-id-1 div.sk-toggleable__content {max-height: 0;max-width: 0;overflow: hidden;text-align: left;background-color: #f0f8ff;}#sk-container-id-1 div.sk-toggleable__content pre {margin: 0.2em;color: black;border-radius: 0.25em;background-color: #f0f8ff;}#sk-container-id-1 input.sk-toggleable__control:checked~div.sk-toggleable__content {max-height: 200px;max-width: 100%;overflow: auto;}#sk-container-id-1 input.sk-toggleable__control:checked~label.sk-toggleable__label-arrow:before {content: \"▾\";}#sk-container-id-1 div.sk-estimator input.sk-toggleable__control:checked~label.sk-toggleable__label {background-color: #d4ebff;}#sk-container-id-1 div.sk-label input.sk-toggleable__control:checked~label.sk-toggleable__label {background-color: #d4ebff;}#sk-container-id-1 input.sk-hidden--visually {border: 0;clip: rect(1px 1px 1px 1px);clip: rect(1px, 1px, 1px, 1px);height: 1px;margin: -1px;overflow: hidden;padding: 0;position: absolute;width: 1px;}#sk-container-id-1 div.sk-estimator {font-family: monospace;background-color: #f0f8ff;border: 1px dotted black;border-radius: 0.25em;box-sizing: border-box;margin-bottom: 0.5em;}#sk-container-id-1 div.sk-estimator:hover {background-color: #d4ebff;}#sk-container-id-1 div.sk-parallel-item::after {content: \"\";width: 100%;border-bottom: 1px solid gray;flex-grow: 1;}#sk-container-id-1 div.sk-label:hover label.sk-toggleable__label {background-color: #d4ebff;}#sk-container-id-1 div.sk-serial::before {content: \"\";position: absolute;border-left: 1px solid gray;box-sizing: border-box;top: 0;bottom: 0;left: 50%;z-index: 0;}#sk-container-id-1 div.sk-serial {display: flex;flex-direction: column;align-items: center;background-color: white;padding-right: 0.2em;padding-left: 0.2em;position: relative;}#sk-container-id-1 div.sk-item {position: relative;z-index: 1;}#sk-container-id-1 div.sk-parallel {display: flex;align-items: stretch;justify-content: center;background-color: white;position: relative;}#sk-container-id-1 div.sk-item::before, #sk-container-id-1 div.sk-parallel-item::before {content: \"\";position: absolute;border-left: 1px solid gray;box-sizing: border-box;top: 0;bottom: 0;left: 50%;z-index: -1;}#sk-container-id-1 div.sk-parallel-item {display: flex;flex-direction: column;z-index: 1;position: relative;background-color: white;}#sk-container-id-1 div.sk-parallel-item:first-child::after {align-self: flex-end;width: 50%;}#sk-container-id-1 div.sk-parallel-item:last-child::after {align-self: flex-start;width: 50%;}#sk-container-id-1 div.sk-parallel-item:only-child::after {width: 0;}#sk-container-id-1 div.sk-dashed-wrapped {border: 1px dashed gray;margin: 0 0.4em 0.5em 0.4em;box-sizing: border-box;padding-bottom: 0.4em;background-color: white;}#sk-container-id-1 div.sk-label label {font-family: monospace;font-weight: bold;display: inline-block;line-height: 1.2em;}#sk-container-id-1 div.sk-label-container {text-align: center;}#sk-container-id-1 div.sk-container {/* jupyter's `normalize.less` sets `[hidden] { display: none; }` but bootstrap.min.css set `[hidden] { display: none !important; }` so we also need the `!important` here to be able to override the default hidden behavior on the sphinx rendered scikit-learn.org. See: https://github.com/scikit-learn/scikit-learn/issues/21755 */display: inline-block !important;position: relative;}#sk-container-id-1 div.sk-text-repr-fallback {display: none;}</style><div id=\"sk-container-id-1\" class=\"sk-top-container\"><div class=\"sk-text-repr-fallback\"><pre>GridSearchCV(cv=KFold(n_splits=5, random_state=2001, shuffle=True),\n",
       "             estimator=RandomForestClassifier(random_state=2001),\n",
       "             param_grid={&#x27;max_depth&#x27;: [1, 4, 7, 10],\n",
       "                         &#x27;max_features&#x27;: [20, 50, 80, 110, 140],\n",
       "                         &#x27;n_estimators&#x27;: [50, 250, 450, 650]},\n",
       "             return_train_score=True, scoring=&#x27;neg_mean_squared_error&#x27;,\n",
       "             verbose=1)</pre><b>In a Jupyter environment, please rerun this cell to show the HTML representation or trust the notebook. <br />On GitHub, the HTML representation is unable to render, please try loading this page with nbviewer.org.</b></div><div class=\"sk-container\" hidden><div class=\"sk-item sk-dashed-wrapped\"><div class=\"sk-label-container\"><div class=\"sk-label sk-toggleable\"><input class=\"sk-toggleable__control sk-hidden--visually\" id=\"sk-estimator-id-1\" type=\"checkbox\" ><label for=\"sk-estimator-id-1\" class=\"sk-toggleable__label sk-toggleable__label-arrow\">GridSearchCV</label><div class=\"sk-toggleable__content\"><pre>GridSearchCV(cv=KFold(n_splits=5, random_state=2001, shuffle=True),\n",
       "             estimator=RandomForestClassifier(random_state=2001),\n",
       "             param_grid={&#x27;max_depth&#x27;: [1, 4, 7, 10],\n",
       "                         &#x27;max_features&#x27;: [20, 50, 80, 110, 140],\n",
       "                         &#x27;n_estimators&#x27;: [50, 250, 450, 650]},\n",
       "             return_train_score=True, scoring=&#x27;neg_mean_squared_error&#x27;,\n",
       "             verbose=1)</pre></div></div></div><div class=\"sk-parallel\"><div class=\"sk-parallel-item\"><div class=\"sk-item\"><div class=\"sk-label-container\"><div class=\"sk-label sk-toggleable\"><input class=\"sk-toggleable__control sk-hidden--visually\" id=\"sk-estimator-id-2\" type=\"checkbox\" ><label for=\"sk-estimator-id-2\" class=\"sk-toggleable__label sk-toggleable__label-arrow\">estimator: RandomForestClassifier</label><div class=\"sk-toggleable__content\"><pre>RandomForestClassifier(random_state=2001)</pre></div></div></div><div class=\"sk-serial\"><div class=\"sk-item\"><div class=\"sk-estimator sk-toggleable\"><input class=\"sk-toggleable__control sk-hidden--visually\" id=\"sk-estimator-id-3\" type=\"checkbox\" ><label for=\"sk-estimator-id-3\" class=\"sk-toggleable__label sk-toggleable__label-arrow\">RandomForestClassifier</label><div class=\"sk-toggleable__content\"><pre>RandomForestClassifier(random_state=2001)</pre></div></div></div></div></div></div></div></div></div></div>"
      ],
      "text/plain": [
       "GridSearchCV(cv=KFold(n_splits=5, random_state=2001, shuffle=True),\n",
       "             estimator=RandomForestClassifier(random_state=2001),\n",
       "             param_grid={'max_depth': [1, 4, 7, 10],\n",
       "                         'max_features': [20, 50, 80, 110, 140],\n",
       "                         'n_estimators': [50, 250, 450, 650]},\n",
       "             return_train_score=True, scoring='neg_mean_squared_error',\n",
       "             verbose=1)"
      ]
     },
     "execution_count": 11,
     "metadata": {},
     "output_type": "execute_result"
    }
   ],
   "source": [
    "# Create a GridSearchCV object\n",
    "grid_rf = GridSearchCV(\n",
    "    estimator=rf,\n",
    "    param_grid=param_grid,\n",
    "    scoring = 'neg_mean_squared_error',\n",
    "    cv=k_folds, \n",
    "    return_train_score=True,\n",
    "    verbose=1)\n",
    "\n",
    "# Fit the random search object to the data\n",
    "grid_rf.fit(X_smote, y_smote)"
   ]
  },
  {
   "cell_type": "code",
   "execution_count": 12,
   "id": "80a60c5b-799d-413b-91b0-f5a36c304886",
   "metadata": {},
   "outputs": [
    {
     "name": "stdout",
     "output_type": "stream",
     "text": [
      "\n",
      " The best score across ALL searched params:\n",
      " -0.8895362192244237\n",
      "\n",
      " The best parameters across ALL searched params:\n",
      " {'max_depth': 10, 'max_features': 20, 'n_estimators': 250}\n"
     ]
    }
   ],
   "source": [
    "print(\"\\n The best score across ALL searched params:\\n\", grid_rf.best_score_)\n",
    "print(\"\\n The best parameters across ALL searched params:\\n\", grid_rf.best_params_)"
   ]
  },
  {
   "cell_type": "code",
   "execution_count": 13,
   "id": "867b4530-5c87-43bf-8849-a4f57828656f",
   "metadata": {},
   "outputs": [],
   "source": [
    "# convert results to pandas df\n",
    "cv_results_dict = pd.DataFrame.from_dict(grid_rf.cv_results_)\n",
    " \n",
    "# write to csv for future reference\n",
    "cv_results_dict.to_csv(\"/home/jupyter/final_project/rf_cv_results.csv\")"
   ]
  },
  {
   "cell_type": "code",
   "execution_count": 45,
   "id": "1d0dadd2",
   "metadata": {},
   "outputs": [
    {
     "name": "stdout",
     "output_type": "stream",
     "text": [
      "    Unnamed: 0  mean_fit_time  std_fit_time  mean_score_time  std_score_time  \\\n",
      "61          61      23.689694      0.324684         0.120937        0.003507   \n",
      "\n",
      "    param_max_depth  param_max_features  param_n_estimators  \\\n",
      "61               10                  20                 250   \n",
      "\n",
      "                                               params  split0_test_score  ...  \\\n",
      "61  {'max_depth': 10, 'max_features': 20, 'n_estim...          -0.835821  ...   \n",
      "\n",
      "    mean_test_score  std_test_score  rank_test_score  split0_train_score  \\\n",
      "61        -0.889536        0.027759                1           -0.499116   \n",
      "\n",
      "    split1_train_score  split2_train_score  split3_train_score  \\\n",
      "61           -0.501866           -0.472304           -0.488167   \n",
      "\n",
      "    split4_train_score  mean_train_score  std_train_score  \n",
      "61           -0.509477         -0.494186         0.012901  \n",
      "\n",
      "[1 rows x 24 columns]\n"
     ]
    }
   ],
   "source": [
    "# read csv of results (so you don't have to run hyperparameter tuning again)\n",
    "hyperparams = pd.read_csv(\"rf_cv_results.csv\")\n",
    "\n",
    "# get best hyperparameters\n",
    "print(hyperparams[hyperparams[\"rank_test_score\"] == 1])\n",
    "max_features = hyperparams[hyperparams[\"rank_test_score\"] == 1][\"param_max_features\"].values[0]\n",
    "n_estimators =  hyperparams[hyperparams[\"rank_test_score\"] == 1][\"param_n_estimators\"].values[0]\n",
    "max_depth = hyperparams[hyperparams[\"rank_test_score\"] == 1][\"param_max_depth\"].values[0]"
   ]
  },
  {
   "cell_type": "code",
   "execution_count": 46,
   "id": "7f5e9134-5873-4add-bd23-9b3a294a6824",
   "metadata": {},
   "outputs": [
    {
     "name": "stdout",
     "output_type": "stream",
     "text": [
      "20 250 10\n"
     ]
    }
   ],
   "source": [
    "print(max_features, n_estimators, max_depth)"
   ]
  },
  {
   "cell_type": "code",
   "execution_count": 47,
   "id": "52b5618d-6aff-4a72-9ab6-f43b1ed3b2b4",
   "metadata": {},
   "outputs": [
    {
     "data": {
      "text/html": [
       "<style>#sk-container-id-3 {color: black;}#sk-container-id-3 pre{padding: 0;}#sk-container-id-3 div.sk-toggleable {background-color: white;}#sk-container-id-3 label.sk-toggleable__label {cursor: pointer;display: block;width: 100%;margin-bottom: 0;padding: 0.3em;box-sizing: border-box;text-align: center;}#sk-container-id-3 label.sk-toggleable__label-arrow:before {content: \"▸\";float: left;margin-right: 0.25em;color: #696969;}#sk-container-id-3 label.sk-toggleable__label-arrow:hover:before {color: black;}#sk-container-id-3 div.sk-estimator:hover label.sk-toggleable__label-arrow:before {color: black;}#sk-container-id-3 div.sk-toggleable__content {max-height: 0;max-width: 0;overflow: hidden;text-align: left;background-color: #f0f8ff;}#sk-container-id-3 div.sk-toggleable__content pre {margin: 0.2em;color: black;border-radius: 0.25em;background-color: #f0f8ff;}#sk-container-id-3 input.sk-toggleable__control:checked~div.sk-toggleable__content {max-height: 200px;max-width: 100%;overflow: auto;}#sk-container-id-3 input.sk-toggleable__control:checked~label.sk-toggleable__label-arrow:before {content: \"▾\";}#sk-container-id-3 div.sk-estimator input.sk-toggleable__control:checked~label.sk-toggleable__label {background-color: #d4ebff;}#sk-container-id-3 div.sk-label input.sk-toggleable__control:checked~label.sk-toggleable__label {background-color: #d4ebff;}#sk-container-id-3 input.sk-hidden--visually {border: 0;clip: rect(1px 1px 1px 1px);clip: rect(1px, 1px, 1px, 1px);height: 1px;margin: -1px;overflow: hidden;padding: 0;position: absolute;width: 1px;}#sk-container-id-3 div.sk-estimator {font-family: monospace;background-color: #f0f8ff;border: 1px dotted black;border-radius: 0.25em;box-sizing: border-box;margin-bottom: 0.5em;}#sk-container-id-3 div.sk-estimator:hover {background-color: #d4ebff;}#sk-container-id-3 div.sk-parallel-item::after {content: \"\";width: 100%;border-bottom: 1px solid gray;flex-grow: 1;}#sk-container-id-3 div.sk-label:hover label.sk-toggleable__label {background-color: #d4ebff;}#sk-container-id-3 div.sk-serial::before {content: \"\";position: absolute;border-left: 1px solid gray;box-sizing: border-box;top: 0;bottom: 0;left: 50%;z-index: 0;}#sk-container-id-3 div.sk-serial {display: flex;flex-direction: column;align-items: center;background-color: white;padding-right: 0.2em;padding-left: 0.2em;position: relative;}#sk-container-id-3 div.sk-item {position: relative;z-index: 1;}#sk-container-id-3 div.sk-parallel {display: flex;align-items: stretch;justify-content: center;background-color: white;position: relative;}#sk-container-id-3 div.sk-item::before, #sk-container-id-3 div.sk-parallel-item::before {content: \"\";position: absolute;border-left: 1px solid gray;box-sizing: border-box;top: 0;bottom: 0;left: 50%;z-index: -1;}#sk-container-id-3 div.sk-parallel-item {display: flex;flex-direction: column;z-index: 1;position: relative;background-color: white;}#sk-container-id-3 div.sk-parallel-item:first-child::after {align-self: flex-end;width: 50%;}#sk-container-id-3 div.sk-parallel-item:last-child::after {align-self: flex-start;width: 50%;}#sk-container-id-3 div.sk-parallel-item:only-child::after {width: 0;}#sk-container-id-3 div.sk-dashed-wrapped {border: 1px dashed gray;margin: 0 0.4em 0.5em 0.4em;box-sizing: border-box;padding-bottom: 0.4em;background-color: white;}#sk-container-id-3 div.sk-label label {font-family: monospace;font-weight: bold;display: inline-block;line-height: 1.2em;}#sk-container-id-3 div.sk-label-container {text-align: center;}#sk-container-id-3 div.sk-container {/* jupyter's `normalize.less` sets `[hidden] { display: none; }` but bootstrap.min.css set `[hidden] { display: none !important; }` so we also need the `!important` here to be able to override the default hidden behavior on the sphinx rendered scikit-learn.org. See: https://github.com/scikit-learn/scikit-learn/issues/21755 */display: inline-block !important;position: relative;}#sk-container-id-3 div.sk-text-repr-fallback {display: none;}</style><div id=\"sk-container-id-3\" class=\"sk-top-container\"><div class=\"sk-text-repr-fallback\"><pre>RandomForestClassifier(max_depth=10, max_features=20, n_estimators=250,\n",
       "                       random_state=2001)</pre><b>In a Jupyter environment, please rerun this cell to show the HTML representation or trust the notebook. <br />On GitHub, the HTML representation is unable to render, please try loading this page with nbviewer.org.</b></div><div class=\"sk-container\" hidden><div class=\"sk-item\"><div class=\"sk-estimator sk-toggleable\"><input class=\"sk-toggleable__control sk-hidden--visually\" id=\"sk-estimator-id-5\" type=\"checkbox\" checked><label for=\"sk-estimator-id-5\" class=\"sk-toggleable__label sk-toggleable__label-arrow\">RandomForestClassifier</label><div class=\"sk-toggleable__content\"><pre>RandomForestClassifier(max_depth=10, max_features=20, n_estimators=250,\n",
       "                       random_state=2001)</pre></div></div></div></div></div>"
      ],
      "text/plain": [
       "RandomForestClassifier(max_depth=10, max_features=20, n_estimators=250,\n",
       "                       random_state=2001)"
      ]
     },
     "execution_count": 47,
     "metadata": {},
     "output_type": "execute_result"
    }
   ],
   "source": [
    "# fit cross_val with best estimator in training data to get various outcomes beyond rmse\n",
    "# instantiate classifier\n",
    "clf = RandomForestClassifier(n_estimators = n_estimators,\n",
    "                        max_features = max_features,\n",
    "                        max_depth = max_depth,\n",
    "                        random_state = seed)\n",
    "\n",
    "# fit classifier to training data\n",
    "clf.fit(X_smote, y_smote)"
   ]
  },
  {
   "cell_type": "code",
   "execution_count": 49,
   "id": "e6ae3677-e719-4c54-81db-d10d6c2908bd",
   "metadata": {},
   "outputs": [
    {
     "data": {
      "text/plain": [
       "{'fit_time': array([22.13302183, 21.80778241, 22.11107326, 22.11308694, 22.19904566]),\n",
       " 'score_time': array([0.28812909, 0.24907446, 0.30323815, 0.34686232, 0.26253557]),\n",
       " 'test_neg_mean_squared_error': array([-0.8358209 , -0.90219953, -0.91358995, -0.89155206, -0.90451866]),\n",
       " 'train_neg_mean_squared_error': array([-0.49911609, -0.50186604, -0.47230407, -0.48816655, -0.50947658]),\n",
       " 'test_f1_micro': array([0.63550668, 0.61076198, 0.62372349, 0.63418468, 0.61886051]),\n",
       " 'train_f1_micro': array([0.78236103, 0.77420939, 0.78520919, 0.78130217, 0.77383875]),\n",
       " 'test_neg_root_mean_squared_error': array([-0.91423241, -0.94984184, -0.95581899, -0.94422035, -0.95106186]),\n",
       " 'train_neg_root_mean_squared_error': array([-0.70648148, -0.70842504, -0.68724382, -0.69868917, -0.71377628]),\n",
       " 'test_neg_mean_absolute_error': array([-0.50903378, -0.54399057, -0.53731343, -0.52141454, -0.53595285]),\n",
       " 'train_neg_mean_absolute_error': array([-0.3024946 , -0.3103516 , -0.29395011, -0.30138466, -0.31208878]),\n",
       " 'test_roc_auc_ovr': array([0.85242163, 0.84411015, 0.85336437, 0.851231  , 0.84986166]),\n",
       " 'train_roc_auc_ovr': array([0.95325582, 0.95345871, 0.95296079, 0.95267733, 0.95129937]),\n",
       " 'test_precision_micro': array([0.63550668, 0.61076198, 0.62372349, 0.63418468, 0.61886051]),\n",
       " 'train_precision_micro': array([0.78236103, 0.77420939, 0.78520919, 0.78130217, 0.77383875]),\n",
       " 'test_recall_micro': array([0.63550668, 0.61076198, 0.62372349, 0.63418468, 0.61886051]),\n",
       " 'train_recall_micro': array([0.78236103, 0.77420939, 0.78520919, 0.78130217, 0.77383875])}"
      ]
     },
     "execution_count": 49,
     "metadata": {},
     "output_type": "execute_result"
    }
   ],
   "source": [
    "# fit cross_val to test data, get predicted values\n",
    "# cross_val KFold object created earlier\n",
    "# could replace this with cross_validation to get multiple scores at once\n",
    "# train_scores = cross_val_score(clf, X_smote, y_smote, cv=cross_val)\n",
    "train_scores = cross_validate(clf,\n",
    "                              X_smote,\n",
    "                              y_smote,\n",
    "                              cv = k_folds,\n",
    "                              scoring = [\"neg_mean_squared_error\", \"f1_micro\", \"neg_root_mean_squared_error\", \"neg_mean_absolute_error\", \"roc_auc_ovr\", \"precision_micro\", \"recall_micro\"],\n",
    "                              return_train_score = True)\n",
    "\n",
    "train_scores"
   ]
  },
  {
   "cell_type": "code",
   "execution_count": 50,
   "id": "a384dc1a-6733-4394-a994-a9914d114d54",
   "metadata": {},
   "outputs": [
    {
     "name": "stdout",
     "output_type": "stream",
     "text": [
      "Training F1 score: 0.779384106444291\n",
      "Validation F1 score: 0.6246074662361855\n",
      "Validation F1 SD: 0.00933833130121686\n",
      "\n",
      "Training precision score: 0.779384106444291\n",
      "Validation precision score: 0.6246074662361855\n",
      "Validation precision SD: 0.00933833130121686\n",
      "\n",
      "Training recall score: 0.779384106444291\n",
      "Validation recall score: 0.6246074662361855\n",
      "Validation recall SD: 0.00933833130121686\n",
      "\n",
      "Training MSE score: 0.49418586440521095\n",
      "Validation MSE score: 0.8895362192244237\n",
      "Validation MSE SD: 0.02775901442525209\n",
      "\n",
      "Training RMSE score: 0.7029231581039166\n",
      "Validation RMSE score: 0.9430350903000642\n",
      "Validation RMSE SD: 0.014867336250101901\n",
      "\n",
      "Training MAE score: 0.30405394866556434\n",
      "Validation MAE score: 0.5295410343587614\n",
      "Validation MAE score: 0.012624564969122043\n",
      "\n",
      "Training ROC score: 0.9527304062563765\n",
      "Validation ROC score: 0.8501977644076861\n",
      "Validation ROC score: 0.0032622859199506215\n",
      "\n"
     ]
    }
   ],
   "source": [
    "# f1 score\n",
    "print(f\"Training F1 score: {(train_scores['train_f1_micro']).mean()}\")\n",
    "print(f\"Validation F1 score: {(train_scores['test_f1_micro']).mean()}\")\n",
    "print(f\"Validation F1 SD: {(train_scores['test_f1_micro']).std()}\\n\")\n",
    "\n",
    "# precision (of all instances labelled as positive, how many were actually positive?)\n",
    "print(f\"Training precision score: {(train_scores['train_precision_micro']).mean()}\")\n",
    "print(f\"Validation precision score: {(train_scores['test_precision_micro']).mean()}\")\n",
    "print(f\"Validation precision SD: {(train_scores['test_precision_micro']).std()}\\n\")\n",
    "\n",
    "# recall (of all actual positive instances, how many were correctly classified?)\n",
    "print(f\"Training recall score: {(train_scores['train_recall_micro']).mean()}\")\n",
    "print(f\"Validation recall score: {(train_scores['test_recall_micro']).mean()}\")\n",
    "print(f\"Validation recall SD: {(train_scores['test_recall_micro']).std()}\\n\")\n",
    "\n",
    "# mean squared error\n",
    "print(f\"Training MSE score: {(-1*train_scores['train_neg_mean_squared_error']).mean()}\")\n",
    "print(f\"Validation MSE score: {(-1*train_scores['test_neg_mean_squared_error']).mean()}\")\n",
    "print(f\"Validation MSE SD: {(-1*train_scores['test_neg_mean_squared_error']).std()}\\n\")\n",
    "\n",
    "# root mean squared error\n",
    "print(f\"Training RMSE score: {np.sqrt(-1*train_scores['train_neg_mean_squared_error']).mean()}\")\n",
    "print(f\"Validation RMSE score: {np.sqrt(-1*train_scores['test_neg_mean_squared_error']).mean()}\")\n",
    "print(f\"Validation RMSE SD: {np.sqrt(-1*train_scores['test_neg_mean_squared_error']).std()}\\n\")\n",
    "\n",
    "# mean absolute error\n",
    "print(f\"Training MAE score: {(-1*train_scores['train_neg_mean_absolute_error']).mean()}\")\n",
    "print(f\"Validation MAE score: {(-1*train_scores['test_neg_mean_absolute_error']).mean()}\")\n",
    "print(f\"Validation MAE score: {(-1*train_scores['test_neg_mean_absolute_error']).std()}\\n\")\n",
    "\n",
    "# ROC\n",
    "print(f\"Training ROC score: {(train_scores['train_roc_auc_ovr']).mean()}\")\n",
    "print(f\"Validation ROC score: {(train_scores['test_roc_auc_ovr']).mean()}\")\n",
    "print(f\"Validation ROC score: {(train_scores['test_roc_auc_ovr']).std()}\\n\")"
   ]
  },
  {
   "cell_type": "code",
   "execution_count": 51,
   "id": "6fb35070-0453-448f-9d98-e06bce261501",
   "metadata": {},
   "outputs": [
    {
     "data": {
      "text/plain": [
       "array([ 4,  5, 10,  9, 12, 11, 22, 20,  6, 48, 46, 47,  7, 21, 60, 61, 50,\n",
       "       58, 59, 63,  3, 54, 62, 45, 52, 15, 19,  2,  8, 51, 16, 65,  1, 64,\n",
       "       55, 40, 18, 53, 31, 30, 33, 29, 13, 26, 28, 36, 25, 49, 38, 27, 17,\n",
       "       57, 23, 24, 37, 56,  0, 14, 32, 35, 34, 39, 42, 41, 44, 43])"
      ]
     },
     "execution_count": 51,
     "metadata": {},
     "output_type": "execute_result"
    }
   ],
   "source": [
    "# get order of feature importances, sorted from least to most important\n",
    "sorted_idx = clf.feature_importances_.argsort() \n",
    "sorted_idx"
   ]
  },
  {
   "cell_type": "code",
   "execution_count": 52,
   "id": "e2cce36f-f023-45bd-9362-11c790160b30",
   "metadata": {},
   "outputs": [
    {
     "data": {
      "text/plain": [
       "array([57, 23, 24, 37, 56,  0, 14, 32, 35, 34, 39, 42, 41, 44, 43])"
      ]
     },
     "execution_count": 52,
     "metadata": {},
     "output_type": "execute_result"
    }
   ],
   "source": [
    "# get best 15 indices, i.e. the last 15\n",
    "top_15_idx = sorted_idx[-15:]\n",
    "top_15_idx"
   ]
  },
  {
   "cell_type": "code",
   "execution_count": 53,
   "id": "5a59c185-341f-4646-bdac-e8257cfd7887",
   "metadata": {},
   "outputs": [
    {
     "data": {
      "text/plain": [
       "array(['ST348Q01JA', 'ANXMAT', 'MATHEFF', 'ST352Q01JA', 'ST353Q08JA',\n",
       "       'AGE', 'WORKPAY', 'EMPATAGR', 'FAMSUP', 'STRESAGR', 'ST352Q03JA',\n",
       "       'ST352Q07JA', 'ST352Q05JA', 'ST354Q02JA', 'ST352Q08JA'],\n",
       "      dtype=object)"
      ]
     },
     "execution_count": 53,
     "metadata": {},
     "output_type": "execute_result"
    }
   ],
   "source": [
    "# get corresponding feature names\n",
    "top_features = np.array(df.drop([\"ST352Q06JA\", \"Unnamed: 0\"], axis=1).columns)[top_15_idx]\n",
    "top_features"
   ]
  },
  {
   "cell_type": "code",
   "execution_count": 54,
   "id": "a2e6e14c-8e4e-413d-b0f3-d15490e6248d",
   "metadata": {},
   "outputs": [
    {
     "data": {
      "text/plain": [
       "array([0.01291578, 0.01304604, 0.01316918, 0.01338649, 0.01351532,\n",
       "       0.01355872, 0.01412844, 0.01445343, 0.01511526, 0.01976803,\n",
       "       0.03759433, 0.05367735, 0.05662539, 0.11885847, 0.27898669])"
      ]
     },
     "execution_count": 54,
     "metadata": {},
     "output_type": "execute_result"
    }
   ],
   "source": [
    "# get corresponding feature importances\n",
    "top_importances = clf.feature_importances_[top_15_idx]\n",
    "top_importances"
   ]
  },
  {
   "cell_type": "code",
   "execution_count": 55,
   "id": "20e319e8-54c4-4136-94b6-69694a1960c7",
   "metadata": {},
   "outputs": [
    {
     "data": {
      "image/png": "[encoded data removed]",
      "text/plain": [
       "<Figure size 640x480 with 1 Axes>"
      ]
     },
     "metadata": {},
     "output_type": "display_data"
    }
   ],
   "source": [
    "# plot top 15 features\n",
    "plt.barh(top_features, top_importances)\n",
    "plt.xlabel(\"XGBoost Feature Importance\")\n",
    "# export to png\n",
    "plt.tight_layout() # prevent label cropping\n",
    "plt.savefig('top_features_xgb.png', dpi=300)\n",
    "plt.show()"
   ]
  },
  {
   "cell_type": "code",
   "execution_count": 57,
   "id": "23cb3654-4699-4586-9e93-5fb2db23b856",
   "metadata": {},
   "outputs": [
    {
     "name": "stdout",
     "output_type": "stream",
     "text": [
      "[[205  94   8  30]\n",
      " [ 79 381  55  67]\n",
      " [ 26 185 163 148]\n",
      " [ 58 148  82 508]]\n",
      "f1 score: 0.562\n",
      "precision: 0.562\n",
      "recall: 0.562\n",
      "mean squared error: 1.087\n",
      "root mean squared error: 1.042\n",
      "mean absolute error: 0.628\n",
      "AUC: 0.809\n"
     ]
    }
   ],
   "source": [
    "# compare predicted values to actual y_test\n",
    "y_pred = clf.predict(X_test)\n",
    "\n",
    "\n",
    "# get outcomes of interest\n",
    "# confusion matrix\n",
    "cm = confusion_matrix(y_test, y_pred)\n",
    "print(cm)\n",
    "\n",
    "# F1 score\n",
    "f1 = f1_score(y_test, y_pred, average=\"micro\")\n",
    "print(f'f1 score: {round(f1, 3)}')\n",
    "\n",
    "# Precision\n",
    "precision = precision_score(y_test, y_pred, average=\"micro\")\n",
    "print(f'precision: {round(precision, 3)}')\n",
    "\n",
    "# Recall\n",
    "recall = recall_score(y_test, y_pred, average=\"micro\")\n",
    "print(f'recall: {round(recall, 3)}')\n",
    "\n",
    "# Mean Squared error\n",
    "mse = mean_squared_error(y_test, y_pred)\n",
    "print(f'mean squared error: {round(mse, 3)}')\n",
    "\n",
    "# Root mean squared error\n",
    "rmse = np.sqrt(mean_squared_error(y_test, y_pred))\n",
    "print(f'root mean squared error: {round(rmse, 3)}')\n",
    "\n",
    "# Mean Absolute Error\n",
    "mae = mean_absolute_error(y_test, y_pred)\n",
    "print(f'mean absolute error: {round(mae, 3)}')\n",
    "\n",
    "# ROC curve\n",
    "roc = roc_auc_score(y_test,\n",
    "                    clf.predict_proba(X_test),\n",
    "                    multi_class=\"ovr\",\n",
    "                    average=\"micro\")\n",
    "print(f'AUC: {round(roc, 3)}')"
   ]
  },
  {
   "cell_type": "code",
   "execution_count": null,
   "id": "c4bfba6b-b8f4-4173-9c80-eb7609102688",
   "metadata": {},
   "outputs": [],
   "source": []
  }
 ],
 "metadata": {
  "kernelspec": {
   "display_name": "Python 3 (ipykernel)",
   "language": "python",
   "name": "python3"
  },
  "language_info": {
   "codemirror_mode": {
    "name": "ipython",
    "version": 3
   },
   "file_extension": ".py",
   "mimetype": "text/x-python",
   "name": "python",
   "nbconvert_exporter": "python",
   "pygments_lexer": "ipython3",
   "version": "3.11.6"
  }
 },
 "nbformat": 4,
 "nbformat_minor": 5
}
