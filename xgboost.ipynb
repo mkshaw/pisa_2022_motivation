{
 "cells": [
  {
   "cell_type": "markdown",
   "id": "fd3a7bc6-0291-4275-88ce-a28e091dce35",
   "metadata": {},
   "source": [
    "# Split Data into Training and Test"
   ]
  },
  {
   "cell_type": "code",
   "execution_count": 1,
   "id": "cd39cdc7-5a00-43a5-b72f-e96521f006e5",
   "metadata": {},
   "outputs": [
    {
     "name": "stdout",
     "output_type": "stream",
     "text": [
      "\u001b[33mWARNING: Skipping /opt/conda/lib/python3.11/site-packages/nlopt-2.7.1.dist-info due to invalid metadata entry 'name'\u001b[0m\u001b[33m\n",
      "\u001b[0mRequirement already satisfied: imblearn in /opt/conda/lib/python3.11/site-packages (0.0)\n",
      "Requirement already satisfied: imbalanced-learn in /opt/conda/lib/python3.11/site-packages (from imblearn) (0.12.0)\n",
      "Requirement already satisfied: numpy>=1.17.3 in /opt/conda/lib/python3.11/site-packages (from imbalanced-learn->imblearn) (1.26.2)\n",
      "Requirement already satisfied: scipy>=1.5.0 in /opt/conda/lib/python3.11/site-packages (from imbalanced-learn->imblearn) (1.11.4)\n",
      "Requirement already satisfied: scikit-learn>=1.0.2 in /opt/conda/lib/python3.11/site-packages (from imbalanced-learn->imblearn) (1.3.2)\n",
      "Requirement already satisfied: joblib>=1.1.1 in /opt/conda/lib/python3.11/site-packages (from imbalanced-learn->imblearn) (1.3.2)\n",
      "Requirement already satisfied: threadpoolctl>=2.0.0 in /opt/conda/lib/python3.11/site-packages (from imbalanced-learn->imblearn) (3.2.0)\n",
      "\u001b[33mWARNING: Skipping /opt/conda/lib/python3.11/site-packages/nlopt-2.7.1.dist-info due to invalid metadata entry 'name'\u001b[0m\u001b[33m\n",
      "\u001b[0m\u001b[33mWARNING: Skipping /opt/conda/lib/python3.11/site-packages/nlopt-2.7.1.dist-info due to invalid metadata entry 'name'\u001b[0m\u001b[33m\n",
      "\u001b[0mCollecting xgboost\n",
      "  Using cached xgboost-2.0.3-py3-none-manylinux2014_x86_64.whl.metadata (2.0 kB)\n",
      "Requirement already satisfied: numpy in /opt/conda/lib/python3.11/site-packages (from xgboost) (1.26.2)\n",
      "Requirement already satisfied: scipy in /opt/conda/lib/python3.11/site-packages (from xgboost) (1.11.4)\n",
      "Using cached xgboost-2.0.3-py3-none-manylinux2014_x86_64.whl (297.1 MB)\n",
      "\u001b[33mWARNING: Skipping /opt/conda/lib/python3.11/site-packages/nlopt-2.7.1.dist-info due to invalid metadata entry 'name'\u001b[0m\u001b[33m\n",
      "\u001b[0mInstalling collected packages: xgboost\n",
      "Successfully installed xgboost-2.0.3\n"
     ]
    }
   ],
   "source": [
    "!pip install imblearn\n",
    "!pip install xgboost"
   ]
  },
  {
   "cell_type": "code",
   "execution_count": 20,
   "id": "73db47db-08ae-48f6-a028-2358ce02551f",
   "metadata": {},
   "outputs": [],
   "source": [
    "# load dependencies\n",
    "import pandas as pd # for importing and handling data\n",
    "import numpy as np # for working with arrays\n",
    "from sklearn.model_selection import train_test_split, RandomizedSearchCV # for splitting data and grid search\n",
    "from sklearn.preprocessing import LabelEncoder # for processing data for xgboost\n",
    "from imblearn.over_sampling import SMOTE # for smote oversampling\n",
    "import xgboost as xgb # for xgboost model"
   ]
  },
  {
   "cell_type": "code",
   "execution_count": 2,
   "id": "9e63645d-dd64-4175-8e6f-a900692bcd4b",
   "metadata": {},
   "outputs": [
    {
     "data": {
      "text/html": [
       "<div>\n",
       "<style scoped>\n",
       "    .dataframe tbody tr th:only-of-type {\n",
       "        vertical-align: middle;\n",
       "    }\n",
       "\n",
       "    .dataframe tbody tr th {\n",
       "        vertical-align: top;\n",
       "    }\n",
       "\n",
       "    .dataframe thead th {\n",
       "        text-align: right;\n",
       "    }\n",
       "</style>\n",
       "<table border=\"1\" class=\"dataframe\">\n",
       "  <thead>\n",
       "    <tr style=\"text-align: right;\">\n",
       "      <th></th>\n",
       "      <th>Unnamed: 0</th>\n",
       "      <th>ST352Q06JA</th>\n",
       "      <th>AGE</th>\n",
       "      <th>ST004D01T</th>\n",
       "      <th>DURECEC</th>\n",
       "      <th>REPEAT</th>\n",
       "      <th>MISSSC</th>\n",
       "      <th>SKIPPING</th>\n",
       "      <th>TARDYSD</th>\n",
       "      <th>EXPECEDU</th>\n",
       "      <th>...</th>\n",
       "      <th>ST353Q07JA</th>\n",
       "      <th>ST353Q08JA</th>\n",
       "      <th>ST348Q01JA</th>\n",
       "      <th>ST348Q02JA</th>\n",
       "      <th>ST348Q03JA</th>\n",
       "      <th>ST348Q04JA</th>\n",
       "      <th>ST348Q05JA</th>\n",
       "      <th>ST348Q06JA</th>\n",
       "      <th>ST348Q07JA</th>\n",
       "      <th>ST348Q08JA</th>\n",
       "    </tr>\n",
       "  </thead>\n",
       "  <tbody>\n",
       "    <tr>\n",
       "      <th>0</th>\n",
       "      <td>1.0</td>\n",
       "      <td>2.0</td>\n",
       "      <td>15.58</td>\n",
       "      <td>1.0</td>\n",
       "      <td>2.0</td>\n",
       "      <td>0.0</td>\n",
       "      <td>0.0</td>\n",
       "      <td>1.0</td>\n",
       "      <td>2.0</td>\n",
       "      <td>7.0</td>\n",
       "      <td>...</td>\n",
       "      <td>2.0</td>\n",
       "      <td>2.0</td>\n",
       "      <td>4.0</td>\n",
       "      <td>4.0</td>\n",
       "      <td>4.0</td>\n",
       "      <td>3.0</td>\n",
       "      <td>4.0</td>\n",
       "      <td>3.0</td>\n",
       "      <td>2.0</td>\n",
       "      <td>2.0</td>\n",
       "    </tr>\n",
       "    <tr>\n",
       "      <th>1</th>\n",
       "      <td>2.0</td>\n",
       "      <td>2.0</td>\n",
       "      <td>16.17</td>\n",
       "      <td>2.0</td>\n",
       "      <td>2.0</td>\n",
       "      <td>0.0</td>\n",
       "      <td>1.0</td>\n",
       "      <td>0.0</td>\n",
       "      <td>1.0</td>\n",
       "      <td>7.0</td>\n",
       "      <td>...</td>\n",
       "      <td>4.0</td>\n",
       "      <td>4.0</td>\n",
       "      <td>2.0</td>\n",
       "      <td>3.0</td>\n",
       "      <td>2.0</td>\n",
       "      <td>3.0</td>\n",
       "      <td>4.0</td>\n",
       "      <td>4.0</td>\n",
       "      <td>4.0</td>\n",
       "      <td>4.0</td>\n",
       "    </tr>\n",
       "    <tr>\n",
       "      <th>2</th>\n",
       "      <td>3.0</td>\n",
       "      <td>4.0</td>\n",
       "      <td>15.58</td>\n",
       "      <td>2.0</td>\n",
       "      <td>0.0</td>\n",
       "      <td>0.0</td>\n",
       "      <td>0.0</td>\n",
       "      <td>0.0</td>\n",
       "      <td>0.0</td>\n",
       "      <td>9.0</td>\n",
       "      <td>...</td>\n",
       "      <td>2.0</td>\n",
       "      <td>3.0</td>\n",
       "      <td>3.0</td>\n",
       "      <td>3.0</td>\n",
       "      <td>2.0</td>\n",
       "      <td>3.0</td>\n",
       "      <td>3.0</td>\n",
       "      <td>2.0</td>\n",
       "      <td>2.0</td>\n",
       "      <td>2.0</td>\n",
       "    </tr>\n",
       "    <tr>\n",
       "      <th>3</th>\n",
       "      <td>4.0</td>\n",
       "      <td>4.0</td>\n",
       "      <td>15.42</td>\n",
       "      <td>2.0</td>\n",
       "      <td>2.0</td>\n",
       "      <td>0.0</td>\n",
       "      <td>0.0</td>\n",
       "      <td>0.0</td>\n",
       "      <td>0.0</td>\n",
       "      <td>4.0</td>\n",
       "      <td>...</td>\n",
       "      <td>1.0</td>\n",
       "      <td>2.0</td>\n",
       "      <td>1.0</td>\n",
       "      <td>3.0</td>\n",
       "      <td>4.0</td>\n",
       "      <td>1.0</td>\n",
       "      <td>4.0</td>\n",
       "      <td>1.0</td>\n",
       "      <td>2.0</td>\n",
       "      <td>1.0</td>\n",
       "    </tr>\n",
       "    <tr>\n",
       "      <th>4</th>\n",
       "      <td>5.0</td>\n",
       "      <td>2.0</td>\n",
       "      <td>15.75</td>\n",
       "      <td>2.0</td>\n",
       "      <td>1.0</td>\n",
       "      <td>0.0</td>\n",
       "      <td>0.0</td>\n",
       "      <td>0.0</td>\n",
       "      <td>0.0</td>\n",
       "      <td>8.0</td>\n",
       "      <td>...</td>\n",
       "      <td>2.0</td>\n",
       "      <td>2.0</td>\n",
       "      <td>1.0</td>\n",
       "      <td>3.0</td>\n",
       "      <td>4.0</td>\n",
       "      <td>3.0</td>\n",
       "      <td>4.0</td>\n",
       "      <td>3.0</td>\n",
       "      <td>2.0</td>\n",
       "      <td>2.0</td>\n",
       "    </tr>\n",
       "  </tbody>\n",
       "</table>\n",
       "<p>5 rows × 67 columns</p>\n",
       "</div>"
      ],
      "text/plain": [
       "   Unnamed: 0  ST352Q06JA    AGE  ST004D01T  DURECEC  REPEAT  MISSSC  \\\n",
       "0         1.0         2.0  15.58        1.0      2.0     0.0     0.0   \n",
       "1         2.0         2.0  16.17        2.0      2.0     0.0     1.0   \n",
       "2         3.0         4.0  15.58        2.0      0.0     0.0     0.0   \n",
       "3         4.0         4.0  15.42        2.0      2.0     0.0     0.0   \n",
       "4         5.0         2.0  15.75        2.0      1.0     0.0     0.0   \n",
       "\n",
       "   SKIPPING  TARDYSD  EXPECEDU  ...  ST353Q07JA  ST353Q08JA  ST348Q01JA  \\\n",
       "0       1.0      2.0       7.0  ...         2.0         2.0         4.0   \n",
       "1       0.0      1.0       7.0  ...         4.0         4.0         2.0   \n",
       "2       0.0      0.0       9.0  ...         2.0         3.0         3.0   \n",
       "3       0.0      0.0       4.0  ...         1.0         2.0         1.0   \n",
       "4       0.0      0.0       8.0  ...         2.0         2.0         1.0   \n",
       "\n",
       "   ST348Q02JA  ST348Q03JA  ST348Q04JA  ST348Q05JA  ST348Q06JA  ST348Q07JA  \\\n",
       "0         4.0         4.0         3.0         4.0         3.0         2.0   \n",
       "1         3.0         2.0         3.0         4.0         4.0         4.0   \n",
       "2         3.0         2.0         3.0         3.0         2.0         2.0   \n",
       "3         3.0         4.0         1.0         4.0         1.0         2.0   \n",
       "4         3.0         4.0         3.0         4.0         3.0         2.0   \n",
       "\n",
       "   ST348Q08JA  \n",
       "0         2.0  \n",
       "1         4.0  \n",
       "2         2.0  \n",
       "3         1.0  \n",
       "4         2.0  \n",
       "\n",
       "[5 rows x 67 columns]"
      ]
     },
     "execution_count": 2,
     "metadata": {},
     "output_type": "execute_result"
    }
   ],
   "source": [
    "# load data\n",
    "df = pd.read_csv(\"/home/jupyter/final_project/pisa_median.csv\")\n",
    "df.head()"
   ]
  },
  {
   "cell_type": "code",
   "execution_count": 3,
   "id": "675a37fa-43c8-4742-bd30-2fdbcf395d77",
   "metadata": {},
   "outputs": [],
   "source": [
    "# split into target and features\n",
    "y = df[\"ST352Q06JA\"].values\n",
    "X = df.drop([\"ST352Q06JA\", \"Unnamed: 0\"], axis=1).values"
   ]
  },
  {
   "cell_type": "code",
   "execution_count": 4,
   "id": "391d40f8-e426-4ef3-932b-760180bc9e15",
   "metadata": {},
   "outputs": [],
   "source": [
    "# split data into training and test\n",
    "X_train, X_test, y_train, y_test = train_test_split(X, \n",
    "                                                    y, \n",
    "                                                    test_size = 0.2, # common to use 20-30% of data as test set\n",
    "                                                    random_state = 2001, # set seed equivalent\n",
    "                                                    stratify = y) # churn amounts equal in train and test"
   ]
  },
  {
   "cell_type": "code",
   "execution_count": 24,
   "id": "2d5f962d-fec5-4934-88ed-422a6a8873c0",
   "metadata": {},
   "outputs": [
    {
     "name": "stdout",
     "output_type": "stream",
     "text": [
      "[[ 1.5670e+01  2.0000e+00  2.0000e+00  0.0000e+00  0.0000e+00  0.0000e+00\n",
      "   0.0000e+00  8.0000e+00  0.0000e+00  0.0000e+00  0.0000e+00  0.0000e+00\n",
      "   6.0000e+00  1.0000e+01  0.0000e+00  6.0000e+00 -7.1900e-02 -1.2280e+00\n",
      "   1.1246e+00  1.4750e-01 -7.1000e-03 -3.2030e-01  2.7474e+00 -9.7550e-01\n",
      "   1.8227e+00  5.2030e-01  2.3650e+00  3.8830e+00  1.1187e+00  4.9584e+00\n",
      "   1.3749e+00  2.4100e-02  1.3679e+00  3.1637e+00  1.7174e+00  1.7465e+00\n",
      "   1.0481e+00  1.0000e+00  1.0000e+00  1.0000e+00  2.0000e+00  1.0000e+00\n",
      "   2.0000e+00  1.0000e+00  3.0000e+00  3.0000e+00  4.0000e+00  3.0000e+00\n",
      "   4.0000e+00  2.0000e+00  2.0000e+00  1.0000e+00  1.0000e+00  1.0000e+00\n",
      "   2.0000e+00  2.0000e+00  2.0000e+00  2.0000e+00  3.0000e+00  3.0000e+00\n",
      "   3.0000e+00  4.0000e+00  4.0000e+00  2.0000e+00  1.0000e+00]\n",
      " [ 1.5830e+01  1.0000e+00  4.0000e+00  0.0000e+00  0.0000e+00  1.0000e+00\n",
      "   0.0000e+00  6.0000e+00  1.0000e+00  0.0000e+00  0.0000e+00  0.0000e+00\n",
      "   0.0000e+00  1.0000e+01  6.0000e+00  1.0000e+01 -6.6900e-02  1.8601e+00\n",
      "  -1.6365e+00  1.4750e-01 -7.1000e-03 -3.2030e-01 -1.2449e+00  6.5660e-01\n",
      "  -1.3517e+00 -5.5380e-01  4.4990e-01  2.6899e+00 -9.3250e-01  6.4420e-01\n",
      "   2.8451e+00 -5.6700e-01  3.2244e+00 -2.7210e-01 -1.1833e+00  1.5624e+00\n",
      "  -6.9000e-01  1.0000e+00  2.0000e+00  1.0000e+00  1.0000e+00  1.0000e+00\n",
      "   4.0000e+00  2.0000e+00  3.0000e+00  3.0000e+00  1.0000e+00  3.0000e+00\n",
      "   1.0000e+00  2.0000e+00  1.0000e+00  1.0000e+00  2.0000e+00  1.0000e+00\n",
      "   1.0000e+00  1.0000e+00  1.0000e+00  1.0000e+00  1.0000e+00  4.0000e+00\n",
      "   1.0000e+00  4.0000e+00  1.0000e+00  1.0000e+00  2.0000e+00]\n",
      " [ 1.5500e+01  1.0000e+00  2.0000e+00  0.0000e+00  1.0000e+00  1.0000e+00\n",
      "   1.0000e+00  6.0000e+00  1.0000e+00  0.0000e+00  0.0000e+00  0.0000e+00\n",
      "   4.0000e+00  2.0000e+00  0.0000e+00  7.0000e+00 -5.6710e-01 -2.0160e-01\n",
      "  -1.1042e+00  1.4750e-01 -7.1000e-03 -3.2030e-01 -6.3760e-01  2.5429e+00\n",
      "   1.4370e-01  3.4140e-01 -2.8710e-01  4.0889e+00  2.0984e+00 -5.3340e-01\n",
      "  -7.1080e-01 -2.2375e+00 -1.3650e-01 -7.2940e-01 -7.7660e-01  4.2970e-01\n",
      "   4.4090e-01  1.0000e+00  3.0000e+00  1.0000e+00  3.0000e+00  2.0000e+00\n",
      "   2.0000e+00  2.0000e+00  3.0000e+00  2.0000e+00  2.0000e+00  3.0000e+00\n",
      "   3.0000e+00  4.0000e+00  4.0000e+00  1.0000e+00  2.0000e+00  4.0000e+00\n",
      "   2.0000e+00  4.0000e+00  4.0000e+00  3.0000e+00  1.0000e+00  4.0000e+00\n",
      "   2.0000e+00  4.0000e+00  2.0000e+00  1.0000e+00  1.0000e+00]]\n",
      "[1. 4. 4.]\n"
     ]
    }
   ],
   "source": [
    "print(X_train[0:3])\n",
    "print(y_train[0:3])"
   ]
  },
  {
   "cell_type": "markdown",
   "id": "1450d848-ebd9-48a9-9b8e-242551d91eb5",
   "metadata": {},
   "source": [
    "# Conduct Oversampling with SMOTE on Training Data"
   ]
  },
  {
   "cell_type": "code",
   "execution_count": 5,
   "id": "1e7ad8c7-4386-457f-8a25-159910fbefef",
   "metadata": {},
   "outputs": [
    {
     "data": {
      "text/plain": [
       "array([   0, 1349, 2325, 2088, 3182])"
      ]
     },
     "execution_count": 5,
     "metadata": {},
     "output_type": "execute_result"
    }
   ],
   "source": [
    "# frequency of observations in training data pre-oversampling\n",
    "temp = y_train.astype(int)\n",
    "np.bincount(temp)"
   ]
  },
  {
   "cell_type": "code",
   "execution_count": 5,
   "id": "6a389d53-68bd-4ad8-89a9-4a75d731c139",
   "metadata": {},
   "outputs": [],
   "source": [
    "# conduct oversampling on training data using SMOTE\n",
    "# SMOTE overview here: https://www.youtube.com/watch?v=1Ic7GRtDrPM\n",
    "smote = SMOTE(random_state = 2001)\n",
    "X_smote, y_smote = smote.fit_resample(X_train, y_train)"
   ]
  },
  {
   "cell_type": "code",
   "execution_count": 6,
   "id": "396c233f-0aaf-4aa2-8561-d9faa7c5bced",
   "metadata": {},
   "outputs": [
    {
     "data": {
      "text/plain": [
       "array([   0, 3182, 3182, 3182, 3182])"
      ]
     },
     "execution_count": 6,
     "metadata": {},
     "output_type": "execute_result"
    }
   ],
   "source": [
    "# convert y_smote to integer (needed for xgboost later)\n",
    "y_smote = y_smote.astype(int)\n",
    "np.bincount(y_smote)"
   ]
  },
  {
   "cell_type": "code",
   "execution_count": 7,
   "id": "3efc836f-52fa-4167-8778-324a8b157587",
   "metadata": {},
   "outputs": [],
   "source": [
    "# transform data to work with xgboost (encoding needs to start at zero)\n",
    "le = LabelEncoder()\n",
    "y_smote = le.fit_transform(y_smote)"
   ]
  },
  {
   "cell_type": "markdown",
   "id": "c2845616-759b-4744-aada-a056585bcf65",
   "metadata": {},
   "source": [
    "# Hyperparameter Tuning and Cross-Validation for xgboost\n",
    "\n",
    "We want to train hyperparameters for `eta` (learning rate), `n_estimators` (number of estimators), and `max_features` (maximum features considered at each split). Specifically, using the following values:\n",
    "\n",
    "* `eta`: 0.1, 0.01, 0.001\n",
    "* `n_estimators`: 50, 100, 250, 500\n",
    "* `colsample_bytree`: 0.1, 0.5, 0.7, 1.0\n",
    "\n",
    "Furthermore, we will conduct 5-fold cross-validation for each training model to return an aggregate RMSE value. In total, that yields 3 (`eta`) x 4 (`n_estimators`) x 4 (`colsample_bytree`) x 5 (cross-validation) = 240 estimated models. We will use randomized search for this endeavour."
   ]
  },
  {
   "cell_type": "code",
   "execution_count": 18,
   "id": "e4c56398-6a9e-42e4-9035-70fa6ac00ed3",
   "metadata": {},
   "outputs": [
    {
     "name": "stdout",
     "output_type": "stream",
     "text": [
      "ypred before reversing transformation: [0 3 2 ... 3 3 1]\n",
      "ypred after reversing transformation: [1 4 3 ... 4 4 2]\n",
      "[[222  74  14  27]\n",
      " [ 80 344  74  84]\n",
      " [ 28 162 170 162]\n",
      " [ 58 120  97 521]]\n",
      "RMSE: 1.0353605122153373\n"
     ]
    }
   ],
   "source": [
    "# EXAMPLE CODE, TO BE DELETED\n",
    "\n",
    "from sklearn.metrics import confusion_matrix, mean_squared_error as MSE\n",
    "\n",
    "# test single xgboost\n",
    "bst = xgb.XGBClassifier(eta=0.1, n_estimators=50, colsample_bytree=0.5)\n",
    "bst.fit(X_smote, y_smote)\n",
    "\n",
    "# undo y_smote refactoring\n",
    "y_pred = bst.predict(X_test)\n",
    "print(f\"ypred before reversing transformation: {y_pred}\")\n",
    "y_pred = le.inverse_transform(y_pred)\n",
    "print(f\"ypred after reversing transformation: {y_pred}\")\n",
    "\n",
    "cm = confusion_matrix(y_test, y_pred)\n",
    "rmse = np.sqrt(MSE(y_test, y_pred))\n",
    "\n",
    "print(cm)\n",
    "print(f\"RMSE: {rmse}\")"
   ]
  },
  {
   "cell_type": "code",
   "execution_count": 26,
   "id": "a43bc4af-93fd-482f-bb30-74457fd741eb",
   "metadata": {},
   "outputs": [],
   "source": [
    "# create values for hyperparameter tuning\n",
    "parameter_grid = {'learning_rate': [0.1, 0.01, 0.001],\n",
    "             'n_estimators': [50, 100, 250, 500],\n",
    "             'colsample_bytree': [0.1, 0.5, 0.7, 1.0]}\n",
    "\n",
    "# for test\n",
    "#parameter_grid = {'eta': [0.1, 0.01, 0.001],\n",
    "#                  'n_estimators': [50, 100],\n",
    "#                  'colsample_bytree': [0.1, 1.0]\n",
    "#}\n",
    "\n",
    "# instantiate the regressor\n",
    "xgboost_class = xgb.XGBClassifier(random_state = 2001)"
   ]
  },
  {
   "cell_type": "code",
   "execution_count": 27,
   "id": "afd94d41-98a1-4409-888d-11bde1486f6e",
   "metadata": {},
   "outputs": [
    {
     "name": "stdout",
     "output_type": "stream",
     "text": [
      "Fitting 5 folds for each of 10 candidates, totalling 50 fits\n"
     ]
    },
    {
     "data": {
      "text/html": [
       "<style>#sk-container-id-4 {color: black;}#sk-container-id-4 pre{padding: 0;}#sk-container-id-4 div.sk-toggleable {background-color: white;}#sk-container-id-4 label.sk-toggleable__label {cursor: pointer;display: block;width: 100%;margin-bottom: 0;padding: 0.3em;box-sizing: border-box;text-align: center;}#sk-container-id-4 label.sk-toggleable__label-arrow:before {content: \"▸\";float: left;margin-right: 0.25em;color: #696969;}#sk-container-id-4 label.sk-toggleable__label-arrow:hover:before {color: black;}#sk-container-id-4 div.sk-estimator:hover label.sk-toggleable__label-arrow:before {color: black;}#sk-container-id-4 div.sk-toggleable__content {max-height: 0;max-width: 0;overflow: hidden;text-align: left;background-color: #f0f8ff;}#sk-container-id-4 div.sk-toggleable__content pre {margin: 0.2em;color: black;border-radius: 0.25em;background-color: #f0f8ff;}#sk-container-id-4 input.sk-toggleable__control:checked~div.sk-toggleable__content {max-height: 200px;max-width: 100%;overflow: auto;}#sk-container-id-4 input.sk-toggleable__control:checked~label.sk-toggleable__label-arrow:before {content: \"▾\";}#sk-container-id-4 div.sk-estimator input.sk-toggleable__control:checked~label.sk-toggleable__label {background-color: #d4ebff;}#sk-container-id-4 div.sk-label input.sk-toggleable__control:checked~label.sk-toggleable__label {background-color: #d4ebff;}#sk-container-id-4 input.sk-hidden--visually {border: 0;clip: rect(1px 1px 1px 1px);clip: rect(1px, 1px, 1px, 1px);height: 1px;margin: -1px;overflow: hidden;padding: 0;position: absolute;width: 1px;}#sk-container-id-4 div.sk-estimator {font-family: monospace;background-color: #f0f8ff;border: 1px dotted black;border-radius: 0.25em;box-sizing: border-box;margin-bottom: 0.5em;}#sk-container-id-4 div.sk-estimator:hover {background-color: #d4ebff;}#sk-container-id-4 div.sk-parallel-item::after {content: \"\";width: 100%;border-bottom: 1px solid gray;flex-grow: 1;}#sk-container-id-4 div.sk-label:hover label.sk-toggleable__label {background-color: #d4ebff;}#sk-container-id-4 div.sk-serial::before {content: \"\";position: absolute;border-left: 1px solid gray;box-sizing: border-box;top: 0;bottom: 0;left: 50%;z-index: 0;}#sk-container-id-4 div.sk-serial {display: flex;flex-direction: column;align-items: center;background-color: white;padding-right: 0.2em;padding-left: 0.2em;position: relative;}#sk-container-id-4 div.sk-item {position: relative;z-index: 1;}#sk-container-id-4 div.sk-parallel {display: flex;align-items: stretch;justify-content: center;background-color: white;position: relative;}#sk-container-id-4 div.sk-item::before, #sk-container-id-4 div.sk-parallel-item::before {content: \"\";position: absolute;border-left: 1px solid gray;box-sizing: border-box;top: 0;bottom: 0;left: 50%;z-index: -1;}#sk-container-id-4 div.sk-parallel-item {display: flex;flex-direction: column;z-index: 1;position: relative;background-color: white;}#sk-container-id-4 div.sk-parallel-item:first-child::after {align-self: flex-end;width: 50%;}#sk-container-id-4 div.sk-parallel-item:last-child::after {align-self: flex-start;width: 50%;}#sk-container-id-4 div.sk-parallel-item:only-child::after {width: 0;}#sk-container-id-4 div.sk-dashed-wrapped {border: 1px dashed gray;margin: 0 0.4em 0.5em 0.4em;box-sizing: border-box;padding-bottom: 0.4em;background-color: white;}#sk-container-id-4 div.sk-label label {font-family: monospace;font-weight: bold;display: inline-block;line-height: 1.2em;}#sk-container-id-4 div.sk-label-container {text-align: center;}#sk-container-id-4 div.sk-container {/* jupyter's `normalize.less` sets `[hidden] { display: none; }` but bootstrap.min.css set `[hidden] { display: none !important; }` so we also need the `!important` here to be able to override the default hidden behavior on the sphinx rendered scikit-learn.org. See: https://github.com/scikit-learn/scikit-learn/issues/21755 */display: inline-block !important;position: relative;}#sk-container-id-4 div.sk-text-repr-fallback {display: none;}</style><div id=\"sk-container-id-4\" class=\"sk-top-container\"><div class=\"sk-text-repr-fallback\"><pre>RandomizedSearchCV(cv=5,\n",
       "                   estimator=XGBClassifier(base_score=None, booster=None,\n",
       "                                           callbacks=None,\n",
       "                                           colsample_bylevel=None,\n",
       "                                           colsample_bynode=None,\n",
       "                                           colsample_bytree=None, device=None,\n",
       "                                           early_stopping_rounds=None,\n",
       "                                           enable_categorical=False,\n",
       "                                           eval_metric=None, feature_types=None,\n",
       "                                           gamma=None, grow_policy=None,\n",
       "                                           importance_type=None,\n",
       "                                           interaction_constraints=None,\n",
       "                                           learning_rate...\n",
       "                                           max_leaves=None,\n",
       "                                           min_child_weight=None, missing=nan,\n",
       "                                           monotone_constraints=None,\n",
       "                                           multi_strategy=None,\n",
       "                                           n_estimators=None, n_jobs=None,\n",
       "                                           num_parallel_tree=None,\n",
       "                                           random_state=None, ...),\n",
       "                   param_distributions={&#x27;colsample_bytree&#x27;: [0.1, 0.5, 0.7,\n",
       "                                                             1.0],\n",
       "                                        &#x27;learning_rate&#x27;: [0.1, 0.01, 0.001],\n",
       "                                        &#x27;n_estimators&#x27;: [50, 100, 250, 500]},\n",
       "                   return_train_score=True, scoring=&#x27;neg_mean_squared_error&#x27;,\n",
       "                   verbose=1)</pre><b>In a Jupyter environment, please rerun this cell to show the HTML representation or trust the notebook. <br />On GitHub, the HTML representation is unable to render, please try loading this page with nbviewer.org.</b></div><div class=\"sk-container\" hidden><div class=\"sk-item sk-dashed-wrapped\"><div class=\"sk-label-container\"><div class=\"sk-label sk-toggleable\"><input class=\"sk-toggleable__control sk-hidden--visually\" id=\"sk-estimator-id-6\" type=\"checkbox\" ><label for=\"sk-estimator-id-6\" class=\"sk-toggleable__label sk-toggleable__label-arrow\">RandomizedSearchCV</label><div class=\"sk-toggleable__content\"><pre>RandomizedSearchCV(cv=5,\n",
       "                   estimator=XGBClassifier(base_score=None, booster=None,\n",
       "                                           callbacks=None,\n",
       "                                           colsample_bylevel=None,\n",
       "                                           colsample_bynode=None,\n",
       "                                           colsample_bytree=None, device=None,\n",
       "                                           early_stopping_rounds=None,\n",
       "                                           enable_categorical=False,\n",
       "                                           eval_metric=None, feature_types=None,\n",
       "                                           gamma=None, grow_policy=None,\n",
       "                                           importance_type=None,\n",
       "                                           interaction_constraints=None,\n",
       "                                           learning_rate...\n",
       "                                           max_leaves=None,\n",
       "                                           min_child_weight=None, missing=nan,\n",
       "                                           monotone_constraints=None,\n",
       "                                           multi_strategy=None,\n",
       "                                           n_estimators=None, n_jobs=None,\n",
       "                                           num_parallel_tree=None,\n",
       "                                           random_state=None, ...),\n",
       "                   param_distributions={&#x27;colsample_bytree&#x27;: [0.1, 0.5, 0.7,\n",
       "                                                             1.0],\n",
       "                                        &#x27;learning_rate&#x27;: [0.1, 0.01, 0.001],\n",
       "                                        &#x27;n_estimators&#x27;: [50, 100, 250, 500]},\n",
       "                   return_train_score=True, scoring=&#x27;neg_mean_squared_error&#x27;,\n",
       "                   verbose=1)</pre></div></div></div><div class=\"sk-parallel\"><div class=\"sk-parallel-item\"><div class=\"sk-item\"><div class=\"sk-label-container\"><div class=\"sk-label sk-toggleable\"><input class=\"sk-toggleable__control sk-hidden--visually\" id=\"sk-estimator-id-7\" type=\"checkbox\" ><label for=\"sk-estimator-id-7\" class=\"sk-toggleable__label sk-toggleable__label-arrow\">estimator: XGBClassifier</label><div class=\"sk-toggleable__content\"><pre>XGBClassifier(base_score=None, booster=None, callbacks=None,\n",
       "              colsample_bylevel=None, colsample_bynode=None,\n",
       "              colsample_bytree=None, device=None, early_stopping_rounds=None,\n",
       "              enable_categorical=False, eval_metric=None, feature_types=None,\n",
       "              gamma=None, grow_policy=None, importance_type=None,\n",
       "              interaction_constraints=None, learning_rate=None, max_bin=None,\n",
       "              max_cat_threshold=None, max_cat_to_onehot=None,\n",
       "              max_delta_step=None, max_depth=None, max_leaves=None,\n",
       "              min_child_weight=None, missing=nan, monotone_constraints=None,\n",
       "              multi_strategy=None, n_estimators=None, n_jobs=None,\n",
       "              num_parallel_tree=None, random_state=None, ...)</pre></div></div></div><div class=\"sk-serial\"><div class=\"sk-item\"><div class=\"sk-estimator sk-toggleable\"><input class=\"sk-toggleable__control sk-hidden--visually\" id=\"sk-estimator-id-8\" type=\"checkbox\" ><label for=\"sk-estimator-id-8\" class=\"sk-toggleable__label sk-toggleable__label-arrow\">XGBClassifier</label><div class=\"sk-toggleable__content\"><pre>XGBClassifier(base_score=None, booster=None, callbacks=None,\n",
       "              colsample_bylevel=None, colsample_bynode=None,\n",
       "              colsample_bytree=None, device=None, early_stopping_rounds=None,\n",
       "              enable_categorical=False, eval_metric=None, feature_types=None,\n",
       "              gamma=None, grow_policy=None, importance_type=None,\n",
       "              interaction_constraints=None, learning_rate=None, max_bin=None,\n",
       "              max_cat_threshold=None, max_cat_to_onehot=None,\n",
       "              max_delta_step=None, max_depth=None, max_leaves=None,\n",
       "              min_child_weight=None, missing=nan, monotone_constraints=None,\n",
       "              multi_strategy=None, n_estimators=None, n_jobs=None,\n",
       "              num_parallel_tree=None, random_state=None, ...)</pre></div></div></div></div></div></div></div></div></div></div>"
      ],
      "text/plain": [
       "RandomizedSearchCV(cv=5,\n",
       "                   estimator=XGBClassifier(base_score=None, booster=None,\n",
       "                                           callbacks=None,\n",
       "                                           colsample_bylevel=None,\n",
       "                                           colsample_bynode=None,\n",
       "                                           colsample_bytree=None, device=None,\n",
       "                                           early_stopping_rounds=None,\n",
       "                                           enable_categorical=False,\n",
       "                                           eval_metric=None, feature_types=None,\n",
       "                                           gamma=None, grow_policy=None,\n",
       "                                           importance_type=None,\n",
       "                                           interaction_constraints=None,\n",
       "                                           learning_rate...\n",
       "                                           max_leaves=None,\n",
       "                                           min_child_weight=None, missing=nan,\n",
       "                                           monotone_constraints=None,\n",
       "                                           multi_strategy=None,\n",
       "                                           n_estimators=None, n_jobs=None,\n",
       "                                           num_parallel_tree=None,\n",
       "                                           random_state=None, ...),\n",
       "                   param_distributions={'colsample_bytree': [0.1, 0.5, 0.7,\n",
       "                                                             1.0],\n",
       "                                        'learning_rate': [0.1, 0.01, 0.001],\n",
       "                                        'n_estimators': [50, 100, 250, 500]},\n",
       "                   return_train_score=True, scoring='neg_mean_squared_error',\n",
       "                   verbose=1)"
      ]
     },
     "execution_count": 27,
     "metadata": {},
     "output_type": "execute_result"
    }
   ],
   "source": [
    "# create grid search object\n",
    "# neg_mean_squared_error per https://scikit-learn.org/stable/modules/model_evaluation.html#scoring-parameter\n",
    "grid_xgboost = RandomizedSearchCV(\n",
    "    estimator = xgboost_class,\n",
    "    param_distributions = parameter_grid,\n",
    "    scoring = 'neg_mean_squared_error',\n",
    "    n_iter = 10,\n",
    "    cv = 5,\n",
    "    refit = True,\n",
    "    return_train_score = True,\n",
    "    verbose = 1)\n",
    "\n",
    "# fit grid search object to imputed and oversampled training data\n",
    "grid_xgboost.fit(X_smote, y_smote)"
   ]
  },
  {
   "cell_type": "code",
   "execution_count": 35,
   "id": "b5eb53c6-a496-4cfb-8f55-775af3178f17",
   "metadata": {},
   "outputs": [
    {
     "name": "stdout",
     "output_type": "stream",
     "text": [
      "\n",
      " The learning rate parameters searched:\n",
      " [0.1 0.01 0.1 0.1 0.01 0.1 0.01 0.001 0.001 0.01]\n",
      "\n",
      " The number of estimators parameters searched:\n",
      " [50 250 500 250 100 100 50 250 50 500]\n",
      "\n",
      " The number of features considered at each split, parameters searched:\n",
      " [1.0 0.1 1.0 0.5 0.5 1.0 1.0 0.7 0.5 1.0]\n",
      "\n",
      " The best score across ALL searched params:\n",
      " -0.7555364630677652\n",
      "\n",
      " The best parameters across ALL searched params:\n",
      " {'n_estimators': 500, 'learning_rate': 0.1, 'colsample_bytree': 1.0}\n"
     ]
    }
   ],
   "source": [
    "# print values used for search\n",
    "print(f\"\\n The learning rate parameters searched:\\n {grid_xgboost.cv_results_['param_learning_rate']}\")\n",
    "print(f\"\\n The number of estimators parameters searched:\\n {grid_xgboost.cv_results_['param_n_estimators']}\")\n",
    "print(f\"\\n The number of features considered at each split, parameters searched:\\n {grid_xgboost.cv_results_['param_colsample_bytree']}\")\n",
    "\n",
    "#print(grid_xgboost.cv_results_)\n",
    "\n",
    "print(\"\\n The best score across ALL searched params:\\n\", grid_xgboost.best_score_)\n",
    "print(\"\\n The best parameters across ALL searched params:\\n\", grid_xgboost.best_params_)"
   ]
  },
  {
   "cell_type": "markdown",
   "id": "7f463454-8329-4717-b9ac-cd8f79523877",
   "metadata": {},
   "source": [
    "# Testing Model"
   ]
  },
  {
   "cell_type": "code",
   "execution_count": null,
   "id": "5f1e463b-91ee-4e20-a946-8ca89ce43bb8",
   "metadata": {},
   "outputs": [],
   "source": [
    "# get predicted values\n",
    "\n",
    "# compare predicted values to actual y_test\n"
   ]
  },
  {
   "cell_type": "markdown",
   "id": "6ea9cb21-bbd3-4f22-a184-40ab1b79f8c1",
   "metadata": {},
   "source": [
    "# Performance Metrics for Training and Test"
   ]
  }
 ],
 "metadata": {
  "kernelspec": {
   "display_name": "Python 3 (ipykernel)",
   "language": "python",
   "name": "python3"
  },
  "language_info": {
   "codemirror_mode": {
    "name": "ipython",
    "version": 3
   },
   "file_extension": ".py",
   "mimetype": "text/x-python",
   "name": "python",
   "nbconvert_exporter": "python",
   "pygments_lexer": "ipython3",
   "version": "3.11.6"
  }
 },
 "nbformat": 4,
 "nbformat_minor": 5
}
