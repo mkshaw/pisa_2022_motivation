{
 "cells": [
  {
   "cell_type": "markdown",
   "id": "fd3a7bc6-0291-4275-88ce-a28e091dce35",
   "metadata": {},
   "source": [
    "# Split Data into Training and Test"
   ]
  },
  {
   "cell_type": "code",
   "execution_count": 2,
   "id": "cd39cdc7-5a00-43a5-b72f-e96521f006e5",
   "metadata": {},
   "outputs": [
    {
     "name": "stdout",
     "output_type": "stream",
     "text": [
      "\u001b[33mWARNING: Skipping /opt/conda/lib/python3.11/site-packages/nlopt-2.7.1.dist-info due to invalid metadata entry 'name'\u001b[0m\u001b[33m\n",
      "\u001b[0mCollecting imblearn\n",
      "  Downloading imblearn-0.0-py2.py3-none-any.whl.metadata (355 bytes)\n",
      "Collecting imbalanced-learn (from imblearn)\n",
      "  Downloading imbalanced_learn-0.12.0-py3-none-any.whl.metadata (8.2 kB)\n",
      "Requirement already satisfied: numpy>=1.17.3 in /opt/conda/lib/python3.11/site-packages (from imbalanced-learn->imblearn) (1.26.2)\n",
      "Requirement already satisfied: scipy>=1.5.0 in /opt/conda/lib/python3.11/site-packages (from imbalanced-learn->imblearn) (1.11.4)\n",
      "Requirement already satisfied: scikit-learn>=1.0.2 in /opt/conda/lib/python3.11/site-packages (from imbalanced-learn->imblearn) (1.3.2)\n",
      "Requirement already satisfied: joblib>=1.1.1 in /opt/conda/lib/python3.11/site-packages (from imbalanced-learn->imblearn) (1.3.2)\n",
      "Requirement already satisfied: threadpoolctl>=2.0.0 in /opt/conda/lib/python3.11/site-packages (from imbalanced-learn->imblearn) (3.2.0)\n",
      "Downloading imblearn-0.0-py2.py3-none-any.whl (1.9 kB)\n",
      "Downloading imbalanced_learn-0.12.0-py3-none-any.whl (257 kB)\n",
      "\u001b[2K   \u001b[90m━━━━━━━━━━━━━━━━━━━━━━━━━━━━━━━━━━━━━━━━\u001b[0m \u001b[32m257.7/257.7 kB\u001b[0m \u001b[31m46.8 kB/s\u001b[0m eta \u001b[36m0:00:00\u001b[0m00:01\u001b[0m\n",
      "\u001b[?25h\u001b[33mWARNING: Skipping /opt/conda/lib/python3.11/site-packages/nlopt-2.7.1.dist-info due to invalid metadata entry 'name'\u001b[0m\u001b[33m\n",
      "\u001b[0mInstalling collected packages: imbalanced-learn, imblearn\n",
      "Successfully installed imbalanced-learn-0.12.0 imblearn-0.0\n"
     ]
    }
   ],
   "source": [
    "!pip install imblearn"
   ]
  },
  {
   "cell_type": "code",
   "execution_count": 26,
   "id": "73db47db-08ae-48f6-a028-2358ce02551f",
   "metadata": {},
   "outputs": [],
   "source": [
    "# load dependencies\n",
    "import pandas as pd # for importing and handling data\n",
    "import numpy as np # for working with arrays\n",
    "from sklearn.model_selection import train_test_split # for splitting data\n",
    "from imblearn.over_sampling import SMOTE # for smote oversampling"
   ]
  },
  {
   "cell_type": "code",
   "execution_count": 13,
   "id": "9e63645d-dd64-4175-8e6f-a900692bcd4b",
   "metadata": {},
   "outputs": [
    {
     "data": {
      "text/html": [
       "<div>\n",
       "<style scoped>\n",
       "    .dataframe tbody tr th:only-of-type {\n",
       "        vertical-align: middle;\n",
       "    }\n",
       "\n",
       "    .dataframe tbody tr th {\n",
       "        vertical-align: top;\n",
       "    }\n",
       "\n",
       "    .dataframe thead th {\n",
       "        text-align: right;\n",
       "    }\n",
       "</style>\n",
       "<table border=\"1\" class=\"dataframe\">\n",
       "  <thead>\n",
       "    <tr style=\"text-align: right;\">\n",
       "      <th></th>\n",
       "      <th>Unnamed: 0</th>\n",
       "      <th>ST352Q06JA</th>\n",
       "      <th>AGE</th>\n",
       "      <th>ST004D01T</th>\n",
       "      <th>DURECEC</th>\n",
       "      <th>REPEAT</th>\n",
       "      <th>MISSSC</th>\n",
       "      <th>SKIPPING</th>\n",
       "      <th>TARDYSD</th>\n",
       "      <th>EXPECEDU</th>\n",
       "      <th>...</th>\n",
       "      <th>ST353Q07JA</th>\n",
       "      <th>ST353Q08JA</th>\n",
       "      <th>ST348Q01JA</th>\n",
       "      <th>ST348Q02JA</th>\n",
       "      <th>ST348Q03JA</th>\n",
       "      <th>ST348Q04JA</th>\n",
       "      <th>ST348Q05JA</th>\n",
       "      <th>ST348Q06JA</th>\n",
       "      <th>ST348Q07JA</th>\n",
       "      <th>ST348Q08JA</th>\n",
       "    </tr>\n",
       "  </thead>\n",
       "  <tbody>\n",
       "    <tr>\n",
       "      <th>0</th>\n",
       "      <td>1.0</td>\n",
       "      <td>2.0</td>\n",
       "      <td>15.58</td>\n",
       "      <td>1.0</td>\n",
       "      <td>2.0</td>\n",
       "      <td>0.0</td>\n",
       "      <td>0.0</td>\n",
       "      <td>1.0</td>\n",
       "      <td>2.0</td>\n",
       "      <td>7.0</td>\n",
       "      <td>...</td>\n",
       "      <td>2.0</td>\n",
       "      <td>2.0</td>\n",
       "      <td>4.0</td>\n",
       "      <td>4.0</td>\n",
       "      <td>4.0</td>\n",
       "      <td>3.0</td>\n",
       "      <td>4.0</td>\n",
       "      <td>3.0</td>\n",
       "      <td>2.0</td>\n",
       "      <td>2.0</td>\n",
       "    </tr>\n",
       "    <tr>\n",
       "      <th>1</th>\n",
       "      <td>2.0</td>\n",
       "      <td>2.0</td>\n",
       "      <td>16.17</td>\n",
       "      <td>2.0</td>\n",
       "      <td>2.0</td>\n",
       "      <td>0.0</td>\n",
       "      <td>1.0</td>\n",
       "      <td>0.0</td>\n",
       "      <td>1.0</td>\n",
       "      <td>7.0</td>\n",
       "      <td>...</td>\n",
       "      <td>4.0</td>\n",
       "      <td>4.0</td>\n",
       "      <td>2.0</td>\n",
       "      <td>3.0</td>\n",
       "      <td>2.0</td>\n",
       "      <td>3.0</td>\n",
       "      <td>4.0</td>\n",
       "      <td>4.0</td>\n",
       "      <td>4.0</td>\n",
       "      <td>4.0</td>\n",
       "    </tr>\n",
       "    <tr>\n",
       "      <th>2</th>\n",
       "      <td>3.0</td>\n",
       "      <td>4.0</td>\n",
       "      <td>15.58</td>\n",
       "      <td>2.0</td>\n",
       "      <td>0.0</td>\n",
       "      <td>0.0</td>\n",
       "      <td>0.0</td>\n",
       "      <td>0.0</td>\n",
       "      <td>0.0</td>\n",
       "      <td>9.0</td>\n",
       "      <td>...</td>\n",
       "      <td>2.0</td>\n",
       "      <td>3.0</td>\n",
       "      <td>3.0</td>\n",
       "      <td>3.0</td>\n",
       "      <td>2.0</td>\n",
       "      <td>3.0</td>\n",
       "      <td>3.0</td>\n",
       "      <td>2.0</td>\n",
       "      <td>2.0</td>\n",
       "      <td>2.0</td>\n",
       "    </tr>\n",
       "    <tr>\n",
       "      <th>3</th>\n",
       "      <td>4.0</td>\n",
       "      <td>4.0</td>\n",
       "      <td>15.42</td>\n",
       "      <td>2.0</td>\n",
       "      <td>2.0</td>\n",
       "      <td>0.0</td>\n",
       "      <td>0.0</td>\n",
       "      <td>0.0</td>\n",
       "      <td>0.0</td>\n",
       "      <td>4.0</td>\n",
       "      <td>...</td>\n",
       "      <td>1.0</td>\n",
       "      <td>2.0</td>\n",
       "      <td>1.0</td>\n",
       "      <td>3.0</td>\n",
       "      <td>4.0</td>\n",
       "      <td>1.0</td>\n",
       "      <td>4.0</td>\n",
       "      <td>1.0</td>\n",
       "      <td>2.0</td>\n",
       "      <td>1.0</td>\n",
       "    </tr>\n",
       "    <tr>\n",
       "      <th>4</th>\n",
       "      <td>5.0</td>\n",
       "      <td>2.0</td>\n",
       "      <td>15.75</td>\n",
       "      <td>2.0</td>\n",
       "      <td>1.0</td>\n",
       "      <td>0.0</td>\n",
       "      <td>0.0</td>\n",
       "      <td>0.0</td>\n",
       "      <td>0.0</td>\n",
       "      <td>8.0</td>\n",
       "      <td>...</td>\n",
       "      <td>2.0</td>\n",
       "      <td>2.0</td>\n",
       "      <td>1.0</td>\n",
       "      <td>3.0</td>\n",
       "      <td>4.0</td>\n",
       "      <td>3.0</td>\n",
       "      <td>4.0</td>\n",
       "      <td>3.0</td>\n",
       "      <td>2.0</td>\n",
       "      <td>2.0</td>\n",
       "    </tr>\n",
       "  </tbody>\n",
       "</table>\n",
       "<p>5 rows × 67 columns</p>\n",
       "</div>"
      ],
      "text/plain": [
       "   Unnamed: 0  ST352Q06JA    AGE  ST004D01T  DURECEC  REPEAT  MISSSC  \\\n",
       "0         1.0         2.0  15.58        1.0      2.0     0.0     0.0   \n",
       "1         2.0         2.0  16.17        2.0      2.0     0.0     1.0   \n",
       "2         3.0         4.0  15.58        2.0      0.0     0.0     0.0   \n",
       "3         4.0         4.0  15.42        2.0      2.0     0.0     0.0   \n",
       "4         5.0         2.0  15.75        2.0      1.0     0.0     0.0   \n",
       "\n",
       "   SKIPPING  TARDYSD  EXPECEDU  ...  ST353Q07JA  ST353Q08JA  ST348Q01JA  \\\n",
       "0       1.0      2.0       7.0  ...         2.0         2.0         4.0   \n",
       "1       0.0      1.0       7.0  ...         4.0         4.0         2.0   \n",
       "2       0.0      0.0       9.0  ...         2.0         3.0         3.0   \n",
       "3       0.0      0.0       4.0  ...         1.0         2.0         1.0   \n",
       "4       0.0      0.0       8.0  ...         2.0         2.0         1.0   \n",
       "\n",
       "   ST348Q02JA  ST348Q03JA  ST348Q04JA  ST348Q05JA  ST348Q06JA  ST348Q07JA  \\\n",
       "0         4.0         4.0         3.0         4.0         3.0         2.0   \n",
       "1         3.0         2.0         3.0         4.0         4.0         4.0   \n",
       "2         3.0         2.0         3.0         3.0         2.0         2.0   \n",
       "3         3.0         4.0         1.0         4.0         1.0         2.0   \n",
       "4         3.0         4.0         3.0         4.0         3.0         2.0   \n",
       "\n",
       "   ST348Q08JA  \n",
       "0         2.0  \n",
       "1         4.0  \n",
       "2         2.0  \n",
       "3         1.0  \n",
       "4         2.0  \n",
       "\n",
       "[5 rows x 67 columns]"
      ]
     },
     "execution_count": 13,
     "metadata": {},
     "output_type": "execute_result"
    }
   ],
   "source": [
    "# load data\n",
    "df = pd.read_csv(\"/home/jupyter/final_project/pisa_median.csv\")\n",
    "df.head()"
   ]
  },
  {
   "cell_type": "code",
   "execution_count": 18,
   "id": "675a37fa-43c8-4742-bd30-2fdbcf395d77",
   "metadata": {},
   "outputs": [],
   "source": [
    "# split into target and features\n",
    "y = df[\"ST352Q06JA\"].values\n",
    "X = df.drop([\"ST352Q06JA\"], axis=1).values"
   ]
  },
  {
   "cell_type": "code",
   "execution_count": 19,
   "id": "391d40f8-e426-4ef3-932b-760180bc9e15",
   "metadata": {},
   "outputs": [],
   "source": [
    "# split data into training and test\n",
    "X_train, X_test, y_train, y_test = train_test_split(X, \n",
    "                                                    y, \n",
    "                                                    test_size = 0.2, # common to use 20-30% of data as test set\n",
    "                                                    random_state = 2001, # set seed equivalent\n",
    "                                                    stratify = y) # churn amounts equal in train and test"
   ]
  },
  {
   "cell_type": "code",
   "execution_count": 22,
   "id": "2d5f962d-fec5-4934-88ed-422a6a8873c0",
   "metadata": {},
   "outputs": [
    {
     "name": "stdout",
     "output_type": "stream",
     "text": [
      "[[ 2.0870e+03  1.5670e+01  2.0000e+00  2.0000e+00  0.0000e+00  0.0000e+00\n",
      "   0.0000e+00  0.0000e+00  8.0000e+00  0.0000e+00  0.0000e+00  0.0000e+00\n",
      "   0.0000e+00  6.0000e+00  1.0000e+01  0.0000e+00  6.0000e+00 -7.1900e-02\n",
      "  -1.2280e+00  1.1246e+00  1.4750e-01 -7.1000e-03 -3.2030e-01  2.7474e+00\n",
      "  -9.7550e-01  1.8227e+00  5.2030e-01  2.3650e+00  3.8830e+00  1.1187e+00\n",
      "   4.9584e+00  1.3749e+00  2.4100e-02  1.3679e+00  3.1637e+00  1.7174e+00\n",
      "   1.7465e+00  1.0481e+00  1.0000e+00  1.0000e+00  1.0000e+00  2.0000e+00\n",
      "   1.0000e+00  2.0000e+00  1.0000e+00  3.0000e+00  3.0000e+00  4.0000e+00\n",
      "   3.0000e+00  4.0000e+00  2.0000e+00  2.0000e+00  1.0000e+00  1.0000e+00\n",
      "   1.0000e+00  2.0000e+00  2.0000e+00  2.0000e+00  2.0000e+00  3.0000e+00\n",
      "   3.0000e+00  3.0000e+00  4.0000e+00  4.0000e+00  2.0000e+00  1.0000e+00]\n",
      " [ 6.3190e+03  1.5830e+01  1.0000e+00  4.0000e+00  0.0000e+00  0.0000e+00\n",
      "   1.0000e+00  0.0000e+00  6.0000e+00  1.0000e+00  0.0000e+00  0.0000e+00\n",
      "   0.0000e+00  0.0000e+00  1.0000e+01  6.0000e+00  1.0000e+01 -6.6900e-02\n",
      "   1.8601e+00 -1.6365e+00  1.4750e-01 -7.1000e-03 -3.2030e-01 -1.2449e+00\n",
      "   6.5660e-01 -1.3517e+00 -5.5380e-01  4.4990e-01  2.6899e+00 -9.3250e-01\n",
      "   6.4420e-01  2.8451e+00 -5.6700e-01  3.2244e+00 -2.7210e-01 -1.1833e+00\n",
      "   1.5624e+00 -6.9000e-01  1.0000e+00  2.0000e+00  1.0000e+00  1.0000e+00\n",
      "   1.0000e+00  4.0000e+00  2.0000e+00  3.0000e+00  3.0000e+00  1.0000e+00\n",
      "   3.0000e+00  1.0000e+00  2.0000e+00  1.0000e+00  1.0000e+00  2.0000e+00\n",
      "   1.0000e+00  1.0000e+00  1.0000e+00  1.0000e+00  1.0000e+00  1.0000e+00\n",
      "   4.0000e+00  1.0000e+00  4.0000e+00  1.0000e+00  1.0000e+00  2.0000e+00]\n",
      " [ 9.4500e+02  1.5500e+01  1.0000e+00  2.0000e+00  0.0000e+00  1.0000e+00\n",
      "   1.0000e+00  1.0000e+00  6.0000e+00  1.0000e+00  0.0000e+00  0.0000e+00\n",
      "   0.0000e+00  4.0000e+00  2.0000e+00  0.0000e+00  7.0000e+00 -5.6710e-01\n",
      "  -2.0160e-01 -1.1042e+00  1.4750e-01 -7.1000e-03 -3.2030e-01 -6.3760e-01\n",
      "   2.5429e+00  1.4370e-01  3.4140e-01 -2.8710e-01  4.0889e+00  2.0984e+00\n",
      "  -5.3340e-01 -7.1080e-01 -2.2375e+00 -1.3650e-01 -7.2940e-01 -7.7660e-01\n",
      "   4.2970e-01  4.4090e-01  1.0000e+00  3.0000e+00  1.0000e+00  3.0000e+00\n",
      "   2.0000e+00  2.0000e+00  2.0000e+00  3.0000e+00  2.0000e+00  2.0000e+00\n",
      "   3.0000e+00  3.0000e+00  4.0000e+00  4.0000e+00  1.0000e+00  2.0000e+00\n",
      "   4.0000e+00  2.0000e+00  4.0000e+00  4.0000e+00  3.0000e+00  1.0000e+00\n",
      "   4.0000e+00  2.0000e+00  4.0000e+00  2.0000e+00  1.0000e+00  1.0000e+00]]\n",
      "[1. 4. 4.]\n"
     ]
    }
   ],
   "source": [
    "print(X_train[0:3])\n",
    "print(y_train[0:3])"
   ]
  },
  {
   "cell_type": "markdown",
   "id": "1450d848-ebd9-48a9-9b8e-242551d91eb5",
   "metadata": {},
   "source": [
    "# Conduct Oversampling with SMOTE on Training Data"
   ]
  },
  {
   "cell_type": "code",
   "execution_count": 32,
   "id": "1e7ad8c7-4386-457f-8a25-159910fbefef",
   "metadata": {},
   "outputs": [
    {
     "data": {
      "text/plain": [
       "array([   0, 1349, 2325, 2088, 3182])"
      ]
     },
     "execution_count": 32,
     "metadata": {},
     "output_type": "execute_result"
    }
   ],
   "source": [
    "# frequency of observations in training data pre-oversampling\n",
    "temp = y_train.astype(int)\n",
    "np.bincount(temp)"
   ]
  },
  {
   "cell_type": "code",
   "execution_count": 33,
   "id": "6a389d53-68bd-4ad8-89a9-4a75d731c139",
   "metadata": {},
   "outputs": [],
   "source": [
    "# conduct oversampling on training data using SMOTE\n",
    "# SMOTE overview here: https://www.youtube.com/watch?v=1Ic7GRtDrPM\n",
    "smote = SMOTE(random_state = 2001)\n",
    "X_smote, y_smote = smote.fit_resample(X_train, y_train)"
   ]
  },
  {
   "cell_type": "code",
   "execution_count": 37,
   "id": "396c233f-0aaf-4aa2-8561-d9faa7c5bced",
   "metadata": {},
   "outputs": [
    {
     "data": {
      "text/plain": [
       "array([   0, 3182, 3182, 3182, 3182])"
      ]
     },
     "execution_count": 37,
     "metadata": {},
     "output_type": "execute_result"
    }
   ],
   "source": [
    "temp2 = y_smote.astype(int)\n",
    "np.bincount(temp2)"
   ]
  },
  {
   "cell_type": "markdown",
   "id": "c2845616-759b-4744-aada-a056585bcf65",
   "metadata": {},
   "source": [
    "# Hyperparameter Tuning and Cross-Validation for xgboost"
   ]
  },
  {
   "cell_type": "markdown",
   "id": "7f463454-8329-4717-b9ac-cd8f79523877",
   "metadata": {
    "jp-MarkdownHeadingCollapsed": true
   },
   "source": [
    "# Testing Model"
   ]
  },
  {
   "cell_type": "markdown",
   "id": "6ea9cb21-bbd3-4f22-a184-40ab1b79f8c1",
   "metadata": {},
   "source": [
    "# Performance Metrics for Training and Test"
   ]
  }
 ],
 "metadata": {
  "kernelspec": {
   "display_name": "Python 3 (ipykernel)",
   "language": "python",
   "name": "python3"
  },
  "language_info": {
   "codemirror_mode": {
    "name": "ipython",
    "version": 3
   },
   "file_extension": ".py",
   "mimetype": "text/x-python",
   "name": "python",
   "nbconvert_exporter": "python",
   "pygments_lexer": "ipython3",
   "version": "3.11.6"
  }
 },
 "nbformat": 4,
 "nbformat_minor": 5
}
